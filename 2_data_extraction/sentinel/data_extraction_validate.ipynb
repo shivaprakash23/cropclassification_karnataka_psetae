{
 "cells": [
  {
   "cell_type": "markdown",
   "metadata": {},
   "source": [
    "This code is for extraction of data from GEE"
   ]
  },
  {
   "cell_type": "code",
   "execution_count": 1,
   "metadata": {},
   "outputs": [],
   "source": [
    "import ee\n",
    "import os\n",
    "import numpy as np\n",
    "import json\n",
    "from tqdm import tqdm\n",
    "from datetime import datetime\n",
    "from utils import *\n",
    "import warnings"
   ]
  },
  {
   "cell_type": "code",
   "execution_count": 2,
   "metadata": {},
   "outputs": [],
   "source": [
    "# Trigger the authentication flow\n",
    "ee.Authenticate()\n",
    "\n",
    "# Initialize library\n",
    "ee.Initialize(project='ee-shivaprakashssy-psetae-ka28')\n"
   ]
  },
  {
   "cell_type": "code",
   "execution_count": 3,
   "metadata": {},
   "outputs": [],
   "source": [
    "def prepare_dataset(rpg_file, label_names, id_field, output_dir, col_id, start_date, end_date, num_per_month,cloud_cover, addNDVI, footprint_id, speckle_filter, kernel_size):\n",
    "    warnings.filterwarnings('error', category=DeprecationWarning)\n",
    "    start = datetime.now()\n",
    "\n",
    "    # prepare output directory\n",
    "    prepare_output(output_dir)\n",
    "\n",
    "    # get parcel geometries & labels\n",
    "    polygons, lab_rpg = parse_rpg(rpg_file, label_names, id_field)\n",
    "\n",
    "    # dict of global metadata to store parcel dates/labels\n",
    "    dates = {k:[] for k in list(polygons.keys())}\n",
    "    labels = dict([(l, {}) for l in lab_rpg.keys()])\n",
    "    #for geometric feature\n",
    "    geom_feats = {k: {} for k in list(polygons.keys())}\n",
    "    print(\"dictionary created\")\n",
    "    # counter for ignored parcels\n",
    "    ignored = 0\n",
    "\n",
    "    # iterate parcels\n",
    "    for parcel_id, geometry in tqdm(polygons.items()):\n",
    "        \n",
    "        # get collection\n",
    "        geometry = ee.Geometry.Polygon(geometry)\n",
    "        #print(geometry)\n",
    "        collection = get_collection(geometry, col_id, start_date, end_date, num_per_month,cloud_cover, addNDVI, footprint_id, speckle_filter, kernel_size)\n",
    "\n",
    "        # global normalize using 2nd & 98th percentile\n",
    "        collection = collection.map(normalize)\n",
    "        #print(collection)\n",
    "        \n",
    "        # get time series array\n",
    "        collection = collection.map(lambda img: img.set('temporal', ee.Image(img).reduceRegion(reducer = ee.Reducer.toList(), geometry= geometry, scale=10).values()))\n",
    "        print(\"collection done\")\n",
    "        # iterate collection and return array of TxCxN. length of time series X number of channels X number of pixels in parcel\n",
    "        try:\n",
    "            # query pre-selected collection & make numpy array\n",
    "            print(\"in try block\")            \n",
    "            np_all_dates = np.array(collection.aggregate_array('temporal').getInfo())\n",
    "            print(\"Info on temporal\")\n",
    "            #print(collection.aggregate_array('temporal').getInfo())\n",
    "            #print(np_all_dates.shape[-1])\n",
    "            assert np_all_dates.shape[-1] > 0 \n",
    "            \n",
    "\n",
    "            \n",
    "            #perimeter, shape_ratio, bbox = geom_features(geometry)\n",
    "            #geom_feats[str(parcel_id)] = {\n",
    "            #\"perimeter\": perimeter,\n",
    "            #\"shape_ratio\": shape_ratio,\n",
    "            #\"bbox\": bbox\n",
    "            #}\n",
    "\n",
    "            \n",
    "        except:\n",
    "            print('Error in parcel --------------------> {}'.format(parcel_id))\n",
    "            with open(os.path.join(output_dir, 'META', 'ignored_parcels.json'), 'a+') as file:\n",
    "                file.write(json.dumps(int(parcel_id))+'\\n')\n",
    "            ignored += 1\n",
    "            \n",
    "        else:\n",
    "            # create date metadata\n",
    "            date_series = collection.aggregate_array('doa').getInfo()\n",
    "            dates[str(parcel_id)] = date_series\n",
    "\n",
    "            # save lABELS\n",
    "            for l in labels.keys():\n",
    "                labels[l][parcel_id] = int(lab_rpg[l][parcel_id])\n",
    "            \n",
    "            #create geom_features json file. The data has been wrapped in the [] as the code in the dataset.py needs lists not the individual numbers\n",
    "            perimeter, shape_ratio, bbox = geom_features(geometry)\n",
    "            geom_feats[str(parcel_id)] = [int(perimeter)]\n",
    "            print(geom_feats[str(parcel_id)])\n",
    "            \n",
    "            # save .npy \n",
    "            np.save(os.path.join(output_dir, 'DATA', str(parcel_id)), np_all_dates)\n",
    "\n",
    "\n",
    "        # save global metadata (parcel dates and labels)\n",
    "        with open(os.path.join(output_dir, 'META', 'geomfeat.json'), 'w') as file:\n",
    "            file.write(json.dumps(geom_feats, indent=4))\n",
    "\n",
    "        with open(os.path.join(output_dir, 'META', 'labels.json'), 'w') as file:\n",
    "            file.write(json.dumps(labels, indent=4))\n",
    "\n",
    "        with open(os.path.join(output_dir, 'META', 'dates.json'), 'w') as file:\n",
    "            file.write(json.dumps(dates, indent=4))\n",
    "\n",
    "\n",
    "    # get processing time\n",
    "    end = datetime.now()\n",
    "    print('total ignored parcels', ignored)\n",
    "    print(f\"\\n processing time -> {end - start}\")"
   ]
  },
  {
   "cell_type": "code",
   "execution_count": 4,
   "metadata": {},
   "outputs": [],
   "source": [
    "rpg_file = 'validation_new_wgs84.geojson'\n",
    "label_names = [\"CODE_GROUP\"]\n",
    "id_field = 'ID_PARCEL'\n",
    "output_dir = 'D:\\\\Semester4\\\\ProjectVijayapur\\\\psetae\\\\GEE-to-NPY-master\\\\data_extraction\\\\sentinel\\\\s2\\\\s2_cloud100\\\\validationdirectory'\n",
    "#col_id = 'COPERNICUS/S1_GRD'\n",
    "col_id = 'COPERNICUS/S2_SR_HARMONIZED'\n",
    "#footprint_id = [63]\n",
    "footprint_id =['43QEU','43QFU']\n",
    "start_date = '2024-09-01'\n",
    "end_date = '2025-03-31'\n",
    "num_per_month = 100 # You can set this to whatever value you want\n",
    "cloud_cover = 100  # You can set this to whatever value you want\n",
    "addNDVI = False  # Set to True or False\n",
    "speckle_filter = True  # Set to True or False\n",
    "kernel_size = 3"
   ]
  },
  {
   "cell_type": "code",
   "execution_count": 5,
   "metadata": {},
   "outputs": [
    {
     "name": "stdout",
     "output_type": "stream",
     "text": [
      "Reading RPG . . .\n",
      "reading polygons\n"
     ]
    },
    {
     "name": "stderr",
     "output_type": "stream",
     "text": [
      "100%|███████████████████████████████████████████████████████████████████████████████████████████████████████████████████████████████████████| 536/536 [00:00<00:00, 901783.77it/s]\n"
     ]
    },
    {
     "name": "stdout",
     "output_type": "stream",
     "text": [
      "dictionary created\n"
     ]
    },
    {
     "name": "stderr",
     "output_type": "stream",
     "text": [
      "  0%|                                                                                                                                                     | 0/536 [00:00<?, ?it/s]"
     ]
    },
    {
     "name": "stdout",
     "output_type": "stream",
     "text": [
      "col_id that is passed COPERNICUS/S1_GRD\n",
      "After s1 and s2 :\n",
      "After overlap:\n",
      "After num_per_month:\n",
      "collection done\n",
      "in try block\n",
      "Info on temporal\n"
     ]
    },
    {
     "name": "stderr",
     "output_type": "stream",
     "text": [
      "  0%|▎                                                                                                                                            | 1/536 [00:05<52:18,  5.87s/it]"
     ]
    },
    {
     "name": "stdout",
     "output_type": "stream",
     "text": [
      "[358]\n",
      "col_id that is passed COPERNICUS/S1_GRD\n",
      "After s1 and s2 :\n",
      "After overlap:\n",
      "After num_per_month:\n",
      "collection done\n",
      "in try block\n",
      "Info on temporal\n"
     ]
    },
    {
     "name": "stderr",
     "output_type": "stream",
     "text": [
      "  0%|▌                                                                                                                                            | 2/536 [00:12<54:36,  6.14s/it]"
     ]
    },
    {
     "name": "stdout",
     "output_type": "stream",
     "text": [
      "[536]\n",
      "col_id that is passed COPERNICUS/S1_GRD\n",
      "After s1 and s2 :\n",
      "After overlap:\n",
      "After num_per_month:\n",
      "collection done\n",
      "in try block\n",
      "Info on temporal\n"
     ]
    },
    {
     "name": "stderr",
     "output_type": "stream",
     "text": [
      "  1%|▊                                                                                                                                            | 3/536 [00:18<55:16,  6.22s/it]"
     ]
    },
    {
     "name": "stdout",
     "output_type": "stream",
     "text": [
      "[433]\n",
      "col_id that is passed COPERNICUS/S1_GRD\n",
      "After s1 and s2 :\n",
      "After overlap:\n",
      "After num_per_month:\n",
      "collection done\n",
      "in try block\n",
      "Info on temporal\n"
     ]
    },
    {
     "name": "stderr",
     "output_type": "stream",
     "text": [
      "  1%|█                                                                                                                                          | 4/536 [00:26<1:01:44,  6.96s/it]"
     ]
    },
    {
     "name": "stdout",
     "output_type": "stream",
     "text": [
      "[692]\n",
      "col_id that is passed COPERNICUS/S1_GRD\n",
      "After s1 and s2 :\n",
      "After overlap:\n",
      "After num_per_month:\n",
      "collection done\n",
      "in try block\n",
      "Info on temporal\n"
     ]
    },
    {
     "name": "stderr",
     "output_type": "stream",
     "text": [
      "  1%|█▎                                                                                                                                           | 5/536 [00:32<57:26,  6.49s/it]"
     ]
    },
    {
     "name": "stdout",
     "output_type": "stream",
     "text": [
      "[434]\n",
      "col_id that is passed COPERNICUS/S1_GRD\n",
      "After s1 and s2 :\n",
      "After overlap:\n",
      "After num_per_month:\n",
      "collection done\n",
      "in try block\n",
      "Info on temporal\n"
     ]
    },
    {
     "name": "stderr",
     "output_type": "stream",
     "text": [
      "  1%|█▌                                                                                                                                         | 6/536 [00:39<1:00:02,  6.80s/it]"
     ]
    },
    {
     "name": "stdout",
     "output_type": "stream",
     "text": [
      "[532]\n",
      "col_id that is passed COPERNICUS/S1_GRD\n",
      "After s1 and s2 :\n",
      "After overlap:\n",
      "After num_per_month:\n",
      "collection done\n",
      "in try block\n",
      "Info on temporal\n"
     ]
    },
    {
     "name": "stderr",
     "output_type": "stream",
     "text": [
      "  1%|█▊                                                                                                                                           | 7/536 [00:45<58:12,  6.60s/it]"
     ]
    },
    {
     "name": "stdout",
     "output_type": "stream",
     "text": [
      "[412]\n",
      "col_id that is passed COPERNICUS/S1_GRD\n",
      "After s1 and s2 :\n",
      "After overlap:\n",
      "After num_per_month:\n",
      "collection done\n",
      "in try block\n",
      "Info on temporal\n"
     ]
    },
    {
     "name": "stderr",
     "output_type": "stream",
     "text": [
      "  1%|██                                                                                                                                           | 8/536 [00:52<58:01,  6.59s/it]"
     ]
    },
    {
     "name": "stdout",
     "output_type": "stream",
     "text": [
      "[634]\n",
      "col_id that is passed COPERNICUS/S1_GRD\n",
      "After s1 and s2 :\n",
      "After overlap:\n",
      "After num_per_month:\n",
      "collection done\n",
      "in try block\n",
      "Info on temporal\n"
     ]
    },
    {
     "name": "stderr",
     "output_type": "stream",
     "text": [
      "  2%|██▎                                                                                                                                          | 9/536 [00:59<59:03,  6.72s/it]"
     ]
    },
    {
     "name": "stdout",
     "output_type": "stream",
     "text": [
      "[500]\n",
      "col_id that is passed COPERNICUS/S1_GRD\n",
      "After s1 and s2 :\n",
      "After overlap:\n",
      "After num_per_month:\n",
      "collection done\n",
      "in try block\n",
      "Info on temporal\n"
     ]
    },
    {
     "name": "stderr",
     "output_type": "stream",
     "text": [
      "  2%|██▌                                                                                                                                         | 10/536 [01:05<58:23,  6.66s/it]"
     ]
    },
    {
     "name": "stdout",
     "output_type": "stream",
     "text": [
      "[429]\n",
      "col_id that is passed COPERNICUS/S1_GRD\n",
      "After s1 and s2 :\n",
      "After overlap:\n",
      "After num_per_month:\n",
      "collection done\n",
      "in try block\n",
      "Info on temporal\n"
     ]
    },
    {
     "name": "stderr",
     "output_type": "stream",
     "text": [
      "  2%|██▊                                                                                                                                       | 11/536 [01:13<1:01:55,  7.08s/it]"
     ]
    },
    {
     "name": "stdout",
     "output_type": "stream",
     "text": [
      "[617]\n",
      "col_id that is passed COPERNICUS/S1_GRD\n",
      "After s1 and s2 :\n",
      "After overlap:\n",
      "After num_per_month:\n",
      "collection done\n",
      "in try block\n",
      "Info on temporal\n"
     ]
    },
    {
     "name": "stderr",
     "output_type": "stream",
     "text": [
      "  2%|███                                                                                                                                       | 12/536 [01:21<1:01:59,  7.10s/it]"
     ]
    },
    {
     "name": "stdout",
     "output_type": "stream",
     "text": [
      "[627]\n",
      "col_id that is passed COPERNICUS/S1_GRD\n",
      "After s1 and s2 :\n",
      "After overlap:\n",
      "After num_per_month:\n",
      "collection done\n",
      "in try block\n",
      "Info on temporal\n"
     ]
    },
    {
     "name": "stderr",
     "output_type": "stream",
     "text": [
      "  2%|███▍                                                                                                                                        | 13/536 [01:26<57:33,  6.60s/it]"
     ]
    },
    {
     "name": "stdout",
     "output_type": "stream",
     "text": [
      "[254]\n",
      "col_id that is passed COPERNICUS/S1_GRD\n",
      "After s1 and s2 :\n",
      "After overlap:\n",
      "After num_per_month:\n",
      "collection done\n",
      "in try block\n",
      "Info on temporal\n"
     ]
    },
    {
     "name": "stderr",
     "output_type": "stream",
     "text": [
      "  3%|███▋                                                                                                                                        | 14/536 [01:32<54:20,  6.25s/it]"
     ]
    },
    {
     "name": "stdout",
     "output_type": "stream",
     "text": [
      "[596]\n",
      "col_id that is passed COPERNICUS/S1_GRD\n",
      "After s1 and s2 :\n",
      "After overlap:\n",
      "After num_per_month:\n",
      "collection done\n",
      "in try block\n",
      "Info on temporal\n"
     ]
    },
    {
     "name": "stderr",
     "output_type": "stream",
     "text": [
      "  3%|███▉                                                                                                                                        | 15/536 [01:35<47:39,  5.49s/it]"
     ]
    },
    {
     "name": "stdout",
     "output_type": "stream",
     "text": [
      "[286]\n",
      "col_id that is passed COPERNICUS/S1_GRD\n",
      "After s1 and s2 :\n",
      "After overlap:\n",
      "After num_per_month:\n",
      "collection done\n",
      "in try block\n",
      "Info on temporal\n"
     ]
    },
    {
     "name": "stderr",
     "output_type": "stream",
     "text": [
      "  3%|████▏                                                                                                                                       | 16/536 [01:43<52:59,  6.11s/it]"
     ]
    },
    {
     "name": "stdout",
     "output_type": "stream",
     "text": [
      "[752]\n",
      "col_id that is passed COPERNICUS/S1_GRD\n",
      "After s1 and s2 :\n",
      "After overlap:\n",
      "After num_per_month:\n",
      "collection done\n",
      "in try block\n",
      "Info on temporal\n"
     ]
    },
    {
     "name": "stderr",
     "output_type": "stream",
     "text": [
      "  3%|████▍                                                                                                                                       | 17/536 [01:47<48:13,  5.58s/it]"
     ]
    },
    {
     "name": "stdout",
     "output_type": "stream",
     "text": [
      "[535]\n",
      "col_id that is passed COPERNICUS/S1_GRD\n",
      "After s1 and s2 :\n",
      "After overlap:\n",
      "After num_per_month:\n",
      "collection done\n",
      "in try block\n",
      "Info on temporal\n"
     ]
    },
    {
     "name": "stderr",
     "output_type": "stream",
     "text": [
      "  3%|████▋                                                                                                                                       | 18/536 [01:53<48:14,  5.59s/it]"
     ]
    },
    {
     "name": "stdout",
     "output_type": "stream",
     "text": [
      "[594]\n",
      "col_id that is passed COPERNICUS/S1_GRD\n",
      "After s1 and s2 :\n",
      "After overlap:\n",
      "After num_per_month:\n",
      "collection done\n",
      "in try block\n",
      "Info on temporal\n"
     ]
    },
    {
     "name": "stderr",
     "output_type": "stream",
     "text": [
      "  4%|████▉                                                                                                                                       | 19/536 [02:00<51:29,  5.97s/it]"
     ]
    },
    {
     "name": "stdout",
     "output_type": "stream",
     "text": [
      "[362]\n",
      "col_id that is passed COPERNICUS/S1_GRD\n",
      "After s1 and s2 :\n",
      "After overlap:\n",
      "After num_per_month:\n",
      "collection done\n",
      "in try block\n",
      "Info on temporal\n"
     ]
    },
    {
     "name": "stderr",
     "output_type": "stream",
     "text": [
      "  4%|█████▏                                                                                                                                      | 20/536 [02:06<52:26,  6.10s/it]"
     ]
    },
    {
     "name": "stdout",
     "output_type": "stream",
     "text": [
      "[388]\n",
      "col_id that is passed COPERNICUS/S1_GRD\n",
      "After s1 and s2 :\n",
      "After overlap:\n",
      "After num_per_month:\n",
      "collection done\n",
      "in try block\n",
      "Info on temporal\n"
     ]
    },
    {
     "name": "stderr",
     "output_type": "stream",
     "text": [
      "  4%|█████▍                                                                                                                                      | 21/536 [02:11<48:24,  5.64s/it]"
     ]
    },
    {
     "name": "stdout",
     "output_type": "stream",
     "text": [
      "[426]\n",
      "col_id that is passed COPERNICUS/S1_GRD\n",
      "After s1 and s2 :\n",
      "After overlap:\n",
      "After num_per_month:\n",
      "collection done\n",
      "in try block\n",
      "Info on temporal\n"
     ]
    },
    {
     "name": "stderr",
     "output_type": "stream",
     "text": [
      "  4%|█████▋                                                                                                                                      | 22/536 [02:15<46:23,  5.42s/it]"
     ]
    },
    {
     "name": "stdout",
     "output_type": "stream",
     "text": [
      "[558]\n",
      "col_id that is passed COPERNICUS/S1_GRD\n",
      "After s1 and s2 :\n",
      "After overlap:\n",
      "After num_per_month:\n",
      "collection done\n",
      "in try block\n",
      "Info on temporal\n"
     ]
    },
    {
     "name": "stderr",
     "output_type": "stream",
     "text": [
      "  4%|██████                                                                                                                                      | 23/536 [02:20<43:40,  5.11s/it]"
     ]
    },
    {
     "name": "stdout",
     "output_type": "stream",
     "text": [
      "[925]\n",
      "col_id that is passed COPERNICUS/S1_GRD\n",
      "After s1 and s2 :\n",
      "After overlap:\n",
      "After num_per_month:\n",
      "collection done\n",
      "in try block\n",
      "Info on temporal\n"
     ]
    },
    {
     "name": "stderr",
     "output_type": "stream",
     "text": [
      "  4%|██████▎                                                                                                                                     | 24/536 [02:25<43:27,  5.09s/it]"
     ]
    },
    {
     "name": "stdout",
     "output_type": "stream",
     "text": [
      "[481]\n",
      "col_id that is passed COPERNICUS/S1_GRD\n",
      "After s1 and s2 :\n",
      "After overlap:\n",
      "After num_per_month:\n",
      "collection done\n",
      "in try block\n",
      "Info on temporal\n"
     ]
    },
    {
     "name": "stderr",
     "output_type": "stream",
     "text": [
      "  5%|██████▌                                                                                                                                     | 25/536 [02:34<52:19,  6.14s/it]"
     ]
    },
    {
     "name": "stdout",
     "output_type": "stream",
     "text": [
      "[566]\n",
      "col_id that is passed COPERNICUS/S1_GRD\n",
      "After s1 and s2 :\n",
      "After overlap:\n",
      "After num_per_month:\n",
      "collection done\n",
      "in try block\n",
      "Info on temporal\n"
     ]
    },
    {
     "name": "stderr",
     "output_type": "stream",
     "text": [
      "  5%|██████▊                                                                                                                                     | 26/536 [02:40<51:58,  6.11s/it]"
     ]
    },
    {
     "name": "stdout",
     "output_type": "stream",
     "text": [
      "[696]\n",
      "col_id that is passed COPERNICUS/S1_GRD\n",
      "After s1 and s2 :\n",
      "After overlap:\n",
      "After num_per_month:\n",
      "collection done\n",
      "in try block\n",
      "Info on temporal\n"
     ]
    },
    {
     "name": "stderr",
     "output_type": "stream",
     "text": [
      "  5%|███████                                                                                                                                     | 27/536 [02:45<51:12,  6.04s/it]"
     ]
    },
    {
     "name": "stdout",
     "output_type": "stream",
     "text": [
      "[368]\n",
      "col_id that is passed COPERNICUS/S1_GRD\n",
      "After s1 and s2 :\n",
      "After overlap:\n",
      "After num_per_month:\n",
      "collection done\n",
      "in try block\n",
      "Info on temporal\n"
     ]
    },
    {
     "name": "stderr",
     "output_type": "stream",
     "text": [
      "  5%|███████▎                                                                                                                                    | 28/536 [02:51<48:55,  5.78s/it]"
     ]
    },
    {
     "name": "stdout",
     "output_type": "stream",
     "text": [
      "[532]\n",
      "col_id that is passed COPERNICUS/S1_GRD\n",
      "After s1 and s2 :\n",
      "After overlap:\n",
      "After num_per_month:\n",
      "collection done\n",
      "in try block\n",
      "Info on temporal\n"
     ]
    },
    {
     "name": "stderr",
     "output_type": "stream",
     "text": [
      "  5%|███████▌                                                                                                                                    | 29/536 [02:57<50:00,  5.92s/it]"
     ]
    },
    {
     "name": "stdout",
     "output_type": "stream",
     "text": [
      "[555]\n",
      "col_id that is passed COPERNICUS/S1_GRD\n",
      "After s1 and s2 :\n",
      "After overlap:\n",
      "After num_per_month:\n",
      "collection done\n",
      "in try block\n",
      "Info on temporal\n"
     ]
    },
    {
     "name": "stderr",
     "output_type": "stream",
     "text": [
      "  6%|███████▊                                                                                                                                    | 30/536 [03:02<47:08,  5.59s/it]"
     ]
    },
    {
     "name": "stdout",
     "output_type": "stream",
     "text": [
      "[704]\n",
      "col_id that is passed COPERNICUS/S1_GRD\n",
      "After s1 and s2 :\n",
      "After overlap:\n",
      "After num_per_month:\n",
      "collection done\n",
      "in try block\n",
      "Info on temporal\n"
     ]
    },
    {
     "name": "stderr",
     "output_type": "stream",
     "text": [
      "  6%|████████                                                                                                                                    | 31/536 [03:10<52:53,  6.28s/it]"
     ]
    },
    {
     "name": "stdout",
     "output_type": "stream",
     "text": [
      "[683]\n",
      "col_id that is passed COPERNICUS/S1_GRD\n",
      "After s1 and s2 :\n",
      "After overlap:\n",
      "After num_per_month:\n",
      "collection done\n",
      "in try block\n",
      "Info on temporal\n"
     ]
    },
    {
     "name": "stderr",
     "output_type": "stream",
     "text": [
      "  6%|████████▎                                                                                                                                   | 32/536 [03:14<47:27,  5.65s/it]"
     ]
    },
    {
     "name": "stdout",
     "output_type": "stream",
     "text": [
      "[490]\n",
      "col_id that is passed COPERNICUS/S1_GRD\n",
      "After s1 and s2 :\n",
      "After overlap:\n",
      "After num_per_month:\n",
      "collection done\n",
      "in try block\n",
      "Info on temporal\n"
     ]
    },
    {
     "name": "stderr",
     "output_type": "stream",
     "text": [
      "  6%|████████▌                                                                                                                                   | 33/536 [03:17<42:33,  5.08s/it]"
     ]
    },
    {
     "name": "stdout",
     "output_type": "stream",
     "text": [
      "[815]\n",
      "col_id that is passed COPERNICUS/S1_GRD\n",
      "After s1 and s2 :\n",
      "After overlap:\n",
      "After num_per_month:\n",
      "collection done\n",
      "in try block\n",
      "Info on temporal\n"
     ]
    },
    {
     "name": "stderr",
     "output_type": "stream",
     "text": [
      "  6%|████████▉                                                                                                                                   | 34/536 [03:24<45:32,  5.44s/it]"
     ]
    },
    {
     "name": "stdout",
     "output_type": "stream",
     "text": [
      "[717]\n",
      "col_id that is passed COPERNICUS/S1_GRD\n",
      "After s1 and s2 :\n",
      "After overlap:\n",
      "After num_per_month:\n",
      "collection done\n",
      "in try block\n",
      "Info on temporal\n"
     ]
    },
    {
     "name": "stderr",
     "output_type": "stream",
     "text": [
      "  7%|█████████▏                                                                                                                                  | 35/536 [03:29<45:33,  5.46s/it]"
     ]
    },
    {
     "name": "stdout",
     "output_type": "stream",
     "text": [
      "[582]\n",
      "col_id that is passed COPERNICUS/S1_GRD\n",
      "After s1 and s2 :\n",
      "After overlap:\n",
      "After num_per_month:\n",
      "collection done\n",
      "in try block\n",
      "Info on temporal\n"
     ]
    },
    {
     "name": "stderr",
     "output_type": "stream",
     "text": [
      "  7%|█████████▍                                                                                                                                  | 36/536 [03:33<42:11,  5.06s/it]"
     ]
    },
    {
     "name": "stdout",
     "output_type": "stream",
     "text": [
      "[390]\n",
      "col_id that is passed COPERNICUS/S1_GRD\n",
      "After s1 and s2 :\n",
      "After overlap:\n",
      "After num_per_month:\n",
      "collection done\n",
      "in try block\n",
      "Info on temporal\n"
     ]
    },
    {
     "name": "stderr",
     "output_type": "stream",
     "text": [
      "  7%|█████████▋                                                                                                                                  | 37/536 [03:38<39:43,  4.78s/it]"
     ]
    },
    {
     "name": "stdout",
     "output_type": "stream",
     "text": [
      "[463]\n",
      "col_id that is passed COPERNICUS/S1_GRD\n",
      "After s1 and s2 :\n",
      "After overlap:\n",
      "After num_per_month:\n",
      "collection done\n",
      "in try block\n",
      "Info on temporal\n"
     ]
    },
    {
     "name": "stderr",
     "output_type": "stream",
     "text": [
      "  7%|█████████▉                                                                                                                                  | 38/536 [03:42<38:08,  4.59s/it]"
     ]
    },
    {
     "name": "stdout",
     "output_type": "stream",
     "text": [
      "[625]\n",
      "col_id that is passed COPERNICUS/S1_GRD\n",
      "After s1 and s2 :\n",
      "After overlap:\n",
      "After num_per_month:\n",
      "collection done\n",
      "in try block\n",
      "Info on temporal\n"
     ]
    },
    {
     "name": "stderr",
     "output_type": "stream",
     "text": [
      "  7%|██████████▏                                                                                                                                 | 39/536 [03:46<36:40,  4.43s/it]"
     ]
    },
    {
     "name": "stdout",
     "output_type": "stream",
     "text": [
      "[736]\n",
      "col_id that is passed COPERNICUS/S1_GRD\n",
      "After s1 and s2 :\n",
      "After overlap:\n",
      "After num_per_month:\n",
      "collection done\n",
      "in try block\n",
      "Info on temporal\n"
     ]
    },
    {
     "name": "stderr",
     "output_type": "stream",
     "text": [
      "  7%|██████████▍                                                                                                                                 | 40/536 [03:52<41:12,  4.98s/it]"
     ]
    },
    {
     "name": "stdout",
     "output_type": "stream",
     "text": [
      "[399]\n",
      "col_id that is passed COPERNICUS/S1_GRD\n",
      "After s1 and s2 :\n",
      "After overlap:\n",
      "After num_per_month:\n",
      "collection done\n",
      "in try block\n",
      "Info on temporal\n"
     ]
    },
    {
     "name": "stderr",
     "output_type": "stream",
     "text": [
      "  8%|██████████▋                                                                                                                                 | 41/536 [03:58<43:19,  5.25s/it]"
     ]
    },
    {
     "name": "stdout",
     "output_type": "stream",
     "text": [
      "[651]\n",
      "col_id that is passed COPERNICUS/S1_GRD\n",
      "After s1 and s2 :\n",
      "After overlap:\n",
      "After num_per_month:\n",
      "collection done\n",
      "in try block\n",
      "Info on temporal\n"
     ]
    },
    {
     "name": "stderr",
     "output_type": "stream",
     "text": [
      "  8%|██████████▉                                                                                                                                 | 42/536 [04:03<42:40,  5.18s/it]"
     ]
    },
    {
     "name": "stdout",
     "output_type": "stream",
     "text": [
      "[520]\n",
      "col_id that is passed COPERNICUS/S1_GRD\n",
      "After s1 and s2 :\n",
      "After overlap:\n",
      "After num_per_month:\n",
      "collection done\n",
      "in try block\n",
      "Info on temporal\n"
     ]
    },
    {
     "name": "stderr",
     "output_type": "stream",
     "text": [
      "  8%|███████████▏                                                                                                                                | 43/536 [04:09<44:12,  5.38s/it]"
     ]
    },
    {
     "name": "stdout",
     "output_type": "stream",
     "text": [
      "[414]\n",
      "col_id that is passed COPERNICUS/S1_GRD\n",
      "After s1 and s2 :\n",
      "After overlap:\n",
      "After num_per_month:\n",
      "collection done\n",
      "in try block\n",
      "Info on temporal\n"
     ]
    },
    {
     "name": "stderr",
     "output_type": "stream",
     "text": [
      "  8%|███████████▍                                                                                                                                | 44/536 [04:13<42:08,  5.14s/it]"
     ]
    },
    {
     "name": "stdout",
     "output_type": "stream",
     "text": [
      "[369]\n",
      "col_id that is passed COPERNICUS/S1_GRD\n",
      "After s1 and s2 :\n",
      "After overlap:\n",
      "After num_per_month:\n",
      "collection done\n",
      "in try block\n",
      "Info on temporal\n"
     ]
    },
    {
     "name": "stderr",
     "output_type": "stream",
     "text": [
      "  8%|███████████▊                                                                                                                                | 45/536 [04:19<42:11,  5.15s/it]"
     ]
    },
    {
     "name": "stdout",
     "output_type": "stream",
     "text": [
      "[697]\n",
      "col_id that is passed COPERNICUS/S1_GRD\n",
      "After s1 and s2 :\n",
      "After overlap:\n",
      "After num_per_month:\n",
      "collection done\n",
      "in try block\n",
      "Info on temporal\n"
     ]
    },
    {
     "name": "stderr",
     "output_type": "stream",
     "text": [
      "  9%|████████████                                                                                                                                | 46/536 [04:24<42:27,  5.20s/it]"
     ]
    },
    {
     "name": "stdout",
     "output_type": "stream",
     "text": [
      "[346]\n",
      "col_id that is passed COPERNICUS/S1_GRD\n",
      "After s1 and s2 :\n",
      "After overlap:\n",
      "After num_per_month:\n",
      "collection done\n",
      "in try block\n",
      "Info on temporal\n"
     ]
    },
    {
     "name": "stderr",
     "output_type": "stream",
     "text": [
      "  9%|████████████▎                                                                                                                               | 47/536 [04:28<40:01,  4.91s/it]"
     ]
    },
    {
     "name": "stdout",
     "output_type": "stream",
     "text": [
      "[349]\n",
      "col_id that is passed COPERNICUS/S1_GRD\n",
      "After s1 and s2 :\n",
      "After overlap:\n",
      "After num_per_month:\n",
      "collection done\n",
      "in try block\n",
      "Info on temporal\n"
     ]
    },
    {
     "name": "stderr",
     "output_type": "stream",
     "text": [
      "  9%|████████████▌                                                                                                                               | 48/536 [04:32<38:08,  4.69s/it]"
     ]
    },
    {
     "name": "stdout",
     "output_type": "stream",
     "text": [
      "[479]\n",
      "col_id that is passed COPERNICUS/S1_GRD\n",
      "After s1 and s2 :\n",
      "After overlap:\n",
      "After num_per_month:\n",
      "collection done\n",
      "in try block\n",
      "Info on temporal\n"
     ]
    },
    {
     "name": "stderr",
     "output_type": "stream",
     "text": [
      "  9%|████████████▊                                                                                                                               | 49/536 [04:36<35:09,  4.33s/it]"
     ]
    },
    {
     "name": "stdout",
     "output_type": "stream",
     "text": [
      "[385]\n",
      "col_id that is passed COPERNICUS/S1_GRD\n",
      "After s1 and s2 :\n",
      "After overlap:\n",
      "After num_per_month:\n",
      "collection done\n",
      "in try block\n",
      "Info on temporal\n"
     ]
    },
    {
     "name": "stderr",
     "output_type": "stream",
     "text": [
      "  9%|█████████████                                                                                                                               | 50/536 [04:40<33:55,  4.19s/it]"
     ]
    },
    {
     "name": "stdout",
     "output_type": "stream",
     "text": [
      "[307]\n",
      "col_id that is passed COPERNICUS/S1_GRD\n",
      "After s1 and s2 :\n",
      "After overlap:\n",
      "After num_per_month:\n",
      "collection done\n",
      "in try block\n",
      "Info on temporal\n"
     ]
    },
    {
     "name": "stderr",
     "output_type": "stream",
     "text": [
      " 10%|█████████████▎                                                                                                                              | 51/536 [04:43<31:25,  3.89s/it]"
     ]
    },
    {
     "name": "stdout",
     "output_type": "stream",
     "text": [
      "[379]\n",
      "col_id that is passed COPERNICUS/S1_GRD\n",
      "After s1 and s2 :\n",
      "After overlap:\n",
      "After num_per_month:\n",
      "collection done\n",
      "in try block\n",
      "Info on temporal\n"
     ]
    },
    {
     "name": "stderr",
     "output_type": "stream",
     "text": [
      " 10%|█████████████▌                                                                                                                              | 52/536 [04:47<32:24,  4.02s/it]"
     ]
    },
    {
     "name": "stdout",
     "output_type": "stream",
     "text": [
      "[577]\n",
      "col_id that is passed COPERNICUS/S1_GRD\n",
      "After s1 and s2 :\n",
      "After overlap:\n",
      "After num_per_month:\n",
      "collection done\n",
      "in try block\n",
      "Info on temporal\n"
     ]
    },
    {
     "name": "stderr",
     "output_type": "stream",
     "text": [
      " 10%|█████████████▊                                                                                                                              | 53/536 [04:53<36:13,  4.50s/it]"
     ]
    },
    {
     "name": "stdout",
     "output_type": "stream",
     "text": [
      "[415]\n",
      "col_id that is passed COPERNICUS/S1_GRD\n",
      "After s1 and s2 :\n",
      "After overlap:\n",
      "After num_per_month:\n",
      "collection done\n",
      "in try block\n",
      "Info on temporal\n"
     ]
    },
    {
     "name": "stderr",
     "output_type": "stream",
     "text": [
      " 10%|██████████████                                                                                                                              | 54/536 [04:57<35:53,  4.47s/it]"
     ]
    },
    {
     "name": "stdout",
     "output_type": "stream",
     "text": [
      "[349]\n",
      "col_id that is passed COPERNICUS/S1_GRD\n",
      "After s1 and s2 :\n",
      "After overlap:\n",
      "After num_per_month:\n",
      "collection done\n",
      "in try block\n",
      "Info on temporal\n"
     ]
    },
    {
     "name": "stderr",
     "output_type": "stream",
     "text": [
      " 10%|██████████████▎                                                                                                                             | 55/536 [05:02<36:05,  4.50s/it]"
     ]
    },
    {
     "name": "stdout",
     "output_type": "stream",
     "text": [
      "[506]\n",
      "col_id that is passed COPERNICUS/S1_GRD\n",
      "After s1 and s2 :\n",
      "After overlap:\n",
      "After num_per_month:\n",
      "collection done\n",
      "in try block\n",
      "Info on temporal\n"
     ]
    },
    {
     "name": "stderr",
     "output_type": "stream",
     "text": [
      " 10%|██████████████▋                                                                                                                             | 56/536 [05:06<36:06,  4.51s/it]"
     ]
    },
    {
     "name": "stdout",
     "output_type": "stream",
     "text": [
      "[386]\n",
      "col_id that is passed COPERNICUS/S1_GRD\n",
      "After s1 and s2 :\n",
      "After overlap:\n",
      "After num_per_month:\n",
      "collection done\n",
      "in try block\n",
      "Info on temporal\n"
     ]
    },
    {
     "name": "stderr",
     "output_type": "stream",
     "text": [
      " 11%|██████████████▉                                                                                                                             | 57/536 [05:10<33:50,  4.24s/it]"
     ]
    },
    {
     "name": "stdout",
     "output_type": "stream",
     "text": [
      "[271]\n",
      "col_id that is passed COPERNICUS/S1_GRD\n",
      "After s1 and s2 :\n",
      "After overlap:\n",
      "After num_per_month:\n",
      "collection done\n",
      "in try block\n",
      "Info on temporal\n"
     ]
    },
    {
     "name": "stderr",
     "output_type": "stream",
     "text": [
      " 11%|███████████████▏                                                                                                                            | 58/536 [05:14<34:01,  4.27s/it]"
     ]
    },
    {
     "name": "stdout",
     "output_type": "stream",
     "text": [
      "[624]\n",
      "col_id that is passed COPERNICUS/S1_GRD\n",
      "After s1 and s2 :\n",
      "After overlap:\n",
      "After num_per_month:\n",
      "collection done\n",
      "in try block\n",
      "Info on temporal\n"
     ]
    },
    {
     "name": "stderr",
     "output_type": "stream",
     "text": [
      " 11%|███████████████▍                                                                                                                            | 59/536 [05:20<38:05,  4.79s/it]"
     ]
    },
    {
     "name": "stdout",
     "output_type": "stream",
     "text": [
      "[368]\n",
      "col_id that is passed COPERNICUS/S1_GRD\n",
      "After s1 and s2 :\n",
      "After overlap:\n",
      "After num_per_month:\n",
      "collection done\n",
      "in try block\n",
      "Info on temporal\n"
     ]
    },
    {
     "name": "stderr",
     "output_type": "stream",
     "text": [
      " 11%|███████████████▋                                                                                                                            | 60/536 [05:26<39:27,  4.97s/it]"
     ]
    },
    {
     "name": "stdout",
     "output_type": "stream",
     "text": [
      "[396]\n",
      "col_id that is passed COPERNICUS/S1_GRD\n",
      "After s1 and s2 :\n",
      "After overlap:\n",
      "After num_per_month:\n",
      "collection done\n",
      "in try block\n",
      "Info on temporal\n"
     ]
    },
    {
     "name": "stderr",
     "output_type": "stream",
     "text": [
      " 11%|███████████████▉                                                                                                                            | 61/536 [05:29<34:46,  4.39s/it]"
     ]
    },
    {
     "name": "stdout",
     "output_type": "stream",
     "text": [
      "[665]\n",
      "col_id that is passed COPERNICUS/S1_GRD\n",
      "After s1 and s2 :\n",
      "After overlap:\n",
      "After num_per_month:\n",
      "collection done\n",
      "in try block\n",
      "Info on temporal\n"
     ]
    },
    {
     "name": "stderr",
     "output_type": "stream",
     "text": [
      " 12%|████████████████▏                                                                                                                           | 62/536 [05:32<31:58,  4.05s/it]"
     ]
    },
    {
     "name": "stdout",
     "output_type": "stream",
     "text": [
      "[656]\n",
      "col_id that is passed COPERNICUS/S1_GRD\n",
      "After s1 and s2 :\n",
      "After overlap:\n",
      "After num_per_month:\n",
      "collection done\n",
      "in try block\n",
      "Info on temporal\n"
     ]
    },
    {
     "name": "stderr",
     "output_type": "stream",
     "text": [
      " 12%|████████████████▍                                                                                                                           | 63/536 [05:37<34:23,  4.36s/it]"
     ]
    },
    {
     "name": "stdout",
     "output_type": "stream",
     "text": [
      "[554]\n",
      "col_id that is passed COPERNICUS/S1_GRD\n",
      "After s1 and s2 :\n",
      "After overlap:\n",
      "After num_per_month:\n",
      "collection done\n",
      "in try block\n",
      "Info on temporal\n"
     ]
    },
    {
     "name": "stderr",
     "output_type": "stream",
     "text": [
      " 12%|████████████████▋                                                                                                                           | 64/536 [05:41<32:35,  4.14s/it]"
     ]
    },
    {
     "name": "stdout",
     "output_type": "stream",
     "text": [
      "[562]\n",
      "col_id that is passed COPERNICUS/S1_GRD\n",
      "After s1 and s2 :\n",
      "After overlap:\n",
      "After num_per_month:\n",
      "collection done\n",
      "in try block\n",
      "Info on temporal\n"
     ]
    },
    {
     "name": "stderr",
     "output_type": "stream",
     "text": [
      " 12%|████████████████▉                                                                                                                           | 65/536 [05:44<31:51,  4.06s/it]"
     ]
    },
    {
     "name": "stdout",
     "output_type": "stream",
     "text": [
      "[506]\n",
      "col_id that is passed COPERNICUS/S1_GRD\n",
      "After s1 and s2 :\n",
      "After overlap:\n",
      "After num_per_month:\n",
      "collection done\n",
      "in try block\n",
      "Info on temporal\n"
     ]
    },
    {
     "name": "stderr",
     "output_type": "stream",
     "text": [
      " 12%|█████████████████▏                                                                                                                          | 66/536 [05:49<32:53,  4.20s/it]"
     ]
    },
    {
     "name": "stdout",
     "output_type": "stream",
     "text": [
      "[984]\n",
      "col_id that is passed COPERNICUS/S1_GRD\n",
      "After s1 and s2 :\n",
      "After overlap:\n",
      "After num_per_month:\n",
      "collection done\n",
      "in try block\n",
      "Info on temporal\n"
     ]
    },
    {
     "name": "stderr",
     "output_type": "stream",
     "text": [
      " 12%|█████████████████▌                                                                                                                          | 67/536 [05:54<35:38,  4.56s/it]"
     ]
    },
    {
     "name": "stdout",
     "output_type": "stream",
     "text": [
      "[414]\n",
      "col_id that is passed COPERNICUS/S1_GRD\n",
      "After s1 and s2 :\n",
      "After overlap:\n",
      "After num_per_month:\n",
      "collection done\n",
      "in try block\n",
      "Info on temporal\n"
     ]
    },
    {
     "name": "stderr",
     "output_type": "stream",
     "text": [
      " 13%|█████████████████▊                                                                                                                          | 68/536 [05:59<35:51,  4.60s/it]"
     ]
    },
    {
     "name": "stdout",
     "output_type": "stream",
     "text": [
      "[536]\n",
      "col_id that is passed COPERNICUS/S1_GRD\n",
      "After s1 and s2 :\n",
      "After overlap:\n",
      "After num_per_month:\n",
      "collection done\n",
      "in try block\n",
      "Info on temporal\n"
     ]
    },
    {
     "name": "stderr",
     "output_type": "stream",
     "text": [
      " 13%|██████████████████                                                                                                                          | 69/536 [06:04<35:27,  4.56s/it]"
     ]
    },
    {
     "name": "stdout",
     "output_type": "stream",
     "text": [
      "[503]\n",
      "col_id that is passed COPERNICUS/S1_GRD\n",
      "After s1 and s2 :\n",
      "After overlap:\n",
      "After num_per_month:\n",
      "collection done\n",
      "in try block\n",
      "Info on temporal\n"
     ]
    },
    {
     "name": "stderr",
     "output_type": "stream",
     "text": [
      " 13%|██████████████████▎                                                                                                                         | 70/536 [06:08<36:00,  4.64s/it]"
     ]
    },
    {
     "name": "stdout",
     "output_type": "stream",
     "text": [
      "[606]\n",
      "col_id that is passed COPERNICUS/S1_GRD\n",
      "After s1 and s2 :\n",
      "After overlap:\n",
      "After num_per_month:\n",
      "collection done\n",
      "in try block\n",
      "Info on temporal\n"
     ]
    },
    {
     "name": "stderr",
     "output_type": "stream",
     "text": [
      " 13%|██████████████████▌                                                                                                                         | 71/536 [06:12<32:52,  4.24s/it]"
     ]
    },
    {
     "name": "stdout",
     "output_type": "stream",
     "text": [
      "[505]\n",
      "col_id that is passed COPERNICUS/S1_GRD\n",
      "After s1 and s2 :\n",
      "After overlap:\n",
      "After num_per_month:\n",
      "collection done\n",
      "in try block\n",
      "Info on temporal\n"
     ]
    },
    {
     "name": "stderr",
     "output_type": "stream",
     "text": [
      " 13%|██████████████████▊                                                                                                                         | 72/536 [06:17<35:24,  4.58s/it]"
     ]
    },
    {
     "name": "stdout",
     "output_type": "stream",
     "text": [
      "[611]\n",
      "col_id that is passed COPERNICUS/S1_GRD\n",
      "After s1 and s2 :\n",
      "After overlap:\n",
      "After num_per_month:\n",
      "collection done\n",
      "in try block\n",
      "Info on temporal\n"
     ]
    },
    {
     "name": "stderr",
     "output_type": "stream",
     "text": [
      " 14%|███████████████████                                                                                                                         | 73/536 [06:21<33:34,  4.35s/it]"
     ]
    },
    {
     "name": "stdout",
     "output_type": "stream",
     "text": [
      "[429]\n",
      "col_id that is passed COPERNICUS/S1_GRD\n",
      "After s1 and s2 :\n",
      "After overlap:\n",
      "After num_per_month:\n",
      "collection done\n",
      "in try block\n",
      "Info on temporal\n"
     ]
    },
    {
     "name": "stderr",
     "output_type": "stream",
     "text": [
      " 14%|███████████████████▎                                                                                                                        | 74/536 [06:25<33:04,  4.29s/it]"
     ]
    },
    {
     "name": "stdout",
     "output_type": "stream",
     "text": [
      "[613]\n",
      "col_id that is passed COPERNICUS/S1_GRD\n",
      "After s1 and s2 :\n",
      "After overlap:\n",
      "After num_per_month:\n",
      "collection done\n",
      "in try block\n",
      "Info on temporal\n"
     ]
    },
    {
     "name": "stderr",
     "output_type": "stream",
     "text": [
      " 14%|███████████████████▌                                                                                                                        | 75/536 [06:29<33:15,  4.33s/it]"
     ]
    },
    {
     "name": "stdout",
     "output_type": "stream",
     "text": [
      "[383]\n",
      "col_id that is passed COPERNICUS/S1_GRD\n",
      "After s1 and s2 :\n",
      "After overlap:\n",
      "After num_per_month:\n",
      "collection done\n",
      "in try block\n",
      "Info on temporal\n"
     ]
    },
    {
     "name": "stderr",
     "output_type": "stream",
     "text": [
      " 14%|███████████████████▊                                                                                                                        | 76/536 [06:35<34:54,  4.55s/it]"
     ]
    },
    {
     "name": "stdout",
     "output_type": "stream",
     "text": [
      "[481]\n",
      "col_id that is passed COPERNICUS/S1_GRD\n",
      "After s1 and s2 :\n",
      "After overlap:\n",
      "After num_per_month:\n",
      "collection done\n",
      "in try block\n",
      "Info on temporal\n"
     ]
    },
    {
     "name": "stderr",
     "output_type": "stream",
     "text": [
      " 14%|████████████████████                                                                                                                        | 77/536 [06:40<35:54,  4.69s/it]"
     ]
    },
    {
     "name": "stdout",
     "output_type": "stream",
     "text": [
      "[355]\n",
      "col_id that is passed COPERNICUS/S1_GRD\n",
      "After s1 and s2 :\n",
      "After overlap:\n",
      "After num_per_month:\n",
      "collection done\n",
      "in try block\n",
      "Info on temporal\n"
     ]
    },
    {
     "name": "stderr",
     "output_type": "stream",
     "text": [
      " 15%|████████████████████▎                                                                                                                       | 78/536 [06:43<33:59,  4.45s/it]"
     ]
    },
    {
     "name": "stdout",
     "output_type": "stream",
     "text": [
      "[455]\n",
      "col_id that is passed COPERNICUS/S1_GRD\n",
      "After s1 and s2 :\n",
      "After overlap:\n",
      "After num_per_month:\n",
      "collection done\n",
      "in try block\n",
      "Info on temporal\n"
     ]
    },
    {
     "name": "stderr",
     "output_type": "stream",
     "text": [
      " 15%|████████████████████▋                                                                                                                       | 79/536 [06:48<34:16,  4.50s/it]"
     ]
    },
    {
     "name": "stdout",
     "output_type": "stream",
     "text": [
      "[326]\n",
      "col_id that is passed COPERNICUS/S1_GRD\n",
      "After s1 and s2 :\n",
      "After overlap:\n",
      "After num_per_month:\n",
      "collection done\n",
      "in try block\n",
      "Info on temporal\n"
     ]
    },
    {
     "name": "stderr",
     "output_type": "stream",
     "text": [
      " 15%|████████████████████▉                                                                                                                       | 80/536 [06:53<34:40,  4.56s/it]"
     ]
    },
    {
     "name": "stdout",
     "output_type": "stream",
     "text": [
      "[606]\n",
      "col_id that is passed COPERNICUS/S1_GRD\n",
      "After s1 and s2 :\n",
      "After overlap:\n",
      "After num_per_month:\n",
      "collection done\n",
      "in try block\n",
      "Info on temporal\n"
     ]
    },
    {
     "name": "stderr",
     "output_type": "stream",
     "text": [
      " 15%|█████████████████████▏                                                                                                                      | 81/536 [06:58<35:19,  4.66s/it]"
     ]
    },
    {
     "name": "stdout",
     "output_type": "stream",
     "text": [
      "[425]\n",
      "col_id that is passed COPERNICUS/S1_GRD\n",
      "After s1 and s2 :\n",
      "After overlap:\n",
      "After num_per_month:\n",
      "collection done\n",
      "in try block\n",
      "Info on temporal\n"
     ]
    },
    {
     "name": "stderr",
     "output_type": "stream",
     "text": [
      " 15%|█████████████████████▍                                                                                                                      | 82/536 [07:01<32:49,  4.34s/it]"
     ]
    },
    {
     "name": "stdout",
     "output_type": "stream",
     "text": [
      "[469]\n",
      "col_id that is passed COPERNICUS/S1_GRD\n",
      "After s1 and s2 :\n",
      "After overlap:\n",
      "After num_per_month:\n",
      "collection done\n",
      "in try block\n",
      "Info on temporal\n"
     ]
    },
    {
     "name": "stderr",
     "output_type": "stream",
     "text": [
      " 15%|█████████████████████▋                                                                                                                      | 83/536 [07:05<32:23,  4.29s/it]"
     ]
    },
    {
     "name": "stdout",
     "output_type": "stream",
     "text": [
      "[412]\n",
      "col_id that is passed COPERNICUS/S1_GRD\n",
      "After s1 and s2 :\n",
      "After overlap:\n",
      "After num_per_month:\n",
      "collection done\n",
      "in try block\n",
      "Info on temporal\n"
     ]
    },
    {
     "name": "stderr",
     "output_type": "stream",
     "text": [
      " 16%|█████████████████████▉                                                                                                                      | 84/536 [07:10<32:14,  4.28s/it]"
     ]
    },
    {
     "name": "stdout",
     "output_type": "stream",
     "text": [
      "[572]\n",
      "col_id that is passed COPERNICUS/S1_GRD\n",
      "After s1 and s2 :\n",
      "After overlap:\n",
      "After num_per_month:\n",
      "collection done\n",
      "in try block\n",
      "Info on temporal\n"
     ]
    },
    {
     "name": "stderr",
     "output_type": "stream",
     "text": [
      " 16%|██████████████████████▏                                                                                                                     | 85/536 [07:15<33:29,  4.46s/it]"
     ]
    },
    {
     "name": "stdout",
     "output_type": "stream",
     "text": [
      "[322]\n",
      "col_id that is passed COPERNICUS/S1_GRD\n",
      "After s1 and s2 :\n",
      "After overlap:\n",
      "After num_per_month:\n",
      "collection done\n",
      "in try block\n",
      "Info on temporal\n"
     ]
    },
    {
     "name": "stderr",
     "output_type": "stream",
     "text": [
      " 16%|██████████████████████▍                                                                                                                     | 86/536 [07:20<35:12,  4.69s/it]"
     ]
    },
    {
     "name": "stdout",
     "output_type": "stream",
     "text": [
      "[336]\n",
      "col_id that is passed COPERNICUS/S1_GRD\n",
      "After s1 and s2 :\n",
      "After overlap:\n",
      "After num_per_month:\n",
      "collection done\n",
      "in try block\n",
      "Info on temporal\n"
     ]
    },
    {
     "name": "stderr",
     "output_type": "stream",
     "text": [
      " 16%|██████████████████████▋                                                                                                                     | 87/536 [07:25<35:56,  4.80s/it]"
     ]
    },
    {
     "name": "stdout",
     "output_type": "stream",
     "text": [
      "[932]\n",
      "col_id that is passed COPERNICUS/S1_GRD\n",
      "After s1 and s2 :\n",
      "After overlap:\n",
      "After num_per_month:\n",
      "collection done\n",
      "in try block\n",
      "Info on temporal\n"
     ]
    },
    {
     "name": "stderr",
     "output_type": "stream",
     "text": [
      " 16%|██████████████████████▉                                                                                                                     | 88/536 [07:29<34:05,  4.57s/it]"
     ]
    },
    {
     "name": "stdout",
     "output_type": "stream",
     "text": [
      "[572]\n",
      "col_id that is passed COPERNICUS/S1_GRD\n",
      "After s1 and s2 :\n",
      "After overlap:\n",
      "After num_per_month:\n",
      "collection done\n",
      "in try block\n",
      "Info on temporal\n"
     ]
    },
    {
     "name": "stderr",
     "output_type": "stream",
     "text": [
      " 17%|███████████████████████▏                                                                                                                    | 89/536 [07:34<35:48,  4.81s/it]"
     ]
    },
    {
     "name": "stdout",
     "output_type": "stream",
     "text": [
      "[481]\n",
      "col_id that is passed COPERNICUS/S1_GRD\n",
      "After s1 and s2 :\n",
      "After overlap:\n",
      "After num_per_month:\n",
      "collection done\n",
      "in try block\n",
      "Info on temporal\n"
     ]
    },
    {
     "name": "stderr",
     "output_type": "stream",
     "text": [
      " 17%|███████████████████████▌                                                                                                                    | 90/536 [07:39<36:49,  4.95s/it]"
     ]
    },
    {
     "name": "stdout",
     "output_type": "stream",
     "text": [
      "[621]\n",
      "col_id that is passed COPERNICUS/S1_GRD\n",
      "After s1 and s2 :\n",
      "After overlap:\n",
      "After num_per_month:\n",
      "collection done\n",
      "in try block\n",
      "Info on temporal\n"
     ]
    },
    {
     "name": "stderr",
     "output_type": "stream",
     "text": [
      " 17%|███████████████████████▊                                                                                                                    | 91/536 [07:45<38:42,  5.22s/it]"
     ]
    },
    {
     "name": "stdout",
     "output_type": "stream",
     "text": [
      "[369]\n",
      "col_id that is passed COPERNICUS/S1_GRD\n",
      "After s1 and s2 :\n",
      "After overlap:\n",
      "After num_per_month:\n",
      "collection done\n",
      "in try block\n",
      "Info on temporal\n"
     ]
    },
    {
     "name": "stderr",
     "output_type": "stream",
     "text": [
      " 17%|████████████████████████                                                                                                                    | 92/536 [07:50<37:54,  5.12s/it]"
     ]
    },
    {
     "name": "stdout",
     "output_type": "stream",
     "text": [
      "[467]\n",
      "col_id that is passed COPERNICUS/S1_GRD\n",
      "After s1 and s2 :\n",
      "After overlap:\n",
      "After num_per_month:\n",
      "collection done\n",
      "in try block\n",
      "Info on temporal\n"
     ]
    },
    {
     "name": "stderr",
     "output_type": "stream",
     "text": [
      " 17%|████████████████████████▎                                                                                                                   | 93/536 [07:54<35:36,  4.82s/it]"
     ]
    },
    {
     "name": "stdout",
     "output_type": "stream",
     "text": [
      "[567]\n",
      "col_id that is passed COPERNICUS/S1_GRD\n",
      "After s1 and s2 :\n",
      "After overlap:\n",
      "After num_per_month:\n",
      "collection done\n",
      "in try block\n",
      "Info on temporal\n"
     ]
    },
    {
     "name": "stderr",
     "output_type": "stream",
     "text": [
      " 18%|████████████████████████▌                                                                                                                   | 94/536 [08:00<36:22,  4.94s/it]"
     ]
    },
    {
     "name": "stdout",
     "output_type": "stream",
     "text": [
      "[547]\n",
      "col_id that is passed COPERNICUS/S1_GRD\n",
      "After s1 and s2 :\n",
      "After overlap:\n",
      "After num_per_month:\n",
      "collection done\n",
      "in try block\n",
      "Info on temporal\n"
     ]
    },
    {
     "name": "stderr",
     "output_type": "stream",
     "text": [
      " 18%|████████████████████████▊                                                                                                                   | 95/536 [08:03<33:21,  4.54s/it]"
     ]
    },
    {
     "name": "stdout",
     "output_type": "stream",
     "text": [
      "[640]\n",
      "col_id that is passed COPERNICUS/S1_GRD\n",
      "After s1 and s2 :\n",
      "After overlap:\n",
      "After num_per_month:\n",
      "collection done\n",
      "in try block\n",
      "Info on temporal\n"
     ]
    },
    {
     "name": "stderr",
     "output_type": "stream",
     "text": [
      " 18%|█████████████████████████                                                                                                                   | 96/536 [08:08<32:58,  4.50s/it]"
     ]
    },
    {
     "name": "stdout",
     "output_type": "stream",
     "text": [
      "[417]\n",
      "col_id that is passed COPERNICUS/S1_GRD\n",
      "After s1 and s2 :\n",
      "After overlap:\n",
      "After num_per_month:\n",
      "collection done\n",
      "in try block\n",
      "Info on temporal\n"
     ]
    },
    {
     "name": "stderr",
     "output_type": "stream",
     "text": [
      " 18%|█████████████████████████▎                                                                                                                  | 97/536 [08:11<31:13,  4.27s/it]"
     ]
    },
    {
     "name": "stdout",
     "output_type": "stream",
     "text": [
      "[677]\n",
      "col_id that is passed COPERNICUS/S1_GRD\n",
      "After s1 and s2 :\n",
      "After overlap:\n",
      "After num_per_month:\n",
      "collection done\n",
      "in try block\n",
      "Info on temporal\n"
     ]
    },
    {
     "name": "stderr",
     "output_type": "stream",
     "text": [
      " 18%|█████████████████████████▌                                                                                                                  | 98/536 [08:16<32:17,  4.42s/it]"
     ]
    },
    {
     "name": "stdout",
     "output_type": "stream",
     "text": [
      "[404]\n",
      "col_id that is passed COPERNICUS/S1_GRD\n",
      "After s1 and s2 :\n",
      "After overlap:\n",
      "After num_per_month:\n",
      "collection done\n",
      "in try block\n",
      "Info on temporal\n"
     ]
    },
    {
     "name": "stderr",
     "output_type": "stream",
     "text": [
      " 18%|█████████████████████████▊                                                                                                                  | 99/536 [08:21<32:33,  4.47s/it]"
     ]
    },
    {
     "name": "stdout",
     "output_type": "stream",
     "text": [
      "[605]\n",
      "col_id that is passed COPERNICUS/S1_GRD\n",
      "After s1 and s2 :\n",
      "After overlap:\n",
      "After num_per_month:\n",
      "collection done\n",
      "in try block\n",
      "Info on temporal\n"
     ]
    },
    {
     "name": "stderr",
     "output_type": "stream",
     "text": [
      " 19%|█████████████████████████▉                                                                                                                 | 100/536 [08:24<31:03,  4.27s/it]"
     ]
    },
    {
     "name": "stdout",
     "output_type": "stream",
     "text": [
      "[581]\n",
      "col_id that is passed COPERNICUS/S1_GRD\n",
      "After s1 and s2 :\n",
      "After overlap:\n",
      "After num_per_month:\n",
      "collection done\n",
      "in try block\n",
      "Info on temporal\n"
     ]
    },
    {
     "name": "stderr",
     "output_type": "stream",
     "text": [
      " 19%|██████████████████████████▏                                                                                                                | 101/536 [08:28<30:14,  4.17s/it]"
     ]
    },
    {
     "name": "stdout",
     "output_type": "stream",
     "text": [
      "[403]\n",
      "col_id that is passed COPERNICUS/S1_GRD\n",
      "After s1 and s2 :\n",
      "After overlap:\n",
      "After num_per_month:\n",
      "collection done\n",
      "in try block\n",
      "Info on temporal\n"
     ]
    },
    {
     "name": "stderr",
     "output_type": "stream",
     "text": [
      " 19%|██████████████████████████▍                                                                                                                | 102/536 [08:33<30:59,  4.28s/it]"
     ]
    },
    {
     "name": "stdout",
     "output_type": "stream",
     "text": [
      "[702]\n",
      "col_id that is passed COPERNICUS/S1_GRD\n",
      "After s1 and s2 :\n",
      "After overlap:\n",
      "After num_per_month:\n",
      "collection done\n",
      "in try block\n",
      "Info on temporal\n"
     ]
    },
    {
     "name": "stderr",
     "output_type": "stream",
     "text": [
      " 19%|██████████████████████████▋                                                                                                                | 103/536 [08:37<30:15,  4.19s/it]"
     ]
    },
    {
     "name": "stdout",
     "output_type": "stream",
     "text": [
      "[612]\n",
      "col_id that is passed COPERNICUS/S1_GRD\n",
      "After s1 and s2 :\n",
      "After overlap:\n",
      "After num_per_month:\n",
      "collection done\n",
      "in try block\n",
      "Info on temporal\n"
     ]
    },
    {
     "name": "stderr",
     "output_type": "stream",
     "text": [
      " 19%|██████████████████████████▉                                                                                                                | 104/536 [08:43<34:56,  4.85s/it]"
     ]
    },
    {
     "name": "stdout",
     "output_type": "stream",
     "text": [
      "[985]\n",
      "col_id that is passed COPERNICUS/S1_GRD\n",
      "After s1 and s2 :\n",
      "After overlap:\n",
      "After num_per_month:\n",
      "collection done\n",
      "in try block\n",
      "Info on temporal\n"
     ]
    },
    {
     "name": "stderr",
     "output_type": "stream",
     "text": [
      " 20%|███████████████████████████▏                                                                                                               | 105/536 [08:48<33:43,  4.69s/it]"
     ]
    },
    {
     "name": "stdout",
     "output_type": "stream",
     "text": [
      "[502]\n",
      "col_id that is passed COPERNICUS/S1_GRD\n",
      "After s1 and s2 :\n",
      "After overlap:\n",
      "After num_per_month:\n",
      "collection done\n",
      "in try block\n",
      "Info on temporal\n"
     ]
    },
    {
     "name": "stderr",
     "output_type": "stream",
     "text": [
      " 20%|███████████████████████████▍                                                                                                               | 106/536 [08:52<32:25,  4.52s/it]"
     ]
    },
    {
     "name": "stdout",
     "output_type": "stream",
     "text": [
      "[661]\n",
      "col_id that is passed COPERNICUS/S1_GRD\n",
      "After s1 and s2 :\n",
      "After overlap:\n",
      "After num_per_month:\n",
      "collection done\n",
      "in try block\n",
      "Info on temporal\n"
     ]
    },
    {
     "name": "stderr",
     "output_type": "stream",
     "text": [
      " 20%|███████████████████████████▋                                                                                                               | 107/536 [08:57<32:58,  4.61s/it]"
     ]
    },
    {
     "name": "stdout",
     "output_type": "stream",
     "text": [
      "[577]\n",
      "col_id that is passed COPERNICUS/S1_GRD\n",
      "After s1 and s2 :\n",
      "After overlap:\n",
      "After num_per_month:\n",
      "collection done\n",
      "in try block\n",
      "Info on temporal\n"
     ]
    },
    {
     "name": "stderr",
     "output_type": "stream",
     "text": [
      " 20%|████████████████████████████                                                                                                               | 108/536 [09:00<30:59,  4.34s/it]"
     ]
    },
    {
     "name": "stdout",
     "output_type": "stream",
     "text": [
      "[630]\n",
      "col_id that is passed COPERNICUS/S1_GRD\n",
      "After s1 and s2 :\n",
      "After overlap:\n",
      "After num_per_month:\n",
      "collection done\n",
      "in try block\n",
      "Info on temporal\n"
     ]
    },
    {
     "name": "stderr",
     "output_type": "stream",
     "text": [
      " 20%|████████████████████████████▎                                                                                                              | 109/536 [09:04<29:38,  4.16s/it]"
     ]
    },
    {
     "name": "stdout",
     "output_type": "stream",
     "text": [
      "[388]\n",
      "col_id that is passed COPERNICUS/S1_GRD\n",
      "After s1 and s2 :\n",
      "After overlap:\n",
      "After num_per_month:\n",
      "collection done\n",
      "in try block\n",
      "Info on temporal\n"
     ]
    },
    {
     "name": "stderr",
     "output_type": "stream",
     "text": [
      " 21%|████████████████████████████▌                                                                                                              | 110/536 [09:08<29:31,  4.16s/it]"
     ]
    },
    {
     "name": "stdout",
     "output_type": "stream",
     "text": [
      "[553]\n",
      "col_id that is passed COPERNICUS/S1_GRD\n",
      "After s1 and s2 :\n",
      "After overlap:\n",
      "After num_per_month:\n",
      "collection done\n",
      "in try block\n",
      "Info on temporal\n"
     ]
    },
    {
     "name": "stderr",
     "output_type": "stream",
     "text": [
      " 21%|████████████████████████████▊                                                                                                              | 111/536 [09:12<29:32,  4.17s/it]"
     ]
    },
    {
     "name": "stdout",
     "output_type": "stream",
     "text": [
      "[396]\n",
      "col_id that is passed COPERNICUS/S1_GRD\n",
      "After s1 and s2 :\n",
      "After overlap:\n",
      "After num_per_month:\n",
      "collection done\n",
      "in try block\n",
      "Info on temporal\n"
     ]
    },
    {
     "name": "stderr",
     "output_type": "stream",
     "text": [
      " 21%|█████████████████████████████                                                                                                              | 112/536 [09:17<29:53,  4.23s/it]"
     ]
    },
    {
     "name": "stdout",
     "output_type": "stream",
     "text": [
      "[498]\n",
      "col_id that is passed COPERNICUS/S1_GRD\n",
      "After s1 and s2 :\n",
      "After overlap:\n",
      "After num_per_month:\n",
      "collection done\n",
      "in try block\n",
      "Info on temporal\n"
     ]
    },
    {
     "name": "stderr",
     "output_type": "stream",
     "text": [
      " 21%|█████████████████████████████▎                                                                                                             | 113/536 [09:22<31:06,  4.41s/it]"
     ]
    },
    {
     "name": "stdout",
     "output_type": "stream",
     "text": [
      "[467]\n",
      "col_id that is passed COPERNICUS/S1_GRD\n",
      "After s1 and s2 :\n",
      "After overlap:\n",
      "After num_per_month:\n",
      "collection done\n",
      "in try block\n",
      "Info on temporal\n"
     ]
    },
    {
     "name": "stderr",
     "output_type": "stream",
     "text": [
      " 21%|█████████████████████████████▌                                                                                                             | 114/536 [09:27<32:24,  4.61s/it]"
     ]
    },
    {
     "name": "stdout",
     "output_type": "stream",
     "text": [
      "[552]\n",
      "col_id that is passed COPERNICUS/S1_GRD\n",
      "After s1 and s2 :\n",
      "After overlap:\n",
      "After num_per_month:\n",
      "collection done\n",
      "in try block\n",
      "Info on temporal\n"
     ]
    },
    {
     "name": "stderr",
     "output_type": "stream",
     "text": [
      " 21%|█████████████████████████████▊                                                                                                             | 115/536 [09:31<30:54,  4.40s/it]"
     ]
    },
    {
     "name": "stdout",
     "output_type": "stream",
     "text": [
      "[412]\n",
      "col_id that is passed COPERNICUS/S1_GRD\n",
      "After s1 and s2 :\n",
      "After overlap:\n",
      "After num_per_month:\n",
      "collection done\n",
      "in try block\n",
      "Info on temporal\n"
     ]
    },
    {
     "name": "stderr",
     "output_type": "stream",
     "text": [
      " 22%|██████████████████████████████                                                                                                             | 116/536 [09:34<29:35,  4.23s/it]"
     ]
    },
    {
     "name": "stdout",
     "output_type": "stream",
     "text": [
      "[557]\n",
      "col_id that is passed COPERNICUS/S1_GRD\n",
      "After s1 and s2 :\n",
      "After overlap:\n",
      "After num_per_month:\n",
      "collection done\n",
      "in try block\n",
      "Info on temporal\n"
     ]
    },
    {
     "name": "stderr",
     "output_type": "stream",
     "text": [
      " 22%|██████████████████████████████▎                                                                                                            | 117/536 [09:39<30:53,  4.42s/it]"
     ]
    },
    {
     "name": "stdout",
     "output_type": "stream",
     "text": [
      "[747]\n",
      "col_id that is passed COPERNICUS/S1_GRD\n",
      "After s1 and s2 :\n",
      "After overlap:\n",
      "After num_per_month:\n",
      "collection done\n",
      "in try block\n",
      "Info on temporal\n"
     ]
    },
    {
     "name": "stderr",
     "output_type": "stream",
     "text": [
      " 22%|██████████████████████████████▌                                                                                                            | 118/536 [09:43<29:22,  4.22s/it]"
     ]
    },
    {
     "name": "stdout",
     "output_type": "stream",
     "text": [
      "[278]\n",
      "col_id that is passed COPERNICUS/S1_GRD\n",
      "After s1 and s2 :\n",
      "After overlap:\n",
      "After num_per_month:\n",
      "collection done\n",
      "in try block\n",
      "Info on temporal\n"
     ]
    },
    {
     "name": "stderr",
     "output_type": "stream",
     "text": [
      " 22%|██████████████████████████████▊                                                                                                            | 119/536 [09:47<28:14,  4.06s/it]"
     ]
    },
    {
     "name": "stdout",
     "output_type": "stream",
     "text": [
      "[314]\n",
      "col_id that is passed COPERNICUS/S1_GRD\n",
      "After s1 and s2 :\n",
      "After overlap:\n",
      "After num_per_month:\n",
      "collection done\n",
      "in try block\n",
      "Info on temporal\n"
     ]
    },
    {
     "name": "stderr",
     "output_type": "stream",
     "text": [
      " 22%|███████████████████████████████                                                                                                            | 120/536 [09:51<28:31,  4.11s/it]"
     ]
    },
    {
     "name": "stdout",
     "output_type": "stream",
     "text": [
      "[309]\n",
      "col_id that is passed COPERNICUS/S1_GRD\n",
      "After s1 and s2 :\n",
      "After overlap:\n",
      "After num_per_month:\n",
      "collection done\n",
      "in try block\n",
      "Info on temporal\n"
     ]
    },
    {
     "name": "stderr",
     "output_type": "stream",
     "text": [
      " 23%|███████████████████████████████▍                                                                                                           | 121/536 [09:56<30:37,  4.43s/it]"
     ]
    },
    {
     "name": "stdout",
     "output_type": "stream",
     "text": [
      "[1115]\n",
      "col_id that is passed COPERNICUS/S1_GRD\n",
      "After s1 and s2 :\n",
      "After overlap:\n",
      "After num_per_month:\n",
      "collection done\n",
      "in try block\n",
      "Info on temporal\n"
     ]
    },
    {
     "name": "stderr",
     "output_type": "stream",
     "text": [
      " 23%|███████████████████████████████▋                                                                                                           | 122/536 [10:01<30:49,  4.47s/it]"
     ]
    },
    {
     "name": "stdout",
     "output_type": "stream",
     "text": [
      "[588]\n",
      "col_id that is passed COPERNICUS/S1_GRD\n",
      "After s1 and s2 :\n",
      "After overlap:\n",
      "After num_per_month:\n",
      "collection done\n",
      "in try block\n",
      "Info on temporal\n"
     ]
    },
    {
     "name": "stderr",
     "output_type": "stream",
     "text": [
      " 23%|███████████████████████████████▉                                                                                                           | 123/536 [10:05<29:33,  4.29s/it]"
     ]
    },
    {
     "name": "stdout",
     "output_type": "stream",
     "text": [
      "[363]\n",
      "col_id that is passed COPERNICUS/S1_GRD\n",
      "After s1 and s2 :\n",
      "After overlap:\n",
      "After num_per_month:\n",
      "collection done\n",
      "in try block\n",
      "Info on temporal\n"
     ]
    },
    {
     "name": "stderr",
     "output_type": "stream",
     "text": [
      " 23%|████████████████████████████████▏                                                                                                          | 124/536 [10:09<29:30,  4.30s/it]"
     ]
    },
    {
     "name": "stdout",
     "output_type": "stream",
     "text": [
      "[374]\n",
      "col_id that is passed COPERNICUS/S1_GRD\n",
      "After s1 and s2 :\n",
      "After overlap:\n",
      "After num_per_month:\n",
      "collection done\n",
      "in try block\n",
      "Info on temporal\n"
     ]
    },
    {
     "name": "stderr",
     "output_type": "stream",
     "text": [
      " 23%|████████████████████████████████▍                                                                                                          | 125/536 [10:14<30:08,  4.40s/it]"
     ]
    },
    {
     "name": "stdout",
     "output_type": "stream",
     "text": [
      "[328]\n",
      "col_id that is passed COPERNICUS/S1_GRD\n",
      "After s1 and s2 :\n",
      "After overlap:\n",
      "After num_per_month:\n",
      "collection done\n",
      "in try block\n",
      "Info on temporal\n"
     ]
    },
    {
     "name": "stderr",
     "output_type": "stream",
     "text": [
      " 24%|████████████████████████████████▋                                                                                                          | 126/536 [10:18<30:08,  4.41s/it]"
     ]
    },
    {
     "name": "stdout",
     "output_type": "stream",
     "text": [
      "[443]\n",
      "col_id that is passed COPERNICUS/S1_GRD\n",
      "After s1 and s2 :\n",
      "After overlap:\n",
      "After num_per_month:\n",
      "collection done\n",
      "in try block\n",
      "Info on temporal\n"
     ]
    },
    {
     "name": "stderr",
     "output_type": "stream",
     "text": [
      " 24%|████████████████████████████████▉                                                                                                          | 127/536 [10:22<29:20,  4.30s/it]"
     ]
    },
    {
     "name": "stdout",
     "output_type": "stream",
     "text": [
      "[294]\n",
      "col_id that is passed COPERNICUS/S1_GRD\n",
      "After s1 and s2 :\n",
      "After overlap:\n",
      "After num_per_month:\n",
      "collection done\n",
      "in try block\n",
      "Info on temporal\n"
     ]
    },
    {
     "name": "stderr",
     "output_type": "stream",
     "text": [
      " 24%|█████████████████████████████████▏                                                                                                         | 128/536 [10:26<28:10,  4.14s/it]"
     ]
    },
    {
     "name": "stdout",
     "output_type": "stream",
     "text": [
      "[396]\n",
      "col_id that is passed COPERNICUS/S1_GRD\n",
      "After s1 and s2 :\n",
      "After overlap:\n",
      "After num_per_month:\n",
      "collection done\n",
      "in try block\n",
      "Info on temporal\n"
     ]
    },
    {
     "name": "stderr",
     "output_type": "stream",
     "text": [
      " 24%|█████████████████████████████████▍                                                                                                         | 129/536 [10:30<28:37,  4.22s/it]"
     ]
    },
    {
     "name": "stdout",
     "output_type": "stream",
     "text": [
      "[346]\n",
      "col_id that is passed COPERNICUS/S1_GRD\n",
      "After s1 and s2 :\n",
      "After overlap:\n",
      "After num_per_month:\n",
      "collection done\n",
      "in try block\n",
      "Info on temporal\n"
     ]
    },
    {
     "name": "stderr",
     "output_type": "stream",
     "text": [
      " 24%|█████████████████████████████████▋                                                                                                         | 130/536 [10:34<27:06,  4.01s/it]"
     ]
    },
    {
     "name": "stdout",
     "output_type": "stream",
     "text": [
      "[345]\n",
      "col_id that is passed COPERNICUS/S1_GRD\n",
      "After s1 and s2 :\n",
      "After overlap:\n",
      "After num_per_month:\n",
      "collection done\n",
      "in try block\n",
      "Info on temporal\n"
     ]
    },
    {
     "name": "stderr",
     "output_type": "stream",
     "text": [
      " 24%|█████████████████████████████████▉                                                                                                         | 131/536 [10:39<30:26,  4.51s/it]"
     ]
    },
    {
     "name": "stdout",
     "output_type": "stream",
     "text": [
      "[480]\n",
      "col_id that is passed COPERNICUS/S1_GRD\n",
      "After s1 and s2 :\n",
      "After overlap:\n",
      "After num_per_month:\n",
      "collection done\n",
      "in try block\n",
      "Info on temporal\n"
     ]
    },
    {
     "name": "stderr",
     "output_type": "stream",
     "text": [
      " 25%|██████████████████████████████████▏                                                                                                        | 132/536 [10:44<31:17,  4.65s/it]"
     ]
    },
    {
     "name": "stdout",
     "output_type": "stream",
     "text": [
      "[424]\n",
      "col_id that is passed COPERNICUS/S1_GRD\n",
      "After s1 and s2 :\n",
      "After overlap:\n",
      "After num_per_month:\n",
      "collection done\n",
      "in try block\n",
      "Info on temporal\n"
     ]
    },
    {
     "name": "stderr",
     "output_type": "stream",
     "text": [
      " 25%|██████████████████████████████████▍                                                                                                        | 133/536 [10:48<30:11,  4.49s/it]"
     ]
    },
    {
     "name": "stdout",
     "output_type": "stream",
     "text": [
      "[348]\n",
      "col_id that is passed COPERNICUS/S1_GRD\n",
      "After s1 and s2 :\n",
      "After overlap:\n",
      "After num_per_month:\n",
      "collection done\n",
      "in try block\n",
      "Info on temporal\n"
     ]
    },
    {
     "name": "stderr",
     "output_type": "stream",
     "text": [
      " 25%|██████████████████████████████████▊                                                                                                        | 134/536 [10:52<28:13,  4.21s/it]"
     ]
    },
    {
     "name": "stdout",
     "output_type": "stream",
     "text": [
      "[447]\n",
      "col_id that is passed COPERNICUS/S1_GRD\n",
      "After s1 and s2 :\n",
      "After overlap:\n",
      "After num_per_month:\n",
      "collection done\n",
      "in try block\n",
      "Info on temporal\n"
     ]
    },
    {
     "name": "stderr",
     "output_type": "stream",
     "text": [
      " 25%|███████████████████████████████████                                                                                                        | 135/536 [10:56<27:55,  4.18s/it]"
     ]
    },
    {
     "name": "stdout",
     "output_type": "stream",
     "text": [
      "[445]\n",
      "col_id that is passed COPERNICUS/S1_GRD\n",
      "After s1 and s2 :\n",
      "After overlap:\n",
      "After num_per_month:\n",
      "collection done\n",
      "in try block\n",
      "Info on temporal\n"
     ]
    },
    {
     "name": "stderr",
     "output_type": "stream",
     "text": [
      " 25%|███████████████████████████████████▎                                                                                                       | 136/536 [11:02<30:30,  4.58s/it]"
     ]
    },
    {
     "name": "stdout",
     "output_type": "stream",
     "text": [
      "[624]\n",
      "col_id that is passed COPERNICUS/S1_GRD\n",
      "After s1 and s2 :\n",
      "After overlap:\n",
      "After num_per_month:\n",
      "collection done\n",
      "in try block\n",
      "Info on temporal\n"
     ]
    },
    {
     "name": "stderr",
     "output_type": "stream",
     "text": [
      " 26%|███████████████████████████████████▌                                                                                                       | 137/536 [11:06<30:17,  4.56s/it]"
     ]
    },
    {
     "name": "stdout",
     "output_type": "stream",
     "text": [
      "[509]\n",
      "col_id that is passed COPERNICUS/S1_GRD\n",
      "After s1 and s2 :\n",
      "After overlap:\n",
      "After num_per_month:\n",
      "collection done\n",
      "in try block\n",
      "Info on temporal\n"
     ]
    },
    {
     "name": "stderr",
     "output_type": "stream",
     "text": [
      " 26%|███████████████████████████████████▊                                                                                                       | 138/536 [11:11<29:51,  4.50s/it]"
     ]
    },
    {
     "name": "stdout",
     "output_type": "stream",
     "text": [
      "[400]\n",
      "col_id that is passed COPERNICUS/S1_GRD\n",
      "After s1 and s2 :\n",
      "After overlap:\n",
      "After num_per_month:\n",
      "collection done\n",
      "in try block\n",
      "Info on temporal\n"
     ]
    },
    {
     "name": "stderr",
     "output_type": "stream",
     "text": [
      " 26%|████████████████████████████████████                                                                                                       | 139/536 [11:15<29:05,  4.40s/it]"
     ]
    },
    {
     "name": "stdout",
     "output_type": "stream",
     "text": [
      "[684]\n",
      "col_id that is passed COPERNICUS/S1_GRD\n",
      "After s1 and s2 :\n",
      "After overlap:\n",
      "After num_per_month:\n",
      "collection done\n",
      "in try block\n",
      "Info on temporal\n"
     ]
    },
    {
     "name": "stderr",
     "output_type": "stream",
     "text": [
      " 26%|████████████████████████████████████▎                                                                                                      | 140/536 [11:19<28:34,  4.33s/it]"
     ]
    },
    {
     "name": "stdout",
     "output_type": "stream",
     "text": [
      "[480]\n",
      "col_id that is passed COPERNICUS/S1_GRD\n",
      "After s1 and s2 :\n",
      "After overlap:\n",
      "After num_per_month:\n",
      "collection done\n",
      "in try block\n",
      "Info on temporal\n"
     ]
    },
    {
     "name": "stderr",
     "output_type": "stream",
     "text": [
      " 26%|████████████████████████████████████▌                                                                                                      | 141/536 [11:23<27:42,  4.21s/it]"
     ]
    },
    {
     "name": "stdout",
     "output_type": "stream",
     "text": [
      "[372]\n",
      "col_id that is passed COPERNICUS/S1_GRD\n",
      "After s1 and s2 :\n",
      "After overlap:\n",
      "After num_per_month:\n",
      "collection done\n",
      "in try block\n",
      "Info on temporal\n"
     ]
    },
    {
     "name": "stderr",
     "output_type": "stream",
     "text": [
      " 26%|████████████████████████████████████▊                                                                                                      | 142/536 [11:28<29:17,  4.46s/it]"
     ]
    },
    {
     "name": "stdout",
     "output_type": "stream",
     "text": [
      "[415]\n",
      "col_id that is passed COPERNICUS/S1_GRD\n",
      "After s1 and s2 :\n",
      "After overlap:\n",
      "After num_per_month:\n",
      "collection done\n",
      "in try block\n",
      "Info on temporal\n"
     ]
    },
    {
     "name": "stderr",
     "output_type": "stream",
     "text": [
      " 27%|█████████████████████████████████████                                                                                                      | 143/536 [11:32<29:04,  4.44s/it]"
     ]
    },
    {
     "name": "stdout",
     "output_type": "stream",
     "text": [
      "[530]\n",
      "col_id that is passed COPERNICUS/S1_GRD\n",
      "After s1 and s2 :\n",
      "After overlap:\n",
      "After num_per_month:\n",
      "collection done\n",
      "in try block\n",
      "Info on temporal\n"
     ]
    },
    {
     "name": "stderr",
     "output_type": "stream",
     "text": [
      " 27%|█████████████████████████████████████▎                                                                                                     | 144/536 [11:35<26:24,  4.04s/it]"
     ]
    },
    {
     "name": "stdout",
     "output_type": "stream",
     "text": [
      "[598]\n",
      "col_id that is passed COPERNICUS/S1_GRD\n",
      "After s1 and s2 :\n",
      "After overlap:\n",
      "After num_per_month:\n",
      "collection done\n",
      "in try block\n",
      "Info on temporal\n"
     ]
    },
    {
     "name": "stderr",
     "output_type": "stream",
     "text": [
      " 27%|█████████████████████████████████████▌                                                                                                     | 145/536 [11:39<25:20,  3.89s/it]"
     ]
    },
    {
     "name": "stdout",
     "output_type": "stream",
     "text": [
      "[469]\n",
      "col_id that is passed COPERNICUS/S1_GRD\n",
      "After s1 and s2 :\n",
      "After overlap:\n",
      "After num_per_month:\n",
      "collection done\n",
      "in try block\n",
      "Info on temporal\n"
     ]
    },
    {
     "name": "stderr",
     "output_type": "stream",
     "text": [
      " 27%|█████████████████████████████████████▊                                                                                                     | 146/536 [11:43<26:01,  4.00s/it]"
     ]
    },
    {
     "name": "stdout",
     "output_type": "stream",
     "text": [
      "[498]\n",
      "col_id that is passed COPERNICUS/S1_GRD\n",
      "After s1 and s2 :\n",
      "After overlap:\n",
      "After num_per_month:\n",
      "collection done\n",
      "in try block\n",
      "Info on temporal\n"
     ]
    },
    {
     "name": "stderr",
     "output_type": "stream",
     "text": [
      " 27%|██████████████████████████████████████                                                                                                     | 147/536 [11:46<24:35,  3.79s/it]"
     ]
    },
    {
     "name": "stdout",
     "output_type": "stream",
     "text": [
      "[355]\n",
      "col_id that is passed COPERNICUS/S1_GRD\n",
      "After s1 and s2 :\n",
      "After overlap:\n",
      "After num_per_month:\n",
      "collection done\n",
      "in try block\n",
      "Info on temporal\n"
     ]
    },
    {
     "name": "stderr",
     "output_type": "stream",
     "text": [
      " 28%|██████████████████████████████████████▍                                                                                                    | 148/536 [11:50<24:50,  3.84s/it]"
     ]
    },
    {
     "name": "stdout",
     "output_type": "stream",
     "text": [
      "[403]\n",
      "col_id that is passed COPERNICUS/S1_GRD\n",
      "After s1 and s2 :\n",
      "After overlap:\n",
      "After num_per_month:\n",
      "collection done\n",
      "in try block\n",
      "Info on temporal\n"
     ]
    },
    {
     "name": "stderr",
     "output_type": "stream",
     "text": [
      " 28%|██████████████████████████████████████▋                                                                                                    | 149/536 [11:55<25:25,  3.94s/it]"
     ]
    },
    {
     "name": "stdout",
     "output_type": "stream",
     "text": [
      "[231]\n",
      "col_id that is passed COPERNICUS/S1_GRD\n",
      "After s1 and s2 :\n",
      "After overlap:\n",
      "After num_per_month:\n",
      "collection done\n",
      "in try block\n",
      "Info on temporal\n"
     ]
    },
    {
     "name": "stderr",
     "output_type": "stream",
     "text": [
      " 28%|██████████████████████████████████████▉                                                                                                    | 150/536 [11:59<25:41,  3.99s/it]"
     ]
    },
    {
     "name": "stdout",
     "output_type": "stream",
     "text": [
      "[389]\n",
      "col_id that is passed COPERNICUS/S1_GRD\n",
      "After s1 and s2 :\n",
      "After overlap:\n",
      "After num_per_month:\n",
      "collection done\n",
      "in try block\n",
      "Info on temporal\n"
     ]
    },
    {
     "name": "stderr",
     "output_type": "stream",
     "text": [
      " 28%|███████████████████████████████████████▏                                                                                                   | 151/536 [12:02<24:19,  3.79s/it]"
     ]
    },
    {
     "name": "stdout",
     "output_type": "stream",
     "text": [
      "[437]\n",
      "col_id that is passed COPERNICUS/S1_GRD\n",
      "After s1 and s2 :\n",
      "After overlap:\n",
      "After num_per_month:\n",
      "collection done\n",
      "in try block\n",
      "Info on temporal\n"
     ]
    },
    {
     "name": "stderr",
     "output_type": "stream",
     "text": [
      " 28%|███████████████████████████████████████▍                                                                                                   | 152/536 [12:05<23:35,  3.69s/it]"
     ]
    },
    {
     "name": "stdout",
     "output_type": "stream",
     "text": [
      "[511]\n",
      "col_id that is passed COPERNICUS/S1_GRD\n",
      "After s1 and s2 :\n",
      "After overlap:\n",
      "After num_per_month:\n",
      "collection done\n",
      "in try block\n",
      "Info on temporal\n"
     ]
    },
    {
     "name": "stderr",
     "output_type": "stream",
     "text": [
      " 29%|███████████████████████████████████████▋                                                                                                   | 153/536 [12:10<24:37,  3.86s/it]"
     ]
    },
    {
     "name": "stdout",
     "output_type": "stream",
     "text": [
      "[428]\n",
      "col_id that is passed COPERNICUS/S1_GRD\n",
      "After s1 and s2 :\n",
      "After overlap:\n",
      "After num_per_month:\n",
      "collection done\n",
      "in try block\n",
      "Info on temporal\n"
     ]
    },
    {
     "name": "stderr",
     "output_type": "stream",
     "text": [
      " 29%|███████████████████████████████████████▉                                                                                                   | 154/536 [12:15<27:40,  4.35s/it]"
     ]
    },
    {
     "name": "stdout",
     "output_type": "stream",
     "text": [
      "[273]\n",
      "col_id that is passed COPERNICUS/S1_GRD\n",
      "After s1 and s2 :\n",
      "After overlap:\n",
      "After num_per_month:\n",
      "collection done\n",
      "in try block\n",
      "Info on temporal\n"
     ]
    },
    {
     "name": "stderr",
     "output_type": "stream",
     "text": [
      " 29%|████████████████████████████████████████▏                                                                                                  | 155/536 [12:19<25:41,  4.05s/it]"
     ]
    },
    {
     "name": "stdout",
     "output_type": "stream",
     "text": [
      "[301]\n",
      "col_id that is passed COPERNICUS/S1_GRD\n",
      "After s1 and s2 :\n",
      "After overlap:\n",
      "After num_per_month:\n",
      "collection done\n",
      "in try block\n",
      "Info on temporal\n"
     ]
    },
    {
     "name": "stderr",
     "output_type": "stream",
     "text": [
      " 29%|████████████████████████████████████████▍                                                                                                  | 156/536 [12:23<26:49,  4.24s/it]"
     ]
    },
    {
     "name": "stdout",
     "output_type": "stream",
     "text": [
      "[322]\n",
      "col_id that is passed COPERNICUS/S1_GRD\n",
      "After s1 and s2 :\n",
      "After overlap:\n",
      "After num_per_month:\n",
      "collection done\n",
      "in try block\n",
      "Info on temporal\n"
     ]
    },
    {
     "name": "stderr",
     "output_type": "stream",
     "text": [
      " 29%|████████████████████████████████████████▋                                                                                                  | 157/536 [12:27<25:40,  4.06s/it]"
     ]
    },
    {
     "name": "stdout",
     "output_type": "stream",
     "text": [
      "[378]\n",
      "col_id that is passed COPERNICUS/S1_GRD\n",
      "After s1 and s2 :\n",
      "After overlap:\n",
      "After num_per_month:\n",
      "collection done\n",
      "in try block\n",
      "Info on temporal\n"
     ]
    },
    {
     "name": "stderr",
     "output_type": "stream",
     "text": [
      " 29%|████████████████████████████████████████▉                                                                                                  | 158/536 [12:33<29:34,  4.70s/it]"
     ]
    },
    {
     "name": "stdout",
     "output_type": "stream",
     "text": [
      "[776]\n",
      "col_id that is passed COPERNICUS/S1_GRD\n",
      "After s1 and s2 :\n",
      "After overlap:\n",
      "After num_per_month:\n",
      "collection done\n",
      "in try block\n",
      "Info on temporal\n"
     ]
    },
    {
     "name": "stderr",
     "output_type": "stream",
     "text": [
      " 30%|█████████████████████████████████████████▏                                                                                                 | 159/536 [12:37<27:33,  4.39s/it]"
     ]
    },
    {
     "name": "stdout",
     "output_type": "stream",
     "text": [
      "[287]\n",
      "col_id that is passed COPERNICUS/S1_GRD\n",
      "After s1 and s2 :\n",
      "After overlap:\n",
      "After num_per_month:\n",
      "collection done\n",
      "in try block\n",
      "Info on temporal\n"
     ]
    },
    {
     "name": "stderr",
     "output_type": "stream",
     "text": [
      " 30%|█████████████████████████████████████████▍                                                                                                 | 160/536 [12:43<30:31,  4.87s/it]"
     ]
    },
    {
     "name": "stdout",
     "output_type": "stream",
     "text": [
      "[312]\n",
      "col_id that is passed COPERNICUS/S1_GRD\n",
      "After s1 and s2 :\n",
      "After overlap:\n",
      "After num_per_month:\n",
      "collection done\n",
      "in try block\n",
      "Info on temporal\n"
     ]
    },
    {
     "name": "stderr",
     "output_type": "stream",
     "text": [
      " 30%|█████████████████████████████████████████▊                                                                                                 | 161/536 [12:46<27:44,  4.44s/it]"
     ]
    },
    {
     "name": "stdout",
     "output_type": "stream",
     "text": [
      "[439]\n",
      "col_id that is passed COPERNICUS/S1_GRD\n",
      "After s1 and s2 :\n",
      "After overlap:\n",
      "After num_per_month:\n",
      "collection done\n",
      "in try block\n",
      "Info on temporal\n"
     ]
    },
    {
     "name": "stderr",
     "output_type": "stream",
     "text": [
      " 30%|██████████████████████████████████████████                                                                                                 | 162/536 [12:50<27:17,  4.38s/it]"
     ]
    },
    {
     "name": "stdout",
     "output_type": "stream",
     "text": [
      "[490]\n",
      "col_id that is passed COPERNICUS/S1_GRD\n",
      "After s1 and s2 :\n",
      "After overlap:\n",
      "After num_per_month:\n",
      "collection done\n",
      "in try block\n",
      "Info on temporal\n"
     ]
    },
    {
     "name": "stderr",
     "output_type": "stream",
     "text": [
      " 30%|██████████████████████████████████████████▎                                                                                                | 163/536 [12:54<25:20,  4.08s/it]"
     ]
    },
    {
     "name": "stdout",
     "output_type": "stream",
     "text": [
      "[258]\n",
      "col_id that is passed COPERNICUS/S1_GRD\n",
      "After s1 and s2 :\n",
      "After overlap:\n",
      "After num_per_month:\n",
      "collection done\n",
      "in try block\n",
      "Info on temporal\n"
     ]
    },
    {
     "name": "stderr",
     "output_type": "stream",
     "text": [
      " 31%|██████████████████████████████████████████▌                                                                                                | 164/536 [12:59<27:26,  4.43s/it]"
     ]
    },
    {
     "name": "stdout",
     "output_type": "stream",
     "text": [
      "[428]\n",
      "col_id that is passed COPERNICUS/S1_GRD\n",
      "After s1 and s2 :\n",
      "After overlap:\n",
      "After num_per_month:\n",
      "collection done\n",
      "in try block\n",
      "Info on temporal\n"
     ]
    },
    {
     "name": "stderr",
     "output_type": "stream",
     "text": [
      " 31%|██████████████████████████████████████████▊                                                                                                | 165/536 [13:03<25:59,  4.20s/it]"
     ]
    },
    {
     "name": "stdout",
     "output_type": "stream",
     "text": [
      "[285]\n",
      "col_id that is passed COPERNICUS/S1_GRD\n",
      "After s1 and s2 :\n",
      "After overlap:\n",
      "After num_per_month:\n",
      "collection done\n",
      "in try block\n",
      "Info on temporal\n"
     ]
    },
    {
     "name": "stderr",
     "output_type": "stream",
     "text": [
      " 31%|███████████████████████████████████████████                                                                                                | 166/536 [13:06<24:42,  4.01s/it]"
     ]
    },
    {
     "name": "stdout",
     "output_type": "stream",
     "text": [
      "[402]\n",
      "col_id that is passed COPERNICUS/S1_GRD\n",
      "After s1 and s2 :\n",
      "After overlap:\n",
      "After num_per_month:\n",
      "collection done\n",
      "in try block\n",
      "Info on temporal\n"
     ]
    },
    {
     "name": "stderr",
     "output_type": "stream",
     "text": [
      " 31%|███████████████████████████████████████████▎                                                                                               | 167/536 [13:11<26:29,  4.31s/it]"
     ]
    },
    {
     "name": "stdout",
     "output_type": "stream",
     "text": [
      "[352]\n",
      "col_id that is passed COPERNICUS/S1_GRD\n",
      "After s1 and s2 :\n",
      "After overlap:\n",
      "After num_per_month:\n",
      "collection done\n",
      "in try block\n",
      "Info on temporal\n"
     ]
    },
    {
     "name": "stderr",
     "output_type": "stream",
     "text": [
      " 31%|███████████████████████████████████████████▌                                                                                               | 168/536 [13:15<25:23,  4.14s/it]"
     ]
    },
    {
     "name": "stdout",
     "output_type": "stream",
     "text": [
      "[395]\n",
      "col_id that is passed COPERNICUS/S1_GRD\n",
      "After s1 and s2 :\n",
      "After overlap:\n",
      "After num_per_month:\n",
      "collection done\n",
      "in try block\n",
      "Info on temporal\n"
     ]
    },
    {
     "name": "stderr",
     "output_type": "stream",
     "text": [
      " 32%|███████████████████████████████████████████▊                                                                                               | 169/536 [13:19<24:36,  4.02s/it]"
     ]
    },
    {
     "name": "stdout",
     "output_type": "stream",
     "text": [
      "[301]\n",
      "col_id that is passed COPERNICUS/S1_GRD\n",
      "After s1 and s2 :\n",
      "After overlap:\n",
      "After num_per_month:\n",
      "collection done\n",
      "in try block\n",
      "Info on temporal\n"
     ]
    },
    {
     "name": "stderr",
     "output_type": "stream",
     "text": [
      " 32%|████████████████████████████████████████████                                                                                               | 170/536 [13:24<26:16,  4.31s/it]"
     ]
    },
    {
     "name": "stdout",
     "output_type": "stream",
     "text": [
      "[297]\n",
      "col_id that is passed COPERNICUS/S1_GRD\n",
      "After s1 and s2 :\n",
      "After overlap:\n",
      "After num_per_month:\n",
      "collection done\n",
      "in try block\n",
      "Info on temporal\n"
     ]
    },
    {
     "name": "stderr",
     "output_type": "stream",
     "text": [
      " 32%|████████████████████████████████████████████▎                                                                                              | 171/536 [13:28<25:49,  4.24s/it]"
     ]
    },
    {
     "name": "stdout",
     "output_type": "stream",
     "text": [
      "[300]\n",
      "col_id that is passed COPERNICUS/S1_GRD\n",
      "After s1 and s2 :\n",
      "After overlap:\n",
      "After num_per_month:\n",
      "collection done\n",
      "in try block\n",
      "Info on temporal\n"
     ]
    },
    {
     "name": "stderr",
     "output_type": "stream",
     "text": [
      " 32%|████████████████████████████████████████████▌                                                                                              | 172/536 [13:33<26:36,  4.39s/it]"
     ]
    },
    {
     "name": "stdout",
     "output_type": "stream",
     "text": [
      "[377]\n",
      "col_id that is passed COPERNICUS/S1_GRD\n",
      "After s1 and s2 :\n",
      "After overlap:\n",
      "After num_per_month:\n",
      "collection done\n",
      "in try block\n",
      "Info on temporal\n"
     ]
    },
    {
     "name": "stderr",
     "output_type": "stream",
     "text": [
      " 32%|████████████████████████████████████████████▊                                                                                              | 173/536 [13:37<26:40,  4.41s/it]"
     ]
    },
    {
     "name": "stdout",
     "output_type": "stream",
     "text": [
      "[310]\n",
      "col_id that is passed COPERNICUS/S1_GRD\n",
      "After s1 and s2 :\n",
      "After overlap:\n",
      "After num_per_month:\n",
      "collection done\n",
      "in try block\n",
      "Info on temporal\n"
     ]
    },
    {
     "name": "stderr",
     "output_type": "stream",
     "text": [
      " 32%|█████████████████████████████████████████████                                                                                              | 174/536 [13:41<26:32,  4.40s/it]"
     ]
    },
    {
     "name": "stdout",
     "output_type": "stream",
     "text": [
      "[213]\n",
      "col_id that is passed COPERNICUS/S1_GRD\n",
      "After s1 and s2 :\n",
      "After overlap:\n",
      "After num_per_month:\n",
      "collection done\n",
      "in try block\n",
      "Info on temporal\n"
     ]
    },
    {
     "name": "stderr",
     "output_type": "stream",
     "text": [
      " 33%|█████████████████████████████████████████████▍                                                                                             | 175/536 [13:46<26:06,  4.34s/it]"
     ]
    },
    {
     "name": "stdout",
     "output_type": "stream",
     "text": [
      "[226]\n",
      "col_id that is passed COPERNICUS/S1_GRD\n",
      "After s1 and s2 :\n",
      "After overlap:\n",
      "After num_per_month:\n",
      "collection done\n",
      "in try block\n",
      "Info on temporal\n"
     ]
    },
    {
     "name": "stderr",
     "output_type": "stream",
     "text": [
      " 33%|█████████████████████████████████████████████▋                                                                                             | 176/536 [13:50<26:49,  4.47s/it]"
     ]
    },
    {
     "name": "stdout",
     "output_type": "stream",
     "text": [
      "[347]\n",
      "col_id that is passed COPERNICUS/S1_GRD\n",
      "After s1 and s2 :\n",
      "After overlap:\n",
      "After num_per_month:\n",
      "collection done\n",
      "in try block\n",
      "Info on temporal\n"
     ]
    },
    {
     "name": "stderr",
     "output_type": "stream",
     "text": [
      " 33%|█████████████████████████████████████████████▉                                                                                             | 177/536 [13:54<25:03,  4.19s/it]"
     ]
    },
    {
     "name": "stdout",
     "output_type": "stream",
     "text": [
      "[247]\n",
      "col_id that is passed COPERNICUS/S1_GRD\n",
      "After s1 and s2 :\n",
      "After overlap:\n",
      "After num_per_month:\n",
      "collection done\n",
      "in try block\n",
      "Info on temporal\n"
     ]
    },
    {
     "name": "stderr",
     "output_type": "stream",
     "text": [
      " 33%|██████████████████████████████████████████████▏                                                                                            | 178/536 [13:59<27:17,  4.57s/it]"
     ]
    },
    {
     "name": "stdout",
     "output_type": "stream",
     "text": [
      "[332]\n",
      "col_id that is passed COPERNICUS/S1_GRD\n",
      "After s1 and s2 :\n",
      "After overlap:\n",
      "After num_per_month:\n",
      "collection done\n",
      "in try block\n",
      "Info on temporal\n"
     ]
    },
    {
     "name": "stderr",
     "output_type": "stream",
     "text": [
      " 33%|██████████████████████████████████████████████▍                                                                                            | 179/536 [14:04<27:45,  4.67s/it]"
     ]
    },
    {
     "name": "stdout",
     "output_type": "stream",
     "text": [
      "[518]\n",
      "col_id that is passed COPERNICUS/S1_GRD\n",
      "After s1 and s2 :\n",
      "After overlap:\n",
      "After num_per_month:\n",
      "collection done\n",
      "in try block\n",
      "Info on temporal\n"
     ]
    },
    {
     "name": "stderr",
     "output_type": "stream",
     "text": [
      " 34%|██████████████████████████████████████████████▋                                                                                            | 180/536 [14:07<24:51,  4.19s/it]"
     ]
    },
    {
     "name": "stdout",
     "output_type": "stream",
     "text": [
      "[507]\n",
      "col_id that is passed COPERNICUS/S1_GRD\n",
      "After s1 and s2 :\n",
      "After overlap:\n",
      "After num_per_month:\n",
      "collection done\n",
      "in try block\n",
      "Info on temporal\n"
     ]
    },
    {
     "name": "stderr",
     "output_type": "stream",
     "text": [
      " 34%|██████████████████████████████████████████████▉                                                                                            | 181/536 [14:11<23:54,  4.04s/it]"
     ]
    },
    {
     "name": "stdout",
     "output_type": "stream",
     "text": [
      "[349]\n",
      "col_id that is passed COPERNICUS/S1_GRD\n",
      "After s1 and s2 :\n",
      "After overlap:\n",
      "After num_per_month:\n",
      "collection done\n",
      "in try block\n",
      "Info on temporal\n"
     ]
    },
    {
     "name": "stderr",
     "output_type": "stream",
     "text": [
      " 34%|███████████████████████████████████████████████▏                                                                                           | 182/536 [14:16<26:18,  4.46s/it]"
     ]
    },
    {
     "name": "stdout",
     "output_type": "stream",
     "text": [
      "[349]\n",
      "col_id that is passed COPERNICUS/S1_GRD\n",
      "After s1 and s2 :\n",
      "After overlap:\n",
      "After num_per_month:\n",
      "collection done\n",
      "in try block\n",
      "Info on temporal\n"
     ]
    },
    {
     "name": "stderr",
     "output_type": "stream",
     "text": [
      " 34%|███████████████████████████████████████████████▍                                                                                           | 183/536 [14:21<27:19,  4.64s/it]"
     ]
    },
    {
     "name": "stdout",
     "output_type": "stream",
     "text": [
      "[335]\n",
      "col_id that is passed COPERNICUS/S1_GRD\n",
      "After s1 and s2 :\n",
      "After overlap:\n",
      "After num_per_month:\n",
      "collection done\n",
      "in try block\n",
      "Info on temporal\n"
     ]
    },
    {
     "name": "stderr",
     "output_type": "stream",
     "text": [
      " 34%|███████████████████████████████████████████████▋                                                                                           | 184/536 [14:25<25:17,  4.31s/it]"
     ]
    },
    {
     "name": "stdout",
     "output_type": "stream",
     "text": [
      "[377]\n",
      "col_id that is passed COPERNICUS/S1_GRD\n",
      "After s1 and s2 :\n",
      "After overlap:\n",
      "After num_per_month:\n",
      "collection done\n",
      "in try block\n",
      "Info on temporal\n"
     ]
    },
    {
     "name": "stderr",
     "output_type": "stream",
     "text": [
      " 35%|███████████████████████████████████████████████▉                                                                                           | 185/536 [14:28<23:24,  4.00s/it]"
     ]
    },
    {
     "name": "stdout",
     "output_type": "stream",
     "text": [
      "[410]\n",
      "col_id that is passed COPERNICUS/S1_GRD\n",
      "After s1 and s2 :\n",
      "After overlap:\n",
      "After num_per_month:\n",
      "collection done\n",
      "in try block\n",
      "Info on temporal\n"
     ]
    },
    {
     "name": "stderr",
     "output_type": "stream",
     "text": [
      " 35%|████████████████████████████████████████████████▏                                                                                          | 186/536 [14:34<26:47,  4.59s/it]"
     ]
    },
    {
     "name": "stdout",
     "output_type": "stream",
     "text": [
      "[444]\n",
      "col_id that is passed COPERNICUS/S1_GRD\n",
      "After s1 and s2 :\n",
      "After overlap:\n",
      "After num_per_month:\n",
      "collection done\n",
      "in try block\n",
      "Info on temporal\n"
     ]
    },
    {
     "name": "stderr",
     "output_type": "stream",
     "text": [
      " 35%|████████████████████████████████████████████████▍                                                                                          | 187/536 [14:38<25:31,  4.39s/it]"
     ]
    },
    {
     "name": "stdout",
     "output_type": "stream",
     "text": [
      "[423]\n",
      "col_id that is passed COPERNICUS/S1_GRD\n",
      "After s1 and s2 :\n",
      "After overlap:\n",
      "After num_per_month:\n",
      "collection done\n",
      "in try block\n",
      "Info on temporal\n"
     ]
    },
    {
     "name": "stderr",
     "output_type": "stream",
     "text": [
      " 35%|████████████████████████████████████████████████▊                                                                                          | 188/536 [14:42<24:49,  4.28s/it]"
     ]
    },
    {
     "name": "stdout",
     "output_type": "stream",
     "text": [
      "[295]\n",
      "col_id that is passed COPERNICUS/S1_GRD\n",
      "After s1 and s2 :\n",
      "After overlap:\n",
      "After num_per_month:\n",
      "collection done\n",
      "in try block\n",
      "Info on temporal\n"
     ]
    },
    {
     "name": "stderr",
     "output_type": "stream",
     "text": [
      " 35%|█████████████████████████████████████████████████                                                                                          | 189/536 [14:46<23:10,  4.01s/it]"
     ]
    },
    {
     "name": "stdout",
     "output_type": "stream",
     "text": [
      "[402]\n",
      "col_id that is passed COPERNICUS/S1_GRD\n",
      "After s1 and s2 :\n",
      "After overlap:\n",
      "After num_per_month:\n",
      "collection done\n",
      "in try block\n",
      "Info on temporal\n"
     ]
    },
    {
     "name": "stderr",
     "output_type": "stream",
     "text": [
      " 35%|█████████████████████████████████████████████████▎                                                                                         | 190/536 [14:50<23:24,  4.06s/it]"
     ]
    },
    {
     "name": "stdout",
     "output_type": "stream",
     "text": [
      "[430]\n",
      "col_id that is passed COPERNICUS/S1_GRD\n",
      "After s1 and s2 :\n",
      "After overlap:\n",
      "After num_per_month:\n",
      "collection done\n",
      "in try block\n",
      "Info on temporal\n"
     ]
    },
    {
     "name": "stderr",
     "output_type": "stream",
     "text": [
      " 36%|█████████████████████████████████████████████████▌                                                                                         | 191/536 [14:54<23:05,  4.02s/it]"
     ]
    },
    {
     "name": "stdout",
     "output_type": "stream",
     "text": [
      "[337]\n",
      "col_id that is passed COPERNICUS/S1_GRD\n",
      "After s1 and s2 :\n",
      "After overlap:\n",
      "After num_per_month:\n",
      "collection done\n",
      "in try block\n",
      "Info on temporal\n"
     ]
    },
    {
     "name": "stderr",
     "output_type": "stream",
     "text": [
      " 36%|█████████████████████████████████████████████████▊                                                                                         | 192/536 [14:57<21:56,  3.83s/it]"
     ]
    },
    {
     "name": "stdout",
     "output_type": "stream",
     "text": [
      "[496]\n",
      "col_id that is passed COPERNICUS/S1_GRD\n",
      "After s1 and s2 :\n",
      "After overlap:\n",
      "After num_per_month:\n",
      "collection done\n",
      "in try block\n",
      "Info on temporal\n"
     ]
    },
    {
     "name": "stderr",
     "output_type": "stream",
     "text": [
      " 36%|██████████████████████████████████████████████████                                                                                         | 193/536 [15:01<21:50,  3.82s/it]"
     ]
    },
    {
     "name": "stdout",
     "output_type": "stream",
     "text": [
      "[493]\n",
      "col_id that is passed COPERNICUS/S1_GRD\n",
      "After s1 and s2 :\n",
      "After overlap:\n",
      "After num_per_month:\n",
      "collection done\n",
      "in try block\n",
      "Info on temporal\n"
     ]
    },
    {
     "name": "stderr",
     "output_type": "stream",
     "text": [
      " 36%|██████████████████████████████████████████████████▎                                                                                        | 194/536 [15:05<21:34,  3.78s/it]"
     ]
    },
    {
     "name": "stdout",
     "output_type": "stream",
     "text": [
      "[559]\n",
      "col_id that is passed COPERNICUS/S1_GRD\n",
      "After s1 and s2 :\n",
      "After overlap:\n",
      "After num_per_month:\n",
      "collection done\n",
      "in try block\n",
      "Info on temporal\n"
     ]
    },
    {
     "name": "stderr",
     "output_type": "stream",
     "text": [
      " 36%|██████████████████████████████████████████████████▌                                                                                        | 195/536 [15:08<21:31,  3.79s/it]"
     ]
    },
    {
     "name": "stdout",
     "output_type": "stream",
     "text": [
      "[315]\n",
      "col_id that is passed COPERNICUS/S1_GRD\n",
      "After s1 and s2 :\n",
      "After overlap:\n",
      "After num_per_month:\n",
      "collection done\n",
      "in try block\n",
      "Info on temporal\n"
     ]
    },
    {
     "name": "stderr",
     "output_type": "stream",
     "text": [
      " 37%|██████████████████████████████████████████████████▊                                                                                        | 196/536 [15:12<21:44,  3.84s/it]"
     ]
    },
    {
     "name": "stdout",
     "output_type": "stream",
     "text": [
      "[298]\n",
      "col_id that is passed COPERNICUS/S1_GRD\n",
      "After s1 and s2 :\n",
      "After overlap:\n",
      "After num_per_month:\n",
      "collection done\n",
      "in try block\n",
      "Info on temporal\n"
     ]
    },
    {
     "name": "stderr",
     "output_type": "stream",
     "text": [
      " 37%|███████████████████████████████████████████████████                                                                                        | 197/536 [15:16<20:44,  3.67s/it]"
     ]
    },
    {
     "name": "stdout",
     "output_type": "stream",
     "text": [
      "[375]\n",
      "col_id that is passed COPERNICUS/S1_GRD\n",
      "After s1 and s2 :\n",
      "After overlap:\n",
      "After num_per_month:\n",
      "collection done\n",
      "in try block\n",
      "Info on temporal\n"
     ]
    },
    {
     "name": "stderr",
     "output_type": "stream",
     "text": [
      " 37%|███████████████████████████████████████████████████▎                                                                                       | 198/536 [15:19<20:45,  3.69s/it]"
     ]
    },
    {
     "name": "stdout",
     "output_type": "stream",
     "text": [
      "[271]\n",
      "col_id that is passed COPERNICUS/S1_GRD\n",
      "After s1 and s2 :\n",
      "After overlap:\n",
      "After num_per_month:\n",
      "collection done\n",
      "in try block\n",
      "Info on temporal\n"
     ]
    },
    {
     "name": "stderr",
     "output_type": "stream",
     "text": [
      " 37%|███████████████████████████████████████████████████▌                                                                                       | 199/536 [15:24<22:43,  4.05s/it]"
     ]
    },
    {
     "name": "stdout",
     "output_type": "stream",
     "text": [
      "[511]\n",
      "col_id that is passed COPERNICUS/S1_GRD\n",
      "After s1 and s2 :\n",
      "After overlap:\n",
      "After num_per_month:\n",
      "collection done\n",
      "in try block\n",
      "Info on temporal\n"
     ]
    },
    {
     "name": "stderr",
     "output_type": "stream",
     "text": [
      " 37%|███████████████████████████████████████████████████▊                                                                                       | 200/536 [15:27<21:13,  3.79s/it]"
     ]
    },
    {
     "name": "stdout",
     "output_type": "stream",
     "text": [
      "[332]\n",
      "col_id that is passed COPERNICUS/S1_GRD\n",
      "After s1 and s2 :\n",
      "After overlap:\n",
      "After num_per_month:\n",
      "collection done\n",
      "in try block\n",
      "Info on temporal\n"
     ]
    },
    {
     "name": "stderr",
     "output_type": "stream",
     "text": [
      " 38%|████████████████████████████████████████████████████▏                                                                                      | 201/536 [15:33<23:30,  4.21s/it]"
     ]
    },
    {
     "name": "stdout",
     "output_type": "stream",
     "text": [
      "[347]\n",
      "col_id that is passed COPERNICUS/S1_GRD\n",
      "After s1 and s2 :\n",
      "After overlap:\n",
      "After num_per_month:\n",
      "collection done\n",
      "in try block\n",
      "Info on temporal\n"
     ]
    },
    {
     "name": "stderr",
     "output_type": "stream",
     "text": [
      " 38%|████████████████████████████████████████████████████▍                                                                                      | 202/536 [15:37<23:30,  4.22s/it]"
     ]
    },
    {
     "name": "stdout",
     "output_type": "stream",
     "text": [
      "[329]\n",
      "col_id that is passed COPERNICUS/S1_GRD\n",
      "After s1 and s2 :\n",
      "After overlap:\n",
      "After num_per_month:\n",
      "collection done\n",
      "in try block\n",
      "Info on temporal\n"
     ]
    },
    {
     "name": "stderr",
     "output_type": "stream",
     "text": [
      " 38%|████████████████████████████████████████████████████▋                                                                                      | 203/536 [15:42<25:06,  4.53s/it]"
     ]
    },
    {
     "name": "stdout",
     "output_type": "stream",
     "text": [
      "[433]\n",
      "col_id that is passed COPERNICUS/S1_GRD\n",
      "After s1 and s2 :\n",
      "After overlap:\n",
      "After num_per_month:\n",
      "collection done\n",
      "in try block\n",
      "Info on temporal\n"
     ]
    },
    {
     "name": "stderr",
     "output_type": "stream",
     "text": [
      " 38%|████████████████████████████████████████████████████▉                                                                                      | 204/536 [15:45<22:45,  4.11s/it]"
     ]
    },
    {
     "name": "stdout",
     "output_type": "stream",
     "text": [
      "[414]\n",
      "col_id that is passed COPERNICUS/S1_GRD\n",
      "After s1 and s2 :\n",
      "After overlap:\n",
      "After num_per_month:\n",
      "collection done\n",
      "in try block\n",
      "Info on temporal\n"
     ]
    },
    {
     "name": "stderr",
     "output_type": "stream",
     "text": [
      " 38%|█████████████████████████████████████████████████████▏                                                                                     | 205/536 [15:49<22:40,  4.11s/it]"
     ]
    },
    {
     "name": "stdout",
     "output_type": "stream",
     "text": [
      "[270]\n",
      "col_id that is passed COPERNICUS/S1_GRD\n",
      "After s1 and s2 :\n",
      "After overlap:\n",
      "After num_per_month:\n",
      "collection done\n",
      "in try block\n",
      "Info on temporal\n"
     ]
    },
    {
     "name": "stderr",
     "output_type": "stream",
     "text": [
      " 38%|█████████████████████████████████████████████████████▍                                                                                     | 206/536 [15:54<23:14,  4.23s/it]"
     ]
    },
    {
     "name": "stdout",
     "output_type": "stream",
     "text": [
      "[540]\n",
      "col_id that is passed COPERNICUS/S1_GRD\n",
      "After s1 and s2 :\n",
      "After overlap:\n",
      "After num_per_month:\n",
      "collection done\n",
      "in try block\n",
      "Info on temporal\n"
     ]
    },
    {
     "name": "stderr",
     "output_type": "stream",
     "text": [
      " 39%|█████████████████████████████████████████████████████▋                                                                                     | 207/536 [15:58<22:24,  4.09s/it]"
     ]
    },
    {
     "name": "stdout",
     "output_type": "stream",
     "text": [
      "[667]\n",
      "col_id that is passed COPERNICUS/S1_GRD\n",
      "After s1 and s2 :\n",
      "After overlap:\n",
      "After num_per_month:\n",
      "collection done\n",
      "in try block\n",
      "Info on temporal\n"
     ]
    },
    {
     "name": "stderr",
     "output_type": "stream",
     "text": [
      " 39%|█████████████████████████████████████████████████████▉                                                                                     | 208/536 [16:01<21:40,  3.97s/it]"
     ]
    },
    {
     "name": "stdout",
     "output_type": "stream",
     "text": [
      "[354]\n",
      "col_id that is passed COPERNICUS/S1_GRD\n",
      "After s1 and s2 :\n",
      "After overlap:\n",
      "After num_per_month:\n",
      "collection done\n",
      "in try block\n",
      "Info on temporal\n"
     ]
    },
    {
     "name": "stderr",
     "output_type": "stream",
     "text": [
      " 39%|██████████████████████████████████████████████████████▏                                                                                    | 209/536 [16:06<23:23,  4.29s/it]"
     ]
    },
    {
     "name": "stdout",
     "output_type": "stream",
     "text": [
      "[307]\n",
      "col_id that is passed COPERNICUS/S1_GRD\n",
      "After s1 and s2 :\n",
      "After overlap:\n",
      "After num_per_month:\n",
      "collection done\n",
      "in try block\n",
      "Info on temporal\n"
     ]
    },
    {
     "name": "stderr",
     "output_type": "stream",
     "text": [
      " 39%|██████████████████████████████████████████████████████▍                                                                                    | 210/536 [16:10<22:44,  4.19s/it]"
     ]
    },
    {
     "name": "stdout",
     "output_type": "stream",
     "text": [
      "[315]\n",
      "col_id that is passed COPERNICUS/S1_GRD\n",
      "After s1 and s2 :\n",
      "After overlap:\n",
      "After num_per_month:\n",
      "collection done\n",
      "in try block\n",
      "Info on temporal\n"
     ]
    },
    {
     "name": "stderr",
     "output_type": "stream",
     "text": [
      " 39%|██████████████████████████████████████████████████████▋                                                                                    | 211/536 [16:14<22:23,  4.14s/it]"
     ]
    },
    {
     "name": "stdout",
     "output_type": "stream",
     "text": [
      "[519]\n",
      "col_id that is passed COPERNICUS/S1_GRD\n",
      "After s1 and s2 :\n",
      "After overlap:\n",
      "After num_per_month:\n",
      "collection done\n",
      "in try block\n",
      "Info on temporal\n"
     ]
    },
    {
     "name": "stderr",
     "output_type": "stream",
     "text": [
      " 40%|██████████████████████████████████████████████████████▉                                                                                    | 212/536 [16:18<21:08,  3.92s/it]"
     ]
    },
    {
     "name": "stdout",
     "output_type": "stream",
     "text": [
      "[426]\n",
      "col_id that is passed COPERNICUS/S1_GRD\n",
      "After s1 and s2 :\n",
      "After overlap:\n",
      "After num_per_month:\n",
      "collection done\n",
      "in try block\n",
      "Info on temporal\n"
     ]
    },
    {
     "name": "stderr",
     "output_type": "stream",
     "text": [
      " 40%|███████████████████████████████████████████████████████▏                                                                                   | 213/536 [16:21<20:46,  3.86s/it]"
     ]
    },
    {
     "name": "stdout",
     "output_type": "stream",
     "text": [
      "[422]\n",
      "col_id that is passed COPERNICUS/S1_GRD\n",
      "After s1 and s2 :\n",
      "After overlap:\n",
      "After num_per_month:\n",
      "collection done\n",
      "in try block\n",
      "Info on temporal\n"
     ]
    },
    {
     "name": "stderr",
     "output_type": "stream",
     "text": [
      " 40%|███████████████████████████████████████████████████████▍                                                                                   | 214/536 [16:25<20:16,  3.78s/it]"
     ]
    },
    {
     "name": "stdout",
     "output_type": "stream",
     "text": [
      "[375]\n",
      "col_id that is passed COPERNICUS/S1_GRD\n",
      "After s1 and s2 :\n",
      "After overlap:\n",
      "After num_per_month:\n",
      "collection done\n",
      "in try block\n",
      "Info on temporal\n"
     ]
    },
    {
     "name": "stderr",
     "output_type": "stream",
     "text": [
      " 40%|███████████████████████████████████████████████████████▊                                                                                   | 215/536 [16:29<20:27,  3.83s/it]"
     ]
    },
    {
     "name": "stdout",
     "output_type": "stream",
     "text": [
      "[297]\n",
      "col_id that is passed COPERNICUS/S1_GRD\n",
      "After s1 and s2 :\n",
      "After overlap:\n",
      "After num_per_month:\n",
      "collection done\n",
      "in try block\n",
      "Info on temporal\n"
     ]
    },
    {
     "name": "stderr",
     "output_type": "stream",
     "text": [
      " 40%|████████████████████████████████████████████████████████                                                                                   | 216/536 [16:33<21:09,  3.97s/it]"
     ]
    },
    {
     "name": "stdout",
     "output_type": "stream",
     "text": [
      "[506]\n",
      "col_id that is passed COPERNICUS/S1_GRD\n",
      "After s1 and s2 :\n",
      "After overlap:\n",
      "After num_per_month:\n",
      "collection done\n",
      "in try block\n",
      "Info on temporal\n"
     ]
    },
    {
     "name": "stderr",
     "output_type": "stream",
     "text": [
      " 40%|████████████████████████████████████████████████████████▎                                                                                  | 217/536 [16:37<21:25,  4.03s/it]"
     ]
    },
    {
     "name": "stdout",
     "output_type": "stream",
     "text": [
      "[656]\n",
      "col_id that is passed COPERNICUS/S1_GRD\n",
      "After s1 and s2 :\n",
      "After overlap:\n",
      "After num_per_month:\n",
      "collection done\n",
      "in try block\n",
      "Info on temporal\n"
     ]
    },
    {
     "name": "stderr",
     "output_type": "stream",
     "text": [
      " 41%|████████████████████████████████████████████████████████▌                                                                                  | 218/536 [16:42<22:07,  4.18s/it]"
     ]
    },
    {
     "name": "stdout",
     "output_type": "stream",
     "text": [
      "[378]\n",
      "col_id that is passed COPERNICUS/S1_GRD\n",
      "After s1 and s2 :\n",
      "After overlap:\n",
      "After num_per_month:\n",
      "collection done\n",
      "in try block\n",
      "Info on temporal\n"
     ]
    },
    {
     "name": "stderr",
     "output_type": "stream",
     "text": [
      " 41%|████████████████████████████████████████████████████████▊                                                                                  | 219/536 [16:46<22:06,  4.18s/it]"
     ]
    },
    {
     "name": "stdout",
     "output_type": "stream",
     "text": [
      "[197]\n",
      "col_id that is passed COPERNICUS/S1_GRD\n",
      "After s1 and s2 :\n",
      "After overlap:\n",
      "After num_per_month:\n",
      "collection done\n",
      "in try block\n",
      "Info on temporal\n"
     ]
    },
    {
     "name": "stderr",
     "output_type": "stream",
     "text": [
      " 41%|█████████████████████████████████████████████████████████                                                                                  | 220/536 [16:50<22:17,  4.23s/it]"
     ]
    },
    {
     "name": "stdout",
     "output_type": "stream",
     "text": [
      "[343]\n",
      "col_id that is passed COPERNICUS/S1_GRD\n",
      "After s1 and s2 :\n",
      "After overlap:\n",
      "After num_per_month:\n",
      "collection done\n",
      "in try block\n",
      "Info on temporal\n"
     ]
    },
    {
     "name": "stderr",
     "output_type": "stream",
     "text": [
      " 41%|█████████████████████████████████████████████████████████▎                                                                                 | 221/536 [16:54<21:04,  4.01s/it]"
     ]
    },
    {
     "name": "stdout",
     "output_type": "stream",
     "text": [
      "[424]\n",
      "col_id that is passed COPERNICUS/S1_GRD\n",
      "After s1 and s2 :\n",
      "After overlap:\n",
      "After num_per_month:\n",
      "collection done\n",
      "in try block\n",
      "Info on temporal\n"
     ]
    },
    {
     "name": "stderr",
     "output_type": "stream",
     "text": [
      " 41%|█████████████████████████████████████████████████████████▌                                                                                 | 222/536 [16:58<21:16,  4.06s/it]"
     ]
    },
    {
     "name": "stdout",
     "output_type": "stream",
     "text": [
      "[333]\n",
      "col_id that is passed COPERNICUS/S1_GRD\n",
      "After s1 and s2 :\n",
      "After overlap:\n",
      "After num_per_month:\n",
      "collection done\n",
      "in try block\n",
      "Info on temporal\n"
     ]
    },
    {
     "name": "stderr",
     "output_type": "stream",
     "text": [
      " 42%|█████████████████████████████████████████████████████████▊                                                                                 | 223/536 [17:01<19:06,  3.66s/it]"
     ]
    },
    {
     "name": "stdout",
     "output_type": "stream",
     "text": [
      "[284]\n",
      "col_id that is passed COPERNICUS/S1_GRD\n",
      "After s1 and s2 :\n",
      "After overlap:\n",
      "After num_per_month:\n",
      "collection done\n",
      "in try block\n",
      "Info on temporal\n"
     ]
    },
    {
     "name": "stderr",
     "output_type": "stream",
     "text": [
      " 42%|██████████████████████████████████████████████████████████                                                                                 | 224/536 [17:04<18:46,  3.61s/it]"
     ]
    },
    {
     "name": "stdout",
     "output_type": "stream",
     "text": [
      "[315]\n",
      "col_id that is passed COPERNICUS/S1_GRD\n",
      "After s1 and s2 :\n",
      "After overlap:\n",
      "After num_per_month:\n",
      "collection done\n",
      "in try block\n",
      "Info on temporal\n"
     ]
    },
    {
     "name": "stderr",
     "output_type": "stream",
     "text": [
      " 42%|██████████████████████████████████████████████████████████▎                                                                                | 225/536 [17:07<17:47,  3.43s/it]"
     ]
    },
    {
     "name": "stdout",
     "output_type": "stream",
     "text": [
      "[471]\n",
      "col_id that is passed COPERNICUS/S1_GRD\n",
      "After s1 and s2 :\n",
      "After overlap:\n",
      "After num_per_month:\n",
      "collection done\n",
      "in try block\n",
      "Info on temporal\n"
     ]
    },
    {
     "name": "stderr",
     "output_type": "stream",
     "text": [
      " 42%|██████████████████████████████████████████████████████████▌                                                                                | 226/536 [17:11<18:35,  3.60s/it]"
     ]
    },
    {
     "name": "stdout",
     "output_type": "stream",
     "text": [
      "[424]\n",
      "col_id that is passed COPERNICUS/S1_GRD\n",
      "After s1 and s2 :\n",
      "After overlap:\n",
      "After num_per_month:\n",
      "collection done\n",
      "in try block\n",
      "Info on temporal\n"
     ]
    },
    {
     "name": "stderr",
     "output_type": "stream",
     "text": [
      " 42%|██████████████████████████████████████████████████████████▊                                                                                | 227/536 [17:16<20:02,  3.89s/it]"
     ]
    },
    {
     "name": "stdout",
     "output_type": "stream",
     "text": [
      "[424]\n",
      "col_id that is passed COPERNICUS/S1_GRD\n",
      "After s1 and s2 :\n",
      "After overlap:\n",
      "After num_per_month:\n",
      "collection done\n",
      "in try block\n",
      "Info on temporal\n"
     ]
    },
    {
     "name": "stderr",
     "output_type": "stream",
     "text": [
      " 43%|███████████████████████████████████████████████████████████▏                                                                               | 228/536 [17:21<21:02,  4.10s/it]"
     ]
    },
    {
     "name": "stdout",
     "output_type": "stream",
     "text": [
      "[268]\n",
      "col_id that is passed COPERNICUS/S1_GRD\n",
      "After s1 and s2 :\n",
      "After overlap:\n",
      "After num_per_month:\n",
      "collection done\n",
      "in try block\n",
      "Info on temporal\n"
     ]
    },
    {
     "name": "stderr",
     "output_type": "stream",
     "text": [
      " 43%|███████████████████████████████████████████████████████████▍                                                                               | 229/536 [17:24<20:40,  4.04s/it]"
     ]
    },
    {
     "name": "stdout",
     "output_type": "stream",
     "text": [
      "[497]\n",
      "col_id that is passed COPERNICUS/S1_GRD\n",
      "After s1 and s2 :\n",
      "After overlap:\n",
      "After num_per_month:\n",
      "collection done\n",
      "in try block\n",
      "Info on temporal\n"
     ]
    },
    {
     "name": "stderr",
     "output_type": "stream",
     "text": [
      " 43%|███████████████████████████████████████████████████████████▋                                                                               | 230/536 [17:28<19:56,  3.91s/it]"
     ]
    },
    {
     "name": "stdout",
     "output_type": "stream",
     "text": [
      "[380]\n",
      "col_id that is passed COPERNICUS/S1_GRD\n",
      "After s1 and s2 :\n",
      "After overlap:\n",
      "After num_per_month:\n",
      "collection done\n",
      "in try block\n",
      "Info on temporal\n"
     ]
    },
    {
     "name": "stderr",
     "output_type": "stream",
     "text": [
      " 43%|███████████████████████████████████████████████████████████▉                                                                               | 231/536 [17:32<20:00,  3.94s/it]"
     ]
    },
    {
     "name": "stdout",
     "output_type": "stream",
     "text": [
      "[371]\n",
      "col_id that is passed COPERNICUS/S1_GRD\n",
      "After s1 and s2 :\n",
      "After overlap:\n",
      "After num_per_month:\n",
      "collection done\n",
      "in try block\n",
      "Info on temporal\n"
     ]
    },
    {
     "name": "stderr",
     "output_type": "stream",
     "text": [
      " 43%|████████████████████████████████████████████████████████████▏                                                                              | 232/536 [17:36<19:53,  3.93s/it]"
     ]
    },
    {
     "name": "stdout",
     "output_type": "stream",
     "text": [
      "[380]\n",
      "col_id that is passed COPERNICUS/S1_GRD\n",
      "After s1 and s2 :\n",
      "After overlap:\n",
      "After num_per_month:\n",
      "collection done\n",
      "in try block\n",
      "Info on temporal\n"
     ]
    },
    {
     "name": "stderr",
     "output_type": "stream",
     "text": [
      " 43%|████████████████████████████████████████████████████████████▍                                                                              | 233/536 [17:40<19:55,  3.95s/it]"
     ]
    },
    {
     "name": "stdout",
     "output_type": "stream",
     "text": [
      "[326]\n",
      "col_id that is passed COPERNICUS/S1_GRD\n",
      "After s1 and s2 :\n",
      "After overlap:\n",
      "After num_per_month:\n",
      "collection done\n",
      "in try block\n",
      "Info on temporal\n"
     ]
    },
    {
     "name": "stderr",
     "output_type": "stream",
     "text": [
      " 44%|████████████████████████████████████████████████████████████▋                                                                              | 234/536 [17:44<19:25,  3.86s/it]"
     ]
    },
    {
     "name": "stdout",
     "output_type": "stream",
     "text": [
      "[414]\n",
      "col_id that is passed COPERNICUS/S1_GRD\n",
      "After s1 and s2 :\n",
      "After overlap:\n",
      "After num_per_month:\n",
      "collection done\n",
      "in try block\n",
      "Info on temporal\n"
     ]
    },
    {
     "name": "stderr",
     "output_type": "stream",
     "text": [
      " 44%|████████████████████████████████████████████████████████████▉                                                                              | 235/536 [17:50<22:28,  4.48s/it]"
     ]
    },
    {
     "name": "stdout",
     "output_type": "stream",
     "text": [
      "[328]\n",
      "col_id that is passed COPERNICUS/S1_GRD\n",
      "After s1 and s2 :\n",
      "After overlap:\n",
      "After num_per_month:\n",
      "collection done\n",
      "in try block\n",
      "Info on temporal\n"
     ]
    },
    {
     "name": "stderr",
     "output_type": "stream",
     "text": [
      " 44%|█████████████████████████████████████████████████████████████▏                                                                             | 236/536 [17:54<22:39,  4.53s/it]"
     ]
    },
    {
     "name": "stdout",
     "output_type": "stream",
     "text": [
      "[567]\n",
      "col_id that is passed COPERNICUS/S1_GRD\n",
      "After s1 and s2 :\n",
      "After overlap:\n",
      "After num_per_month:\n",
      "collection done\n",
      "in try block\n",
      "Info on temporal\n"
     ]
    },
    {
     "name": "stderr",
     "output_type": "stream",
     "text": [
      " 44%|█████████████████████████████████████████████████████████████▍                                                                             | 237/536 [17:58<21:34,  4.33s/it]"
     ]
    },
    {
     "name": "stdout",
     "output_type": "stream",
     "text": [
      "[428]\n",
      "col_id that is passed COPERNICUS/S1_GRD\n",
      "After s1 and s2 :\n",
      "After overlap:\n",
      "After num_per_month:\n",
      "collection done\n",
      "in try block\n",
      "Info on temporal\n"
     ]
    },
    {
     "name": "stderr",
     "output_type": "stream",
     "text": [
      " 44%|█████████████████████████████████████████████████████████████▋                                                                             | 238/536 [18:02<20:41,  4.16s/it]"
     ]
    },
    {
     "name": "stdout",
     "output_type": "stream",
     "text": [
      "[205]\n",
      "col_id that is passed COPERNICUS/S1_GRD\n",
      "After s1 and s2 :\n",
      "After overlap:\n",
      "After num_per_month:\n",
      "collection done\n",
      "in try block\n",
      "Info on temporal\n"
     ]
    },
    {
     "name": "stderr",
     "output_type": "stream",
     "text": [
      " 45%|█████████████████████████████████████████████████████████████▉                                                                             | 239/536 [18:06<19:55,  4.03s/it]"
     ]
    },
    {
     "name": "stdout",
     "output_type": "stream",
     "text": [
      "[374]\n",
      "col_id that is passed COPERNICUS/S1_GRD\n",
      "After s1 and s2 :\n",
      "After overlap:\n",
      "After num_per_month:\n",
      "collection done\n",
      "in try block\n",
      "Info on temporal\n"
     ]
    },
    {
     "name": "stderr",
     "output_type": "stream",
     "text": [
      " 45%|██████████████████████████████████████████████████████████████▏                                                                            | 240/536 [18:10<19:47,  4.01s/it]"
     ]
    },
    {
     "name": "stdout",
     "output_type": "stream",
     "text": [
      "[577]\n",
      "col_id that is passed COPERNICUS/S1_GRD\n",
      "After s1 and s2 :\n",
      "After overlap:\n",
      "After num_per_month:\n",
      "collection done\n",
      "in try block\n",
      "Info on temporal\n"
     ]
    },
    {
     "name": "stderr",
     "output_type": "stream",
     "text": [
      " 45%|██████████████████████████████████████████████████████████████▍                                                                            | 241/536 [18:13<19:38,  4.00s/it]"
     ]
    },
    {
     "name": "stdout",
     "output_type": "stream",
     "text": [
      "[507]\n",
      "col_id that is passed COPERNICUS/S1_GRD\n",
      "After s1 and s2 :\n",
      "After overlap:\n",
      "After num_per_month:\n",
      "collection done\n",
      "in try block\n",
      "Info on temporal\n"
     ]
    },
    {
     "name": "stderr",
     "output_type": "stream",
     "text": [
      " 45%|██████████████████████████████████████████████████████████████▊                                                                            | 242/536 [18:17<19:00,  3.88s/it]"
     ]
    },
    {
     "name": "stdout",
     "output_type": "stream",
     "text": [
      "[240]\n",
      "col_id that is passed COPERNICUS/S1_GRD\n",
      "After s1 and s2 :\n",
      "After overlap:\n",
      "After num_per_month:\n",
      "collection done\n",
      "in try block\n",
      "Info on temporal\n"
     ]
    },
    {
     "name": "stderr",
     "output_type": "stream",
     "text": [
      " 45%|███████████████████████████████████████████████████████████████                                                                            | 243/536 [18:23<21:13,  4.35s/it]"
     ]
    },
    {
     "name": "stdout",
     "output_type": "stream",
     "text": [
      "[498]\n",
      "col_id that is passed COPERNICUS/S1_GRD\n",
      "After s1 and s2 :\n",
      "After overlap:\n",
      "After num_per_month:\n",
      "collection done\n",
      "in try block\n",
      "Info on temporal\n"
     ]
    },
    {
     "name": "stderr",
     "output_type": "stream",
     "text": [
      " 46%|███████████████████████████████████████████████████████████████▎                                                                           | 244/536 [18:28<22:18,  4.58s/it]"
     ]
    },
    {
     "name": "stdout",
     "output_type": "stream",
     "text": [
      "[447]\n",
      "col_id that is passed COPERNICUS/S1_GRD\n",
      "After s1 and s2 :\n",
      "After overlap:\n",
      "After num_per_month:\n",
      "collection done\n",
      "in try block\n",
      "Info on temporal\n"
     ]
    },
    {
     "name": "stderr",
     "output_type": "stream",
     "text": [
      " 46%|███████████████████████████████████████████████████████████████▌                                                                           | 245/536 [18:31<21:09,  4.36s/it]"
     ]
    },
    {
     "name": "stdout",
     "output_type": "stream",
     "text": [
      "[371]\n",
      "col_id that is passed COPERNICUS/S1_GRD\n",
      "After s1 and s2 :\n",
      "After overlap:\n",
      "After num_per_month:\n",
      "collection done\n",
      "in try block\n",
      "Info on temporal\n"
     ]
    },
    {
     "name": "stderr",
     "output_type": "stream",
     "text": [
      " 46%|███████████████████████████████████████████████████████████████▊                                                                           | 246/536 [18:36<20:36,  4.26s/it]"
     ]
    },
    {
     "name": "stdout",
     "output_type": "stream",
     "text": [
      "[430]\n",
      "col_id that is passed COPERNICUS/S1_GRD\n",
      "After s1 and s2 :\n",
      "After overlap:\n",
      "After num_per_month:\n",
      "collection done\n",
      "in try block\n",
      "Info on temporal\n"
     ]
    },
    {
     "name": "stderr",
     "output_type": "stream",
     "text": [
      " 46%|████████████████████████████████████████████████████████████████                                                                           | 247/536 [18:40<20:44,  4.31s/it]"
     ]
    },
    {
     "name": "stdout",
     "output_type": "stream",
     "text": [
      "[469]\n",
      "col_id that is passed COPERNICUS/S1_GRD\n",
      "After s1 and s2 :\n",
      "After overlap:\n",
      "After num_per_month:\n",
      "collection done\n",
      "in try block\n",
      "Info on temporal\n"
     ]
    },
    {
     "name": "stderr",
     "output_type": "stream",
     "text": [
      " 46%|████████████████████████████████████████████████████████████████▎                                                                          | 248/536 [18:43<19:27,  4.06s/it]"
     ]
    },
    {
     "name": "stdout",
     "output_type": "stream",
     "text": [
      "[577]\n",
      "col_id that is passed COPERNICUS/S1_GRD\n",
      "After s1 and s2 :\n",
      "After overlap:\n",
      "After num_per_month:\n",
      "collection done\n",
      "in try block\n",
      "Info on temporal\n"
     ]
    },
    {
     "name": "stderr",
     "output_type": "stream",
     "text": [
      " 46%|████████████████████████████████████████████████████████████████▌                                                                          | 249/536 [18:49<21:59,  4.60s/it]"
     ]
    },
    {
     "name": "stdout",
     "output_type": "stream",
     "text": [
      "[647]\n",
      "col_id that is passed COPERNICUS/S1_GRD\n",
      "After s1 and s2 :\n",
      "After overlap:\n",
      "After num_per_month:\n",
      "collection done\n",
      "in try block\n",
      "Info on temporal\n"
     ]
    },
    {
     "name": "stderr",
     "output_type": "stream",
     "text": [
      " 47%|████████████████████████████████████████████████████████████████▊                                                                          | 250/536 [18:54<21:30,  4.51s/it]"
     ]
    },
    {
     "name": "stdout",
     "output_type": "stream",
     "text": [
      "[436]\n",
      "col_id that is passed COPERNICUS/S1_GRD\n",
      "After s1 and s2 :\n",
      "After overlap:\n",
      "After num_per_month:\n",
      "collection done\n",
      "in try block\n",
      "Info on temporal\n"
     ]
    },
    {
     "name": "stderr",
     "output_type": "stream",
     "text": [
      " 47%|█████████████████████████████████████████████████████████████████                                                                          | 251/536 [18:59<22:18,  4.70s/it]"
     ]
    },
    {
     "name": "stdout",
     "output_type": "stream",
     "text": [
      "[581]\n",
      "col_id that is passed COPERNICUS/S1_GRD\n",
      "After s1 and s2 :\n",
      "After overlap:\n",
      "After num_per_month:\n",
      "collection done\n",
      "in try block\n",
      "Info on temporal\n"
     ]
    },
    {
     "name": "stderr",
     "output_type": "stream",
     "text": [
      " 47%|█████████████████████████████████████████████████████████████████▎                                                                         | 252/536 [19:04<23:27,  4.96s/it]"
     ]
    },
    {
     "name": "stdout",
     "output_type": "stream",
     "text": [
      "[567]\n",
      "col_id that is passed COPERNICUS/S1_GRD\n",
      "After s1 and s2 :\n",
      "After overlap:\n",
      "After num_per_month:\n",
      "collection done\n",
      "in try block\n",
      "Info on temporal\n"
     ]
    },
    {
     "name": "stderr",
     "output_type": "stream",
     "text": [
      " 47%|█████████████████████████████████████████████████████████████████▌                                                                         | 253/536 [19:08<21:11,  4.49s/it]"
     ]
    },
    {
     "name": "stdout",
     "output_type": "stream",
     "text": [
      "[209]\n",
      "col_id that is passed COPERNICUS/S1_GRD\n",
      "After s1 and s2 :\n",
      "After overlap:\n",
      "After num_per_month:\n",
      "collection done\n",
      "in try block\n",
      "Info on temporal\n"
     ]
    },
    {
     "name": "stderr",
     "output_type": "stream",
     "text": [
      " 47%|█████████████████████████████████████████████████████████████████▊                                                                         | 254/536 [19:12<20:29,  4.36s/it]"
     ]
    },
    {
     "name": "stdout",
     "output_type": "stream",
     "text": [
      "[194]\n",
      "col_id that is passed COPERNICUS/S1_GRD\n",
      "After s1 and s2 :\n",
      "After overlap:\n",
      "After num_per_month:\n",
      "collection done\n",
      "in try block\n",
      "Info on temporal\n"
     ]
    },
    {
     "name": "stderr",
     "output_type": "stream",
     "text": [
      " 48%|██████████████████████████████████████████████████████████████████▏                                                                        | 255/536 [19:16<20:32,  4.39s/it]"
     ]
    },
    {
     "name": "stdout",
     "output_type": "stream",
     "text": [
      "[424]\n",
      "col_id that is passed COPERNICUS/S1_GRD\n",
      "After s1 and s2 :\n",
      "After overlap:\n",
      "After num_per_month:\n",
      "collection done\n",
      "in try block\n",
      "Info on temporal\n"
     ]
    },
    {
     "name": "stderr",
     "output_type": "stream",
     "text": [
      " 48%|██████████████████████████████████████████████████████████████████▍                                                                        | 256/536 [19:20<20:09,  4.32s/it]"
     ]
    },
    {
     "name": "stdout",
     "output_type": "stream",
     "text": [
      "[876]\n",
      "col_id that is passed COPERNICUS/S1_GRD\n",
      "After s1 and s2 :\n",
      "After overlap:\n",
      "After num_per_month:\n",
      "collection done\n",
      "in try block\n",
      "Info on temporal\n"
     ]
    },
    {
     "name": "stderr",
     "output_type": "stream",
     "text": [
      " 48%|██████████████████████████████████████████████████████████████████▋                                                                        | 257/536 [19:24<18:59,  4.08s/it]"
     ]
    },
    {
     "name": "stdout",
     "output_type": "stream",
     "text": [
      "[594]\n",
      "col_id that is passed COPERNICUS/S1_GRD\n",
      "After s1 and s2 :\n",
      "After overlap:\n",
      "After num_per_month:\n",
      "collection done\n",
      "in try block\n",
      "Info on temporal\n"
     ]
    },
    {
     "name": "stderr",
     "output_type": "stream",
     "text": [
      " 48%|██████████████████████████████████████████████████████████████████▉                                                                        | 258/536 [19:29<20:07,  4.34s/it]"
     ]
    },
    {
     "name": "stdout",
     "output_type": "stream",
     "text": [
      "[436]\n",
      "col_id that is passed COPERNICUS/S1_GRD\n",
      "After s1 and s2 :\n",
      "After overlap:\n",
      "After num_per_month:\n",
      "collection done\n",
      "in try block\n",
      "Info on temporal\n"
     ]
    },
    {
     "name": "stderr",
     "output_type": "stream",
     "text": [
      " 48%|███████████████████████████████████████████████████████████████████▏                                                                       | 259/536 [19:34<20:40,  4.48s/it]"
     ]
    },
    {
     "name": "stdout",
     "output_type": "stream",
     "text": [
      "[214]\n",
      "col_id that is passed COPERNICUS/S1_GRD\n",
      "After s1 and s2 :\n",
      "After overlap:\n",
      "After num_per_month:\n",
      "collection done\n",
      "in try block\n",
      "Info on temporal\n"
     ]
    },
    {
     "name": "stderr",
     "output_type": "stream",
     "text": [
      " 49%|███████████████████████████████████████████████████████████████████▍                                                                       | 260/536 [19:39<22:01,  4.79s/it]"
     ]
    },
    {
     "name": "stdout",
     "output_type": "stream",
     "text": [
      "[732]\n",
      "col_id that is passed COPERNICUS/S1_GRD\n",
      "After s1 and s2 :\n",
      "After overlap:\n",
      "After num_per_month:\n",
      "collection done\n",
      "in try block\n",
      "Info on temporal\n"
     ]
    },
    {
     "name": "stderr",
     "output_type": "stream",
     "text": [
      " 49%|███████████████████████████████████████████████████████████████████▋                                                                       | 261/536 [19:45<22:50,  4.99s/it]"
     ]
    },
    {
     "name": "stdout",
     "output_type": "stream",
     "text": [
      "[264]\n",
      "col_id that is passed COPERNICUS/S1_GRD\n",
      "After s1 and s2 :\n",
      "After overlap:\n",
      "After num_per_month:\n",
      "collection done\n",
      "in try block\n",
      "Info on temporal\n"
     ]
    },
    {
     "name": "stderr",
     "output_type": "stream",
     "text": [
      " 49%|███████████████████████████████████████████████████████████████████▉                                                                       | 262/536 [19:48<20:37,  4.51s/it]"
     ]
    },
    {
     "name": "stdout",
     "output_type": "stream",
     "text": [
      "[443]\n",
      "col_id that is passed COPERNICUS/S1_GRD\n",
      "After s1 and s2 :\n",
      "After overlap:\n",
      "After num_per_month:\n",
      "collection done\n",
      "in try block\n",
      "Info on temporal\n"
     ]
    },
    {
     "name": "stderr",
     "output_type": "stream",
     "text": [
      " 49%|████████████████████████████████████████████████████████████████████▏                                                                      | 263/536 [19:51<18:37,  4.09s/it]"
     ]
    },
    {
     "name": "stdout",
     "output_type": "stream",
     "text": [
      "[319]\n",
      "col_id that is passed COPERNICUS/S1_GRD\n",
      "After s1 and s2 :\n",
      "After overlap:\n",
      "After num_per_month:\n",
      "collection done\n",
      "in try block\n",
      "Info on temporal\n"
     ]
    },
    {
     "name": "stderr",
     "output_type": "stream",
     "text": [
      " 49%|████████████████████████████████████████████████████████████████████▍                                                                      | 264/536 [19:56<19:49,  4.37s/it]"
     ]
    },
    {
     "name": "stdout",
     "output_type": "stream",
     "text": [
      "[814]\n",
      "col_id that is passed COPERNICUS/S1_GRD\n",
      "After s1 and s2 :\n",
      "After overlap:\n",
      "After num_per_month:\n",
      "collection done\n",
      "in try block\n",
      "Info on temporal\n"
     ]
    },
    {
     "name": "stderr",
     "output_type": "stream",
     "text": [
      " 49%|████████████████████████████████████████████████████████████████████▋                                                                      | 265/536 [20:01<20:18,  4.49s/it]"
     ]
    },
    {
     "name": "stdout",
     "output_type": "stream",
     "text": [
      "[420]\n",
      "col_id that is passed COPERNICUS/S1_GRD\n",
      "After s1 and s2 :\n",
      "After overlap:\n",
      "After num_per_month:\n",
      "collection done\n",
      "in try block\n",
      "Info on temporal\n"
     ]
    },
    {
     "name": "stderr",
     "output_type": "stream",
     "text": [
      " 50%|████████████████████████████████████████████████████████████████████▉                                                                      | 266/536 [20:05<19:10,  4.26s/it]"
     ]
    },
    {
     "name": "stdout",
     "output_type": "stream",
     "text": [
      "[261]\n",
      "col_id that is passed COPERNICUS/S1_GRD\n",
      "After s1 and s2 :\n",
      "After overlap:\n",
      "After num_per_month:\n",
      "collection done\n",
      "in try block\n",
      "Info on temporal\n"
     ]
    },
    {
     "name": "stderr",
     "output_type": "stream",
     "text": [
      " 50%|█████████████████████████████████████████████████████████████████████▏                                                                     | 267/536 [20:08<18:00,  4.02s/it]"
     ]
    },
    {
     "name": "stdout",
     "output_type": "stream",
     "text": [
      "[414]\n",
      "col_id that is passed COPERNICUS/S1_GRD\n",
      "After s1 and s2 :\n",
      "After overlap:\n",
      "After num_per_month:\n",
      "collection done\n",
      "in try block\n",
      "Info on temporal\n"
     ]
    },
    {
     "name": "stderr",
     "output_type": "stream",
     "text": [
      " 50%|█████████████████████████████████████████████████████████████████████▌                                                                     | 268/536 [20:11<16:59,  3.80s/it]"
     ]
    },
    {
     "name": "stdout",
     "output_type": "stream",
     "text": [
      "[278]\n",
      "col_id that is passed COPERNICUS/S1_GRD\n",
      "After s1 and s2 :\n",
      "After overlap:\n",
      "After num_per_month:\n",
      "collection done\n",
      "in try block\n",
      "Info on temporal\n"
     ]
    },
    {
     "name": "stderr",
     "output_type": "stream",
     "text": [
      " 50%|█████████████████████████████████████████████████████████████████████▊                                                                     | 269/536 [20:18<20:19,  4.57s/it]"
     ]
    },
    {
     "name": "stdout",
     "output_type": "stream",
     "text": [
      "[694]\n",
      "col_id that is passed COPERNICUS/S1_GRD\n",
      "After s1 and s2 :\n",
      "After overlap:\n",
      "After num_per_month:\n",
      "collection done\n",
      "in try block\n",
      "Info on temporal\n"
     ]
    },
    {
     "name": "stderr",
     "output_type": "stream",
     "text": [
      " 50%|██████████████████████████████████████████████████████████████████████                                                                     | 270/536 [20:22<20:25,  4.61s/it]"
     ]
    },
    {
     "name": "stdout",
     "output_type": "stream",
     "text": [
      "[600]\n",
      "col_id that is passed COPERNICUS/S1_GRD\n",
      "After s1 and s2 :\n",
      "After overlap:\n",
      "After num_per_month:\n",
      "collection done\n",
      "in try block\n",
      "Info on temporal\n"
     ]
    },
    {
     "name": "stderr",
     "output_type": "stream",
     "text": [
      " 51%|██████████████████████████████████████████████████████████████████████▎                                                                    | 271/536 [20:27<19:42,  4.46s/it]"
     ]
    },
    {
     "name": "stdout",
     "output_type": "stream",
     "text": [
      "[211]\n",
      "col_id that is passed COPERNICUS/S1_GRD\n",
      "After s1 and s2 :\n",
      "After overlap:\n",
      "After num_per_month:\n",
      "collection done\n",
      "in try block\n",
      "Info on temporal\n"
     ]
    },
    {
     "name": "stderr",
     "output_type": "stream",
     "text": [
      " 51%|██████████████████████████████████████████████████████████████████████▌                                                                    | 272/536 [20:30<18:10,  4.13s/it]"
     ]
    },
    {
     "name": "stdout",
     "output_type": "stream",
     "text": [
      "[218]\n",
      "col_id that is passed COPERNICUS/S1_GRD\n",
      "After s1 and s2 :\n",
      "After overlap:\n",
      "After num_per_month:\n",
      "collection done\n",
      "in try block\n",
      "Info on temporal\n"
     ]
    },
    {
     "name": "stderr",
     "output_type": "stream",
     "text": [
      " 51%|██████████████████████████████████████████████████████████████████████▊                                                                    | 273/536 [20:34<18:18,  4.18s/it]"
     ]
    },
    {
     "name": "stdout",
     "output_type": "stream",
     "text": [
      "[502]\n",
      "col_id that is passed COPERNICUS/S1_GRD\n",
      "After s1 and s2 :\n",
      "After overlap:\n",
      "After num_per_month:\n",
      "collection done\n",
      "in try block\n",
      "Info on temporal\n"
     ]
    },
    {
     "name": "stderr",
     "output_type": "stream",
     "text": [
      " 51%|███████████████████████████████████████████████████████████████████████                                                                    | 274/536 [20:40<20:18,  4.65s/it]"
     ]
    },
    {
     "name": "stdout",
     "output_type": "stream",
     "text": [
      "[371]\n",
      "col_id that is passed COPERNICUS/S1_GRD\n",
      "After s1 and s2 :\n",
      "After overlap:\n",
      "After num_per_month:\n",
      "collection done\n",
      "in try block\n",
      "Info on temporal\n"
     ]
    },
    {
     "name": "stderr",
     "output_type": "stream",
     "text": [
      " 51%|███████████████████████████████████████████████████████████████████████▎                                                                   | 275/536 [20:43<18:39,  4.29s/it]"
     ]
    },
    {
     "name": "stdout",
     "output_type": "stream",
     "text": [
      "[446]\n",
      "col_id that is passed COPERNICUS/S1_GRD\n",
      "After s1 and s2 :\n",
      "After overlap:\n",
      "After num_per_month:\n",
      "collection done\n",
      "in try block\n",
      "Info on temporal\n"
     ]
    },
    {
     "name": "stderr",
     "output_type": "stream",
     "text": [
      " 51%|███████████████████████████████████████████████████████████████████████▌                                                                   | 276/536 [20:48<19:02,  4.40s/it]"
     ]
    },
    {
     "name": "stdout",
     "output_type": "stream",
     "text": [
      "[697]\n",
      "col_id that is passed COPERNICUS/S1_GRD\n",
      "After s1 and s2 :\n",
      "After overlap:\n",
      "After num_per_month:\n",
      "collection done\n",
      "in try block\n",
      "Info on temporal\n"
     ]
    },
    {
     "name": "stderr",
     "output_type": "stream",
     "text": [
      " 52%|███████████████████████████████████████████████████████████████████████▊                                                                   | 277/536 [20:52<18:56,  4.39s/it]"
     ]
    },
    {
     "name": "stdout",
     "output_type": "stream",
     "text": [
      "[496]\n",
      "col_id that is passed COPERNICUS/S1_GRD\n",
      "After s1 and s2 :\n",
      "After overlap:\n",
      "After num_per_month:\n",
      "collection done\n",
      "in try block\n",
      "Info on temporal\n"
     ]
    },
    {
     "name": "stderr",
     "output_type": "stream",
     "text": [
      " 52%|████████████████████████████████████████████████████████████████████████                                                                   | 278/536 [20:56<18:24,  4.28s/it]"
     ]
    },
    {
     "name": "stdout",
     "output_type": "stream",
     "text": [
      "[630]\n",
      "col_id that is passed COPERNICUS/S1_GRD\n",
      "After s1 and s2 :\n",
      "After overlap:\n",
      "After num_per_month:\n",
      "collection done\n",
      "in try block\n",
      "Info on temporal\n"
     ]
    },
    {
     "name": "stderr",
     "output_type": "stream",
     "text": [
      " 52%|████████████████████████████████████████████████████████████████████████▎                                                                  | 279/536 [21:01<18:45,  4.38s/it]"
     ]
    },
    {
     "name": "stdout",
     "output_type": "stream",
     "text": [
      "[237]\n",
      "col_id that is passed COPERNICUS/S1_GRD\n",
      "After s1 and s2 :\n",
      "After overlap:\n",
      "After num_per_month:\n",
      "collection done\n",
      "in try block\n",
      "Info on temporal\n"
     ]
    },
    {
     "name": "stderr",
     "output_type": "stream",
     "text": [
      " 52%|████████████████████████████████████████████████████████████████████████▌                                                                  | 280/536 [21:06<19:05,  4.48s/it]"
     ]
    },
    {
     "name": "stdout",
     "output_type": "stream",
     "text": [
      "[439]\n",
      "col_id that is passed COPERNICUS/S1_GRD\n",
      "After s1 and s2 :\n",
      "After overlap:\n",
      "After num_per_month:\n",
      "collection done\n",
      "in try block\n",
      "Info on temporal\n"
     ]
    },
    {
     "name": "stderr",
     "output_type": "stream",
     "text": [
      " 52%|████████████████████████████████████████████████████████████████████████▊                                                                  | 281/536 [21:09<16:54,  3.98s/it]"
     ]
    },
    {
     "name": "stdout",
     "output_type": "stream",
     "text": [
      "[352]\n",
      "col_id that is passed COPERNICUS/S1_GRD\n",
      "After s1 and s2 :\n",
      "After overlap:\n",
      "After num_per_month:\n",
      "collection done\n",
      "in try block\n",
      "Info on temporal\n"
     ]
    },
    {
     "name": "stderr",
     "output_type": "stream",
     "text": [
      " 53%|█████████████████████████████████████████████████████████████████████████▏                                                                 | 282/536 [21:13<17:19,  4.09s/it]"
     ]
    },
    {
     "name": "stdout",
     "output_type": "stream",
     "text": [
      "[326]\n",
      "col_id that is passed COPERNICUS/S1_GRD\n",
      "After s1 and s2 :\n",
      "After overlap:\n",
      "After num_per_month:\n",
      "collection done\n",
      "in try block\n",
      "Info on temporal\n"
     ]
    },
    {
     "name": "stderr",
     "output_type": "stream",
     "text": [
      " 53%|█████████████████████████████████████████████████████████████████████████▍                                                                 | 283/536 [21:17<17:03,  4.05s/it]"
     ]
    },
    {
     "name": "stdout",
     "output_type": "stream",
     "text": [
      "[244]\n",
      "col_id that is passed COPERNICUS/S1_GRD\n",
      "After s1 and s2 :\n",
      "After overlap:\n",
      "After num_per_month:\n",
      "collection done\n",
      "in try block\n",
      "Info on temporal\n"
     ]
    },
    {
     "name": "stderr",
     "output_type": "stream",
     "text": [
      " 53%|█████████████████████████████████████████████████████████████████████████▋                                                                 | 284/536 [21:20<16:11,  3.85s/it]"
     ]
    },
    {
     "name": "stdout",
     "output_type": "stream",
     "text": [
      "[225]\n",
      "col_id that is passed COPERNICUS/S1_GRD\n",
      "After s1 and s2 :\n",
      "After overlap:\n",
      "After num_per_month:\n",
      "collection done\n",
      "in try block\n",
      "Info on temporal\n"
     ]
    },
    {
     "name": "stderr",
     "output_type": "stream",
     "text": [
      " 53%|█████████████████████████████████████████████████████████████████████████▉                                                                 | 285/536 [21:24<16:11,  3.87s/it]"
     ]
    },
    {
     "name": "stdout",
     "output_type": "stream",
     "text": [
      "[338]\n",
      "col_id that is passed COPERNICUS/S1_GRD\n",
      "After s1 and s2 :\n",
      "After overlap:\n",
      "After num_per_month:\n",
      "collection done\n",
      "in try block\n",
      "Info on temporal\n"
     ]
    },
    {
     "name": "stderr",
     "output_type": "stream",
     "text": [
      " 53%|██████████████████████████████████████████████████████████████████████████▏                                                                | 286/536 [21:28<15:27,  3.71s/it]"
     ]
    },
    {
     "name": "stdout",
     "output_type": "stream",
     "text": [
      "[413]\n",
      "col_id that is passed COPERNICUS/S1_GRD\n",
      "After s1 and s2 :\n",
      "After overlap:\n",
      "After num_per_month:\n",
      "collection done\n",
      "in try block\n",
      "Info on temporal\n"
     ]
    },
    {
     "name": "stderr",
     "output_type": "stream",
     "text": [
      " 54%|██████████████████████████████████████████████████████████████████████████▍                                                                | 287/536 [21:32<16:09,  3.89s/it]"
     ]
    },
    {
     "name": "stdout",
     "output_type": "stream",
     "text": [
      "[564]\n",
      "col_id that is passed COPERNICUS/S1_GRD\n",
      "After s1 and s2 :\n",
      "After overlap:\n",
      "After num_per_month:\n",
      "collection done\n",
      "in try block\n",
      "Info on temporal\n"
     ]
    },
    {
     "name": "stderr",
     "output_type": "stream",
     "text": [
      " 54%|██████████████████████████████████████████████████████████████████████████▋                                                                | 288/536 [21:35<15:21,  3.71s/it]"
     ]
    },
    {
     "name": "stdout",
     "output_type": "stream",
     "text": [
      "[442]\n",
      "col_id that is passed COPERNICUS/S1_GRD\n",
      "After s1 and s2 :\n",
      "After overlap:\n",
      "After num_per_month:\n",
      "collection done\n",
      "in try block\n",
      "Info on temporal\n"
     ]
    },
    {
     "name": "stderr",
     "output_type": "stream",
     "text": [
      " 54%|██████████████████████████████████████████████████████████████████████████▉                                                                | 289/536 [21:39<15:01,  3.65s/it]"
     ]
    },
    {
     "name": "stdout",
     "output_type": "stream",
     "text": [
      "[289]\n",
      "col_id that is passed COPERNICUS/S1_GRD\n",
      "After s1 and s2 :\n",
      "After overlap:\n",
      "After num_per_month:\n",
      "collection done\n",
      "in try block\n",
      "Info on temporal\n"
     ]
    },
    {
     "name": "stderr",
     "output_type": "stream",
     "text": [
      " 54%|███████████████████████████████████████████████████████████████████████████▏                                                               | 290/536 [21:43<15:50,  3.87s/it]"
     ]
    },
    {
     "name": "stdout",
     "output_type": "stream",
     "text": [
      "[338]\n",
      "col_id that is passed COPERNICUS/S1_GRD\n",
      "After s1 and s2 :\n",
      "After overlap:\n",
      "After num_per_month:\n",
      "collection done\n",
      "in try block\n",
      "Info on temporal\n"
     ]
    },
    {
     "name": "stderr",
     "output_type": "stream",
     "text": [
      " 54%|███████████████████████████████████████████████████████████████████████████▍                                                               | 291/536 [21:47<15:48,  3.87s/it]"
     ]
    },
    {
     "name": "stdout",
     "output_type": "stream",
     "text": [
      "[579]\n",
      "col_id that is passed COPERNICUS/S1_GRD\n",
      "After s1 and s2 :\n",
      "After overlap:\n",
      "After num_per_month:\n",
      "collection done\n",
      "in try block\n",
      "Info on temporal\n"
     ]
    },
    {
     "name": "stderr",
     "output_type": "stream",
     "text": [
      " 54%|███████████████████████████████████████████████████████████████████████████▋                                                               | 292/536 [21:50<15:25,  3.79s/it]"
     ]
    },
    {
     "name": "stdout",
     "output_type": "stream",
     "text": [
      "[448]\n",
      "col_id that is passed COPERNICUS/S1_GRD\n",
      "After s1 and s2 :\n",
      "After overlap:\n",
      "After num_per_month:\n",
      "collection done\n",
      "in try block\n",
      "Info on temporal\n"
     ]
    },
    {
     "name": "stderr",
     "output_type": "stream",
     "text": [
      " 55%|███████████████████████████████████████████████████████████████████████████▉                                                               | 293/536 [21:56<17:01,  4.20s/it]"
     ]
    },
    {
     "name": "stdout",
     "output_type": "stream",
     "text": [
      "[612]\n",
      "col_id that is passed COPERNICUS/S1_GRD\n",
      "After s1 and s2 :\n",
      "After overlap:\n",
      "After num_per_month:\n",
      "collection done\n",
      "in try block\n",
      "Info on temporal\n"
     ]
    },
    {
     "name": "stderr",
     "output_type": "stream",
     "text": [
      " 55%|████████████████████████████████████████████████████████████████████████████▏                                                              | 294/536 [21:59<16:18,  4.04s/it]"
     ]
    },
    {
     "name": "stdout",
     "output_type": "stream",
     "text": [
      "[490]\n",
      "col_id that is passed COPERNICUS/S1_GRD\n",
      "After s1 and s2 :\n",
      "After overlap:\n",
      "After num_per_month:\n",
      "collection done\n",
      "in try block\n",
      "Info on temporal\n"
     ]
    },
    {
     "name": "stderr",
     "output_type": "stream",
     "text": [
      " 55%|████████████████████████████████████████████████████████████████████████████▌                                                              | 295/536 [22:05<17:39,  4.40s/it]"
     ]
    },
    {
     "name": "stdout",
     "output_type": "stream",
     "text": [
      "[500]\n",
      "col_id that is passed COPERNICUS/S1_GRD\n",
      "After s1 and s2 :\n",
      "After overlap:\n",
      "After num_per_month:\n",
      "collection done\n",
      "in try block\n",
      "Info on temporal\n"
     ]
    },
    {
     "name": "stderr",
     "output_type": "stream",
     "text": [
      " 55%|████████████████████████████████████████████████████████████████████████████▊                                                              | 296/536 [22:09<17:12,  4.30s/it]"
     ]
    },
    {
     "name": "stdout",
     "output_type": "stream",
     "text": [
      "[482]\n",
      "col_id that is passed COPERNICUS/S1_GRD\n",
      "After s1 and s2 :\n",
      "After overlap:\n",
      "After num_per_month:\n",
      "collection done\n",
      "in try block\n",
      "Info on temporal\n"
     ]
    },
    {
     "name": "stderr",
     "output_type": "stream",
     "text": [
      " 55%|█████████████████████████████████████████████████████████████████████████████                                                              | 297/536 [22:13<16:54,  4.24s/it]"
     ]
    },
    {
     "name": "stdout",
     "output_type": "stream",
     "text": [
      "[737]\n",
      "col_id that is passed COPERNICUS/S1_GRD\n",
      "After s1 and s2 :\n",
      "After overlap:\n",
      "After num_per_month:\n",
      "collection done\n",
      "in try block\n",
      "Info on temporal\n"
     ]
    },
    {
     "name": "stderr",
     "output_type": "stream",
     "text": [
      " 56%|█████████████████████████████████████████████████████████████████████████████▎                                                             | 298/536 [22:17<16:42,  4.21s/it]"
     ]
    },
    {
     "name": "stdout",
     "output_type": "stream",
     "text": [
      "[531]\n",
      "col_id that is passed COPERNICUS/S1_GRD\n",
      "After s1 and s2 :\n",
      "After overlap:\n",
      "After num_per_month:\n",
      "collection done\n",
      "in try block\n",
      "Info on temporal\n"
     ]
    },
    {
     "name": "stderr",
     "output_type": "stream",
     "text": [
      " 56%|█████████████████████████████████████████████████████████████████████████████▌                                                             | 299/536 [22:21<16:19,  4.13s/it]"
     ]
    },
    {
     "name": "stdout",
     "output_type": "stream",
     "text": [
      "[385]\n",
      "col_id that is passed COPERNICUS/S1_GRD\n",
      "After s1 and s2 :\n",
      "After overlap:\n",
      "After num_per_month:\n",
      "collection done\n",
      "in try block\n",
      "Info on temporal\n"
     ]
    },
    {
     "name": "stderr",
     "output_type": "stream",
     "text": [
      " 56%|█████████████████████████████████████████████████████████████████████████████▊                                                             | 300/536 [22:25<16:33,  4.21s/it]"
     ]
    },
    {
     "name": "stdout",
     "output_type": "stream",
     "text": [
      "[406]\n",
      "col_id that is passed COPERNICUS/S1_GRD\n",
      "After s1 and s2 :\n",
      "After overlap:\n",
      "After num_per_month:\n",
      "collection done\n",
      "in try block\n",
      "Info on temporal\n"
     ]
    },
    {
     "name": "stderr",
     "output_type": "stream",
     "text": [
      " 56%|██████████████████████████████████████████████████████████████████████████████                                                             | 301/536 [22:29<16:10,  4.13s/it]"
     ]
    },
    {
     "name": "stdout",
     "output_type": "stream",
     "text": [
      "[610]\n",
      "col_id that is passed COPERNICUS/S1_GRD\n",
      "After s1 and s2 :\n",
      "After overlap:\n",
      "After num_per_month:\n",
      "collection done\n",
      "in try block\n",
      "Info on temporal\n"
     ]
    },
    {
     "name": "stderr",
     "output_type": "stream",
     "text": [
      " 56%|██████████████████████████████████████████████████████████████████████████████▎                                                            | 302/536 [22:33<15:50,  4.06s/it]"
     ]
    },
    {
     "name": "stdout",
     "output_type": "stream",
     "text": [
      "[634]\n",
      "col_id that is passed COPERNICUS/S1_GRD\n",
      "After s1 and s2 :\n",
      "After overlap:\n",
      "After num_per_month:\n",
      "collection done\n",
      "in try block\n",
      "Info on temporal\n"
     ]
    },
    {
     "name": "stderr",
     "output_type": "stream",
     "text": [
      " 57%|██████████████████████████████████████████████████████████████████████████████▌                                                            | 303/536 [22:37<15:18,  3.94s/it]"
     ]
    },
    {
     "name": "stdout",
     "output_type": "stream",
     "text": [
      "[574]\n",
      "col_id that is passed COPERNICUS/S1_GRD\n",
      "After s1 and s2 :\n",
      "After overlap:\n",
      "After num_per_month:\n",
      "collection done\n",
      "in try block\n",
      "Info on temporal\n"
     ]
    },
    {
     "name": "stderr",
     "output_type": "stream",
     "text": [
      " 57%|██████████████████████████████████████████████████████████████████████████████▊                                                            | 304/536 [22:40<14:56,  3.86s/it]"
     ]
    },
    {
     "name": "stdout",
     "output_type": "stream",
     "text": [
      "[640]\n",
      "col_id that is passed COPERNICUS/S1_GRD\n",
      "After s1 and s2 :\n",
      "After overlap:\n",
      "After num_per_month:\n",
      "collection done\n",
      "in try block\n",
      "Info on temporal\n"
     ]
    },
    {
     "name": "stderr",
     "output_type": "stream",
     "text": [
      " 57%|███████████████████████████████████████████████████████████████████████████████                                                            | 305/536 [22:44<15:03,  3.91s/it]"
     ]
    },
    {
     "name": "stdout",
     "output_type": "stream",
     "text": [
      "[488]\n",
      "col_id that is passed COPERNICUS/S1_GRD\n",
      "After s1 and s2 :\n",
      "After overlap:\n",
      "After num_per_month:\n",
      "collection done\n",
      "in try block\n",
      "Info on temporal\n"
     ]
    },
    {
     "name": "stderr",
     "output_type": "stream",
     "text": [
      " 57%|███████████████████████████████████████████████████████████████████████████████▎                                                           | 306/536 [22:48<14:58,  3.91s/it]"
     ]
    },
    {
     "name": "stdout",
     "output_type": "stream",
     "text": [
      "[559]\n",
      "col_id that is passed COPERNICUS/S1_GRD\n",
      "After s1 and s2 :\n",
      "After overlap:\n",
      "After num_per_month:\n",
      "collection done\n",
      "in try block\n",
      "Info on temporal\n"
     ]
    },
    {
     "name": "stderr",
     "output_type": "stream",
     "text": [
      " 57%|███████████████████████████████████████████████████████████████████████████████▌                                                           | 307/536 [22:52<15:00,  3.93s/it]"
     ]
    },
    {
     "name": "stdout",
     "output_type": "stream",
     "text": [
      "[520]\n",
      "col_id that is passed COPERNICUS/S1_GRD\n",
      "After s1 and s2 :\n",
      "After overlap:\n",
      "After num_per_month:\n",
      "collection done\n",
      "in try block\n",
      "Info on temporal\n"
     ]
    },
    {
     "name": "stderr",
     "output_type": "stream",
     "text": [
      " 57%|███████████████████████████████████████████████████████████████████████████████▊                                                           | 308/536 [22:56<15:00,  3.95s/it]"
     ]
    },
    {
     "name": "stdout",
     "output_type": "stream",
     "text": [
      "[467]\n",
      "col_id that is passed COPERNICUS/S1_GRD\n",
      "After s1 and s2 :\n",
      "After overlap:\n",
      "After num_per_month:\n",
      "collection done\n",
      "in try block\n",
      "Info on temporal\n"
     ]
    },
    {
     "name": "stderr",
     "output_type": "stream",
     "text": [
      " 58%|████████████████████████████████████████████████████████████████████████████████▏                                                          | 309/536 [23:01<15:19,  4.05s/it]"
     ]
    },
    {
     "name": "stdout",
     "output_type": "stream",
     "text": [
      "[714]\n",
      "col_id that is passed COPERNICUS/S1_GRD\n",
      "After s1 and s2 :\n",
      "After overlap:\n",
      "After num_per_month:\n",
      "collection done\n",
      "in try block\n",
      "Info on temporal\n"
     ]
    },
    {
     "name": "stderr",
     "output_type": "stream",
     "text": [
      " 58%|████████████████████████████████████████████████████████████████████████████████▍                                                          | 310/536 [23:05<15:40,  4.16s/it]"
     ]
    },
    {
     "name": "stdout",
     "output_type": "stream",
     "text": [
      "[667]\n",
      "col_id that is passed COPERNICUS/S1_GRD\n",
      "After s1 and s2 :\n",
      "After overlap:\n",
      "After num_per_month:\n",
      "collection done\n",
      "in try block\n",
      "Info on temporal\n"
     ]
    },
    {
     "name": "stderr",
     "output_type": "stream",
     "text": [
      " 58%|████████████████████████████████████████████████████████████████████████████████▋                                                          | 311/536 [23:10<16:33,  4.42s/it]"
     ]
    },
    {
     "name": "stdout",
     "output_type": "stream",
     "text": [
      "[416]\n",
      "col_id that is passed COPERNICUS/S1_GRD\n",
      "After s1 and s2 :\n",
      "After overlap:\n",
      "After num_per_month:\n",
      "collection done\n",
      "in try block\n",
      "Info on temporal\n"
     ]
    },
    {
     "name": "stderr",
     "output_type": "stream",
     "text": [
      " 58%|████████████████████████████████████████████████████████████████████████████████▉                                                          | 312/536 [23:14<16:24,  4.39s/it]"
     ]
    },
    {
     "name": "stdout",
     "output_type": "stream",
     "text": [
      "[568]\n",
      "col_id that is passed COPERNICUS/S1_GRD\n",
      "After s1 and s2 :\n",
      "After overlap:\n",
      "After num_per_month:\n",
      "collection done\n",
      "in try block\n",
      "Info on temporal\n"
     ]
    },
    {
     "name": "stderr",
     "output_type": "stream",
     "text": [
      " 58%|█████████████████████████████████████████████████████████████████████████████████▏                                                         | 313/536 [23:19<16:41,  4.49s/it]"
     ]
    },
    {
     "name": "stdout",
     "output_type": "stream",
     "text": [
      "[548]\n",
      "col_id that is passed COPERNICUS/S1_GRD\n",
      "After s1 and s2 :\n",
      "After overlap:\n",
      "After num_per_month:\n",
      "collection done\n",
      "in try block\n",
      "Info on temporal\n"
     ]
    },
    {
     "name": "stderr",
     "output_type": "stream",
     "text": [
      " 59%|█████████████████████████████████████████████████████████████████████████████████▍                                                         | 314/536 [23:24<16:36,  4.49s/it]"
     ]
    },
    {
     "name": "stdout",
     "output_type": "stream",
     "text": [
      "[670]\n",
      "col_id that is passed COPERNICUS/S1_GRD\n",
      "After s1 and s2 :\n",
      "After overlap:\n",
      "After num_per_month:\n",
      "collection done\n",
      "in try block\n",
      "Info on temporal\n"
     ]
    },
    {
     "name": "stderr",
     "output_type": "stream",
     "text": [
      " 59%|█████████████████████████████████████████████████████████████████████████████████▋                                                         | 315/536 [23:29<17:21,  4.71s/it]"
     ]
    },
    {
     "name": "stdout",
     "output_type": "stream",
     "text": [
      "[451]\n",
      "col_id that is passed COPERNICUS/S1_GRD\n",
      "After s1 and s2 :\n",
      "After overlap:\n",
      "After num_per_month:\n",
      "collection done\n",
      "in try block\n",
      "Info on temporal\n"
     ]
    },
    {
     "name": "stderr",
     "output_type": "stream",
     "text": [
      " 59%|█████████████████████████████████████████████████████████████████████████████████▉                                                         | 316/536 [23:33<16:40,  4.55s/it]"
     ]
    },
    {
     "name": "stdout",
     "output_type": "stream",
     "text": [
      "[487]\n",
      "col_id that is passed COPERNICUS/S1_GRD\n",
      "After s1 and s2 :\n",
      "After overlap:\n",
      "After num_per_month:\n",
      "collection done\n",
      "in try block\n",
      "Info on temporal\n"
     ]
    },
    {
     "name": "stderr",
     "output_type": "stream",
     "text": [
      " 59%|██████████████████████████████████████████████████████████████████████████████████▏                                                        | 317/536 [23:37<15:57,  4.37s/it]"
     ]
    },
    {
     "name": "stdout",
     "output_type": "stream",
     "text": [
      "[690]\n",
      "col_id that is passed COPERNICUS/S1_GRD\n",
      "After s1 and s2 :\n",
      "After overlap:\n",
      "After num_per_month:\n",
      "collection done\n",
      "in try block\n",
      "Info on temporal\n"
     ]
    },
    {
     "name": "stderr",
     "output_type": "stream",
     "text": [
      " 59%|██████████████████████████████████████████████████████████████████████████████████▍                                                        | 318/536 [23:41<15:31,  4.27s/it]"
     ]
    },
    {
     "name": "stdout",
     "output_type": "stream",
     "text": [
      "[341]\n",
      "col_id that is passed COPERNICUS/S1_GRD\n",
      "After s1 and s2 :\n",
      "After overlap:\n",
      "After num_per_month:\n",
      "collection done\n",
      "in try block\n",
      "Info on temporal\n"
     ]
    },
    {
     "name": "stderr",
     "output_type": "stream",
     "text": [
      " 60%|██████████████████████████████████████████████████████████████████████████████████▋                                                        | 319/536 [23:45<15:35,  4.31s/it]"
     ]
    },
    {
     "name": "stdout",
     "output_type": "stream",
     "text": [
      "[342]\n",
      "col_id that is passed COPERNICUS/S1_GRD\n",
      "After s1 and s2 :\n",
      "After overlap:\n",
      "After num_per_month:\n",
      "collection done\n",
      "in try block\n",
      "Info on temporal\n"
     ]
    },
    {
     "name": "stderr",
     "output_type": "stream",
     "text": [
      " 60%|██████████████████████████████████████████████████████████████████████████████████▉                                                        | 320/536 [23:50<15:55,  4.42s/it]"
     ]
    },
    {
     "name": "stdout",
     "output_type": "stream",
     "text": [
      "[545]\n",
      "col_id that is passed COPERNICUS/S1_GRD\n",
      "After s1 and s2 :\n",
      "After overlap:\n",
      "After num_per_month:\n",
      "collection done\n",
      "in try block\n",
      "Info on temporal\n"
     ]
    },
    {
     "name": "stderr",
     "output_type": "stream",
     "text": [
      " 60%|███████████████████████████████████████████████████████████████████████████████████▏                                                       | 321/536 [23:54<15:48,  4.41s/it]"
     ]
    },
    {
     "name": "stdout",
     "output_type": "stream",
     "text": [
      "[504]\n",
      "col_id that is passed COPERNICUS/S1_GRD\n",
      "After s1 and s2 :\n",
      "After overlap:\n",
      "After num_per_month:\n",
      "collection done\n",
      "in try block\n",
      "Info on temporal\n"
     ]
    },
    {
     "name": "stderr",
     "output_type": "stream",
     "text": [
      " 60%|███████████████████████████████████████████████████████████████████████████████████▌                                                       | 322/536 [23:59<15:59,  4.48s/it]"
     ]
    },
    {
     "name": "stdout",
     "output_type": "stream",
     "text": [
      "[452]\n",
      "col_id that is passed COPERNICUS/S1_GRD\n",
      "After s1 and s2 :\n",
      "After overlap:\n",
      "After num_per_month:\n",
      "collection done\n",
      "in try block\n",
      "Info on temporal\n"
     ]
    },
    {
     "name": "stderr",
     "output_type": "stream",
     "text": [
      " 60%|███████████████████████████████████████████████████████████████████████████████████▊                                                       | 323/536 [24:04<16:30,  4.65s/it]"
     ]
    },
    {
     "name": "stdout",
     "output_type": "stream",
     "text": [
      "[387]\n",
      "col_id that is passed COPERNICUS/S1_GRD\n",
      "After s1 and s2 :\n",
      "After overlap:\n",
      "After num_per_month:\n",
      "collection done\n",
      "in try block\n",
      "Info on temporal\n"
     ]
    },
    {
     "name": "stderr",
     "output_type": "stream",
     "text": [
      " 60%|████████████████████████████████████████████████████████████████████████████████████                                                       | 324/536 [24:08<16:03,  4.55s/it]"
     ]
    },
    {
     "name": "stdout",
     "output_type": "stream",
     "text": [
      "[634]\n",
      "col_id that is passed COPERNICUS/S1_GRD\n",
      "After s1 and s2 :\n",
      "After overlap:\n",
      "After num_per_month:\n",
      "collection done\n",
      "in try block\n",
      "Info on temporal\n"
     ]
    },
    {
     "name": "stderr",
     "output_type": "stream",
     "text": [
      " 61%|████████████████████████████████████████████████████████████████████████████████████▎                                                      | 325/536 [24:13<16:07,  4.59s/it]"
     ]
    },
    {
     "name": "stdout",
     "output_type": "stream",
     "text": [
      "[446]\n",
      "col_id that is passed COPERNICUS/S1_GRD\n",
      "After s1 and s2 :\n",
      "After overlap:\n",
      "After num_per_month:\n",
      "collection done\n",
      "in try block\n",
      "Info on temporal\n"
     ]
    },
    {
     "name": "stderr",
     "output_type": "stream",
     "text": [
      " 61%|████████████████████████████████████████████████████████████████████████████████████▌                                                      | 326/536 [24:17<15:29,  4.43s/it]"
     ]
    },
    {
     "name": "stdout",
     "output_type": "stream",
     "text": [
      "[539]\n",
      "col_id that is passed COPERNICUS/S1_GRD\n",
      "After s1 and s2 :\n",
      "After overlap:\n",
      "After num_per_month:\n",
      "collection done\n",
      "in try block\n",
      "Info on temporal\n"
     ]
    },
    {
     "name": "stderr",
     "output_type": "stream",
     "text": [
      " 61%|████████████████████████████████████████████████████████████████████████████████████▊                                                      | 327/536 [24:21<14:24,  4.14s/it]"
     ]
    },
    {
     "name": "stdout",
     "output_type": "stream",
     "text": [
      "[799]\n",
      "col_id that is passed COPERNICUS/S1_GRD\n",
      "After s1 and s2 :\n",
      "After overlap:\n",
      "After num_per_month:\n",
      "collection done\n",
      "in try block\n",
      "Info on temporal\n"
     ]
    },
    {
     "name": "stderr",
     "output_type": "stream",
     "text": [
      " 61%|█████████████████████████████████████████████████████████████████████████████████████                                                      | 328/536 [24:25<14:50,  4.28s/it]"
     ]
    },
    {
     "name": "stdout",
     "output_type": "stream",
     "text": [
      "[819]\n",
      "col_id that is passed COPERNICUS/S1_GRD\n",
      "After s1 and s2 :\n",
      "After overlap:\n",
      "After num_per_month:\n",
      "collection done\n",
      "in try block\n",
      "Info on temporal\n"
     ]
    },
    {
     "name": "stderr",
     "output_type": "stream",
     "text": [
      " 61%|█████████████████████████████████████████████████████████████████████████████████████▎                                                     | 329/536 [24:29<14:16,  4.14s/it]"
     ]
    },
    {
     "name": "stdout",
     "output_type": "stream",
     "text": [
      "[555]\n",
      "col_id that is passed COPERNICUS/S1_GRD\n",
      "After s1 and s2 :\n",
      "After overlap:\n",
      "After num_per_month:\n",
      "collection done\n",
      "in try block\n",
      "Info on temporal\n"
     ]
    },
    {
     "name": "stderr",
     "output_type": "stream",
     "text": [
      " 62%|█████████████████████████████████████████████████████████████████████████████████████▌                                                     | 330/536 [24:34<14:48,  4.31s/it]"
     ]
    },
    {
     "name": "stdout",
     "output_type": "stream",
     "text": [
      "[759]\n",
      "col_id that is passed COPERNICUS/S1_GRD\n",
      "After s1 and s2 :\n",
      "After overlap:\n",
      "After num_per_month:\n",
      "collection done\n",
      "in try block\n",
      "Info on temporal\n"
     ]
    },
    {
     "name": "stderr",
     "output_type": "stream",
     "text": [
      " 62%|█████████████████████████████████████████████████████████████████████████████████████▊                                                     | 331/536 [24:37<13:46,  4.03s/it]"
     ]
    },
    {
     "name": "stdout",
     "output_type": "stream",
     "text": [
      "[517]\n",
      "col_id that is passed COPERNICUS/S1_GRD\n",
      "After s1 and s2 :\n",
      "After overlap:\n",
      "After num_per_month:\n",
      "collection done\n",
      "in try block\n",
      "Info on temporal\n"
     ]
    },
    {
     "name": "stderr",
     "output_type": "stream",
     "text": [
      " 62%|██████████████████████████████████████████████████████████████████████████████████████                                                     | 332/536 [24:41<13:29,  3.97s/it]"
     ]
    },
    {
     "name": "stdout",
     "output_type": "stream",
     "text": [
      "[379]\n",
      "col_id that is passed COPERNICUS/S1_GRD\n",
      "After s1 and s2 :\n",
      "After overlap:\n",
      "After num_per_month:\n",
      "collection done\n",
      "in try block\n",
      "Info on temporal\n"
     ]
    },
    {
     "name": "stderr",
     "output_type": "stream",
     "text": [
      " 62%|██████████████████████████████████████████████████████████████████████████████████████▎                                                    | 333/536 [24:45<13:57,  4.12s/it]"
     ]
    },
    {
     "name": "stdout",
     "output_type": "stream",
     "text": [
      "[338]\n",
      "col_id that is passed COPERNICUS/S1_GRD\n",
      "After s1 and s2 :\n",
      "After overlap:\n",
      "After num_per_month:\n",
      "collection done\n",
      "in try block\n",
      "Info on temporal\n"
     ]
    },
    {
     "name": "stderr",
     "output_type": "stream",
     "text": [
      " 62%|██████████████████████████████████████████████████████████████████████████████████████▌                                                    | 334/536 [24:51<15:09,  4.50s/it]"
     ]
    },
    {
     "name": "stdout",
     "output_type": "stream",
     "text": [
      "[339]\n",
      "col_id that is passed COPERNICUS/S1_GRD\n",
      "After s1 and s2 :\n",
      "After overlap:\n",
      "After num_per_month:\n",
      "collection done\n",
      "in try block\n",
      "Info on temporal\n"
     ]
    },
    {
     "name": "stderr",
     "output_type": "stream",
     "text": [
      " 62%|██████████████████████████████████████████████████████████████████████████████████████▉                                                    | 335/536 [24:55<15:12,  4.54s/it]"
     ]
    },
    {
     "name": "stdout",
     "output_type": "stream",
     "text": [
      "[434]\n",
      "col_id that is passed COPERNICUS/S1_GRD\n",
      "After s1 and s2 :\n",
      "After overlap:\n",
      "After num_per_month:\n",
      "collection done\n",
      "in try block\n",
      "Info on temporal\n"
     ]
    },
    {
     "name": "stderr",
     "output_type": "stream",
     "text": [
      " 63%|███████████████████████████████████████████████████████████████████████████████████████▏                                                   | 336/536 [25:01<16:06,  4.83s/it]"
     ]
    },
    {
     "name": "stdout",
     "output_type": "stream",
     "text": [
      "[415]\n",
      "col_id that is passed COPERNICUS/S1_GRD\n",
      "After s1 and s2 :\n",
      "After overlap:\n",
      "After num_per_month:\n",
      "collection done\n",
      "in try block\n",
      "Info on temporal\n"
     ]
    },
    {
     "name": "stderr",
     "output_type": "stream",
     "text": [
      " 63%|███████████████████████████████████████████████████████████████████████████████████████▍                                                   | 337/536 [25:05<15:41,  4.73s/it]"
     ]
    },
    {
     "name": "stdout",
     "output_type": "stream",
     "text": [
      "[405]\n",
      "col_id that is passed COPERNICUS/S1_GRD\n",
      "After s1 and s2 :\n",
      "After overlap:\n",
      "After num_per_month:\n",
      "collection done\n",
      "in try block\n",
      "Info on temporal\n"
     ]
    },
    {
     "name": "stderr",
     "output_type": "stream",
     "text": [
      " 63%|███████████████████████████████████████████████████████████████████████████████████████▋                                                   | 338/536 [25:10<14:57,  4.53s/it]"
     ]
    },
    {
     "name": "stdout",
     "output_type": "stream",
     "text": [
      "[372]\n",
      "col_id that is passed COPERNICUS/S1_GRD\n",
      "After s1 and s2 :\n",
      "After overlap:\n",
      "After num_per_month:\n",
      "collection done\n",
      "in try block\n",
      "Info on temporal\n"
     ]
    },
    {
     "name": "stderr",
     "output_type": "stream",
     "text": [
      " 63%|███████████████████████████████████████████████████████████████████████████████████████▉                                                   | 339/536 [25:12<13:14,  4.04s/it]"
     ]
    },
    {
     "name": "stdout",
     "output_type": "stream",
     "text": [
      "[358]\n",
      "col_id that is passed COPERNICUS/S1_GRD\n",
      "After s1 and s2 :\n",
      "After overlap:\n",
      "After num_per_month:\n",
      "collection done\n",
      "in try block\n",
      "Info on temporal\n"
     ]
    },
    {
     "name": "stderr",
     "output_type": "stream",
     "text": [
      " 63%|████████████████████████████████████████████████████████████████████████████████████████▏                                                  | 340/536 [25:16<13:03,  4.00s/it]"
     ]
    },
    {
     "name": "stdout",
     "output_type": "stream",
     "text": [
      "[438]\n",
      "col_id that is passed COPERNICUS/S1_GRD\n",
      "After s1 and s2 :\n",
      "After overlap:\n",
      "After num_per_month:\n",
      "collection done\n",
      "in try block\n",
      "Info on temporal\n"
     ]
    },
    {
     "name": "stderr",
     "output_type": "stream",
     "text": [
      " 64%|████████████████████████████████████████████████████████████████████████████████████████▍                                                  | 341/536 [25:20<12:39,  3.89s/it]"
     ]
    },
    {
     "name": "stdout",
     "output_type": "stream",
     "text": [
      "[734]\n",
      "col_id that is passed COPERNICUS/S1_GRD\n",
      "After s1 and s2 :\n",
      "After overlap:\n",
      "After num_per_month:\n",
      "collection done\n",
      "in try block\n",
      "Info on temporal\n"
     ]
    },
    {
     "name": "stderr",
     "output_type": "stream",
     "text": [
      " 64%|████████████████████████████████████████████████████████████████████████████████████████▋                                                  | 342/536 [25:25<13:17,  4.11s/it]"
     ]
    },
    {
     "name": "stdout",
     "output_type": "stream",
     "text": [
      "[636]\n",
      "col_id that is passed COPERNICUS/S1_GRD\n",
      "After s1 and s2 :\n",
      "After overlap:\n",
      "After num_per_month:\n",
      "collection done\n",
      "in try block\n",
      "Info on temporal\n"
     ]
    },
    {
     "name": "stderr",
     "output_type": "stream",
     "text": [
      " 64%|████████████████████████████████████████████████████████████████████████████████████████▉                                                  | 343/536 [25:29<13:05,  4.07s/it]"
     ]
    },
    {
     "name": "stdout",
     "output_type": "stream",
     "text": [
      "[458]\n",
      "col_id that is passed COPERNICUS/S1_GRD\n",
      "After s1 and s2 :\n",
      "After overlap:\n",
      "After num_per_month:\n",
      "collection done\n",
      "in try block\n",
      "Info on temporal\n"
     ]
    },
    {
     "name": "stderr",
     "output_type": "stream",
     "text": [
      " 64%|█████████████████████████████████████████████████████████████████████████████████████████▏                                                 | 344/536 [25:32<12:48,  4.00s/it]"
     ]
    },
    {
     "name": "stdout",
     "output_type": "stream",
     "text": [
      "[571]\n",
      "col_id that is passed COPERNICUS/S1_GRD\n",
      "After s1 and s2 :\n",
      "After overlap:\n",
      "After num_per_month:\n",
      "collection done\n",
      "in try block\n",
      "Info on temporal\n"
     ]
    },
    {
     "name": "stderr",
     "output_type": "stream",
     "text": [
      " 64%|█████████████████████████████████████████████████████████████████████████████████████████▍                                                 | 345/536 [25:37<12:52,  4.04s/it]"
     ]
    },
    {
     "name": "stdout",
     "output_type": "stream",
     "text": [
      "[557]\n",
      "col_id that is passed COPERNICUS/S1_GRD\n",
      "After s1 and s2 :\n",
      "After overlap:\n",
      "After num_per_month:\n",
      "collection done\n",
      "in try block\n",
      "Info on temporal\n"
     ]
    },
    {
     "name": "stderr",
     "output_type": "stream",
     "text": [
      " 65%|█████████████████████████████████████████████████████████████████████████████████████████▋                                                 | 346/536 [25:42<13:43,  4.34s/it]"
     ]
    },
    {
     "name": "stdout",
     "output_type": "stream",
     "text": [
      "[429]\n",
      "col_id that is passed COPERNICUS/S1_GRD\n",
      "After s1 and s2 :\n",
      "After overlap:\n",
      "After num_per_month:\n",
      "collection done\n",
      "in try block\n",
      "Info on temporal\n"
     ]
    },
    {
     "name": "stderr",
     "output_type": "stream",
     "text": [
      " 65%|█████████████████████████████████████████████████████████████████████████████████████████▉                                                 | 347/536 [25:45<13:05,  4.16s/it]"
     ]
    },
    {
     "name": "stdout",
     "output_type": "stream",
     "text": [
      "[505]\n",
      "col_id that is passed COPERNICUS/S1_GRD\n",
      "After s1 and s2 :\n",
      "After overlap:\n",
      "After num_per_month:\n",
      "collection done\n",
      "in try block\n",
      "Info on temporal\n"
     ]
    },
    {
     "name": "stderr",
     "output_type": "stream",
     "text": [
      " 65%|██████████████████████████████████████████████████████████████████████████████████████████▏                                                | 348/536 [25:49<12:38,  4.04s/it]"
     ]
    },
    {
     "name": "stdout",
     "output_type": "stream",
     "text": [
      "[228]\n",
      "col_id that is passed COPERNICUS/S1_GRD\n",
      "After s1 and s2 :\n",
      "After overlap:\n",
      "After num_per_month:\n",
      "collection done\n",
      "in try block\n",
      "Info on temporal\n"
     ]
    },
    {
     "name": "stderr",
     "output_type": "stream",
     "text": [
      " 65%|██████████████████████████████████████████████████████████████████████████████████████████▌                                                | 349/536 [25:54<13:40,  4.39s/it]"
     ]
    },
    {
     "name": "stdout",
     "output_type": "stream",
     "text": [
      "[543]\n",
      "col_id that is passed COPERNICUS/S1_GRD\n",
      "After s1 and s2 :\n",
      "After overlap:\n",
      "After num_per_month:\n",
      "collection done\n",
      "in try block\n",
      "Info on temporal\n"
     ]
    },
    {
     "name": "stderr",
     "output_type": "stream",
     "text": [
      " 65%|██████████████████████████████████████████████████████████████████████████████████████████▊                                                | 350/536 [25:58<13:11,  4.26s/it]"
     ]
    },
    {
     "name": "stdout",
     "output_type": "stream",
     "text": [
      "[426]\n",
      "col_id that is passed COPERNICUS/S1_GRD\n",
      "After s1 and s2 :\n",
      "After overlap:\n",
      "After num_per_month:\n",
      "collection done\n",
      "in try block\n",
      "Info on temporal\n"
     ]
    },
    {
     "name": "stderr",
     "output_type": "stream",
     "text": [
      " 65%|███████████████████████████████████████████████████████████████████████████████████████████                                                | 351/536 [26:02<12:50,  4.16s/it]"
     ]
    },
    {
     "name": "stdout",
     "output_type": "stream",
     "text": [
      "[460]\n",
      "col_id that is passed COPERNICUS/S1_GRD\n",
      "After s1 and s2 :\n",
      "After overlap:\n",
      "After num_per_month:\n",
      "collection done\n",
      "in try block\n",
      "Info on temporal\n"
     ]
    },
    {
     "name": "stderr",
     "output_type": "stream",
     "text": [
      " 66%|███████████████████████████████████████████████████████████████████████████████████████████▎                                               | 352/536 [26:07<13:20,  4.35s/it]"
     ]
    },
    {
     "name": "stdout",
     "output_type": "stream",
     "text": [
      "[350]\n",
      "col_id that is passed COPERNICUS/S1_GRD\n",
      "After s1 and s2 :\n",
      "After overlap:\n",
      "After num_per_month:\n",
      "collection done\n",
      "in try block\n",
      "Info on temporal\n"
     ]
    },
    {
     "name": "stderr",
     "output_type": "stream",
     "text": [
      " 66%|███████████████████████████████████████████████████████████████████████████████████████████▌                                               | 353/536 [26:11<13:02,  4.28s/it]"
     ]
    },
    {
     "name": "stdout",
     "output_type": "stream",
     "text": [
      "[512]\n",
      "col_id that is passed COPERNICUS/S1_GRD\n",
      "After s1 and s2 :\n",
      "After overlap:\n",
      "After num_per_month:\n",
      "collection done\n",
      "in try block\n",
      "Info on temporal\n"
     ]
    },
    {
     "name": "stderr",
     "output_type": "stream",
     "text": [
      " 66%|███████████████████████████████████████████████████████████████████████████████████████████▊                                               | 354/536 [26:16<14:02,  4.63s/it]"
     ]
    },
    {
     "name": "stdout",
     "output_type": "stream",
     "text": [
      "[416]\n",
      "col_id that is passed COPERNICUS/S1_GRD\n",
      "After s1 and s2 :\n",
      "After overlap:\n",
      "After num_per_month:\n",
      "collection done\n",
      "in try block\n",
      "Info on temporal\n"
     ]
    },
    {
     "name": "stderr",
     "output_type": "stream",
     "text": [
      " 66%|████████████████████████████████████████████████████████████████████████████████████████████                                               | 355/536 [26:20<12:56,  4.29s/it]"
     ]
    },
    {
     "name": "stdout",
     "output_type": "stream",
     "text": [
      "[437]\n",
      "col_id that is passed COPERNICUS/S1_GRD\n",
      "After s1 and s2 :\n",
      "After overlap:\n",
      "After num_per_month:\n",
      "collection done\n",
      "in try block\n",
      "Info on temporal\n"
     ]
    },
    {
     "name": "stderr",
     "output_type": "stream",
     "text": [
      " 66%|████████████████████████████████████████████████████████████████████████████████████████████▎                                              | 356/536 [26:24<12:32,  4.18s/it]"
     ]
    },
    {
     "name": "stdout",
     "output_type": "stream",
     "text": [
      "[442]\n",
      "col_id that is passed COPERNICUS/S1_GRD\n",
      "After s1 and s2 :\n",
      "After overlap:\n",
      "After num_per_month:\n",
      "collection done\n",
      "in try block\n",
      "Info on temporal\n"
     ]
    },
    {
     "name": "stderr",
     "output_type": "stream",
     "text": [
      " 67%|████████████████████████████████████████████████████████████████████████████████████████████▌                                              | 357/536 [26:29<13:00,  4.36s/it]"
     ]
    },
    {
     "name": "stdout",
     "output_type": "stream",
     "text": [
      "[420]\n",
      "col_id that is passed COPERNICUS/S1_GRD\n",
      "After s1 and s2 :\n",
      "After overlap:\n",
      "After num_per_month:\n",
      "collection done\n",
      "in try block\n",
      "Info on temporal\n"
     ]
    },
    {
     "name": "stderr",
     "output_type": "stream",
     "text": [
      " 67%|████████████████████████████████████████████████████████████████████████████████████████████▊                                              | 358/536 [26:33<12:30,  4.22s/it]"
     ]
    },
    {
     "name": "stdout",
     "output_type": "stream",
     "text": [
      "[421]\n",
      "col_id that is passed COPERNICUS/S1_GRD\n",
      "After s1 and s2 :\n",
      "After overlap:\n",
      "After num_per_month:\n",
      "collection done\n",
      "in try block\n",
      "Info on temporal\n"
     ]
    },
    {
     "name": "stderr",
     "output_type": "stream",
     "text": [
      " 67%|█████████████████████████████████████████████████████████████████████████████████████████████                                              | 359/536 [26:37<12:37,  4.28s/it]"
     ]
    },
    {
     "name": "stdout",
     "output_type": "stream",
     "text": [
      "[534]\n",
      "col_id that is passed COPERNICUS/S1_GRD\n",
      "After s1 and s2 :\n",
      "After overlap:\n",
      "After num_per_month:\n",
      "collection done\n",
      "in try block\n",
      "Info on temporal\n"
     ]
    },
    {
     "name": "stderr",
     "output_type": "stream",
     "text": [
      " 67%|█████████████████████████████████████████████████████████████████████████████████████████████▎                                             | 360/536 [26:41<12:09,  4.14s/it]"
     ]
    },
    {
     "name": "stdout",
     "output_type": "stream",
     "text": [
      "[393]\n",
      "col_id that is passed COPERNICUS/S1_GRD\n",
      "After s1 and s2 :\n",
      "After overlap:\n",
      "After num_per_month:\n",
      "collection done\n",
      "in try block\n",
      "Info on temporal\n"
     ]
    },
    {
     "name": "stderr",
     "output_type": "stream",
     "text": [
      " 67%|█████████████████████████████████████████████████████████████████████████████████████████████▌                                             | 361/536 [26:46<12:47,  4.38s/it]"
     ]
    },
    {
     "name": "stdout",
     "output_type": "stream",
     "text": [
      "[336]\n",
      "col_id that is passed COPERNICUS/S1_GRD\n",
      "After s1 and s2 :\n",
      "After overlap:\n",
      "After num_per_month:\n",
      "collection done\n",
      "in try block\n",
      "Info on temporal\n"
     ]
    },
    {
     "name": "stderr",
     "output_type": "stream",
     "text": [
      " 68%|█████████████████████████████████████████████████████████████████████████████████████████████▉                                             | 362/536 [26:50<12:37,  4.35s/it]"
     ]
    },
    {
     "name": "stdout",
     "output_type": "stream",
     "text": [
      "[307]\n",
      "col_id that is passed COPERNICUS/S1_GRD\n",
      "After s1 and s2 :\n",
      "After overlap:\n",
      "After num_per_month:\n",
      "collection done\n",
      "in try block\n",
      "Info on temporal\n"
     ]
    },
    {
     "name": "stderr",
     "output_type": "stream",
     "text": [
      " 68%|██████████████████████████████████████████████████████████████████████████████████████████████▏                                            | 363/536 [26:54<12:10,  4.22s/it]"
     ]
    },
    {
     "name": "stdout",
     "output_type": "stream",
     "text": [
      "[382]\n",
      "col_id that is passed COPERNICUS/S1_GRD\n",
      "After s1 and s2 :\n",
      "After overlap:\n",
      "After num_per_month:\n",
      "collection done\n",
      "in try block\n",
      "Info on temporal\n"
     ]
    },
    {
     "name": "stderr",
     "output_type": "stream",
     "text": [
      " 68%|██████████████████████████████████████████████████████████████████████████████████████████████▍                                            | 364/536 [26:59<12:51,  4.49s/it]"
     ]
    },
    {
     "name": "stdout",
     "output_type": "stream",
     "text": [
      "[741]\n",
      "col_id that is passed COPERNICUS/S1_GRD\n",
      "After s1 and s2 :\n",
      "After overlap:\n",
      "After num_per_month:\n",
      "collection done\n",
      "in try block\n",
      "Info on temporal\n"
     ]
    },
    {
     "name": "stderr",
     "output_type": "stream",
     "text": [
      " 68%|██████████████████████████████████████████████████████████████████████████████████████████████▋                                            | 365/536 [27:03<12:35,  4.42s/it]"
     ]
    },
    {
     "name": "stdout",
     "output_type": "stream",
     "text": [
      "[623]\n",
      "col_id that is passed COPERNICUS/S1_GRD\n",
      "After s1 and s2 :\n",
      "After overlap:\n",
      "After num_per_month:\n",
      "collection done\n",
      "in try block\n",
      "Info on temporal\n"
     ]
    },
    {
     "name": "stderr",
     "output_type": "stream",
     "text": [
      " 68%|██████████████████████████████████████████████████████████████████████████████████████████████▉                                            | 366/536 [27:08<12:49,  4.53s/it]"
     ]
    },
    {
     "name": "stdout",
     "output_type": "stream",
     "text": [
      "[320]\n",
      "col_id that is passed COPERNICUS/S1_GRD\n",
      "After s1 and s2 :\n",
      "After overlap:\n",
      "After num_per_month:\n",
      "collection done\n",
      "in try block\n",
      "Info on temporal\n"
     ]
    },
    {
     "name": "stderr",
     "output_type": "stream",
     "text": [
      " 68%|███████████████████████████████████████████████████████████████████████████████████████████████▏                                           | 367/536 [27:12<12:15,  4.35s/it]"
     ]
    },
    {
     "name": "stdout",
     "output_type": "stream",
     "text": [
      "[471]\n",
      "col_id that is passed COPERNICUS/S1_GRD\n",
      "After s1 and s2 :\n",
      "After overlap:\n",
      "After num_per_month:\n",
      "collection done\n",
      "in try block\n",
      "Info on temporal\n"
     ]
    },
    {
     "name": "stderr",
     "output_type": "stream",
     "text": [
      " 69%|███████████████████████████████████████████████████████████████████████████████████████████████▍                                           | 368/536 [27:15<11:24,  4.07s/it]"
     ]
    },
    {
     "name": "stdout",
     "output_type": "stream",
     "text": [
      "[382]\n",
      "col_id that is passed COPERNICUS/S1_GRD\n",
      "After s1 and s2 :\n",
      "After overlap:\n",
      "After num_per_month:\n",
      "collection done\n",
      "in try block\n",
      "Info on temporal\n"
     ]
    },
    {
     "name": "stderr",
     "output_type": "stream",
     "text": [
      " 69%|███████████████████████████████████████████████████████████████████████████████████████████████▋                                           | 369/536 [27:19<10:57,  3.94s/it]"
     ]
    },
    {
     "name": "stdout",
     "output_type": "stream",
     "text": [
      "[388]\n",
      "col_id that is passed COPERNICUS/S1_GRD\n",
      "After s1 and s2 :\n",
      "After overlap:\n",
      "After num_per_month:\n",
      "collection done\n",
      "in try block\n",
      "Info on temporal\n"
     ]
    },
    {
     "name": "stderr",
     "output_type": "stream",
     "text": [
      " 69%|███████████████████████████████████████████████████████████████████████████████████████████████▉                                           | 370/536 [27:23<10:26,  3.78s/it]"
     ]
    },
    {
     "name": "stdout",
     "output_type": "stream",
     "text": [
      "[510]\n",
      "col_id that is passed COPERNICUS/S1_GRD\n",
      "After s1 and s2 :\n",
      "After overlap:\n",
      "After num_per_month:\n",
      "collection done\n",
      "in try block\n",
      "Info on temporal\n"
     ]
    },
    {
     "name": "stderr",
     "output_type": "stream",
     "text": [
      " 69%|████████████████████████████████████████████████████████████████████████████████████████████████▏                                          | 371/536 [27:27<10:40,  3.88s/it]"
     ]
    },
    {
     "name": "stdout",
     "output_type": "stream",
     "text": [
      "[529]\n",
      "col_id that is passed COPERNICUS/S1_GRD\n",
      "After s1 and s2 :\n",
      "After overlap:\n",
      "After num_per_month:\n",
      "collection done\n",
      "in try block\n",
      "Info on temporal\n"
     ]
    },
    {
     "name": "stderr",
     "output_type": "stream",
     "text": [
      " 69%|████████████████████████████████████████████████████████████████████████████████████████████████▍                                          | 372/536 [27:31<10:40,  3.91s/it]"
     ]
    },
    {
     "name": "stdout",
     "output_type": "stream",
     "text": [
      "[378]\n",
      "col_id that is passed COPERNICUS/S1_GRD\n",
      "After s1 and s2 :\n",
      "After overlap:\n",
      "After num_per_month:\n",
      "collection done\n",
      "in try block\n",
      "Info on temporal\n"
     ]
    },
    {
     "name": "stderr",
     "output_type": "stream",
     "text": [
      " 70%|████████████████████████████████████████████████████████████████████████████████████████████████▋                                          | 373/536 [27:35<10:38,  3.92s/it]"
     ]
    },
    {
     "name": "stdout",
     "output_type": "stream",
     "text": [
      "[605]\n",
      "col_id that is passed COPERNICUS/S1_GRD\n",
      "After s1 and s2 :\n",
      "After overlap:\n",
      "After num_per_month:\n",
      "collection done\n",
      "in try block\n",
      "Info on temporal\n"
     ]
    },
    {
     "name": "stderr",
     "output_type": "stream",
     "text": [
      " 70%|████████████████████████████████████████████████████████████████████████████████████████████████▉                                          | 374/536 [27:39<10:43,  3.97s/it]"
     ]
    },
    {
     "name": "stdout",
     "output_type": "stream",
     "text": [
      "[476]\n",
      "col_id that is passed COPERNICUS/S1_GRD\n",
      "After s1 and s2 :\n",
      "After overlap:\n",
      "After num_per_month:\n",
      "collection done\n",
      "in try block\n",
      "Info on temporal\n"
     ]
    },
    {
     "name": "stderr",
     "output_type": "stream",
     "text": [
      " 70%|█████████████████████████████████████████████████████████████████████████████████████████████████▏                                         | 375/536 [27:42<10:19,  3.85s/it]"
     ]
    },
    {
     "name": "stdout",
     "output_type": "stream",
     "text": [
      "[491]\n",
      "col_id that is passed COPERNICUS/S1_GRD\n",
      "After s1 and s2 :\n",
      "After overlap:\n",
      "After num_per_month:\n",
      "collection done\n",
      "in try block\n",
      "Info on temporal\n"
     ]
    },
    {
     "name": "stderr",
     "output_type": "stream",
     "text": [
      " 70%|█████████████████████████████████████████████████████████████████████████████████████████████████▌                                         | 376/536 [27:47<10:41,  4.01s/it]"
     ]
    },
    {
     "name": "stdout",
     "output_type": "stream",
     "text": [
      "[760]\n",
      "col_id that is passed COPERNICUS/S1_GRD\n",
      "After s1 and s2 :\n",
      "After overlap:\n",
      "After num_per_month:\n",
      "collection done\n",
      "in try block\n",
      "Info on temporal\n"
     ]
    },
    {
     "name": "stderr",
     "output_type": "stream",
     "text": [
      " 70%|█████████████████████████████████████████████████████████████████████████████████████████████████▊                                         | 377/536 [27:51<10:56,  4.13s/it]"
     ]
    },
    {
     "name": "stdout",
     "output_type": "stream",
     "text": [
      "[682]\n",
      "col_id that is passed COPERNICUS/S1_GRD\n",
      "After s1 and s2 :\n",
      "After overlap:\n",
      "After num_per_month:\n",
      "collection done\n",
      "in try block\n",
      "Info on temporal\n"
     ]
    },
    {
     "name": "stderr",
     "output_type": "stream",
     "text": [
      " 71%|██████████████████████████████████████████████████████████████████████████████████████████████████                                         | 378/536 [27:56<11:37,  4.41s/it]"
     ]
    },
    {
     "name": "stdout",
     "output_type": "stream",
     "text": [
      "[446]\n",
      "col_id that is passed COPERNICUS/S1_GRD\n",
      "After s1 and s2 :\n",
      "After overlap:\n",
      "After num_per_month:\n",
      "collection done\n",
      "in try block\n",
      "Info on temporal\n"
     ]
    },
    {
     "name": "stderr",
     "output_type": "stream",
     "text": [
      " 71%|██████████████████████████████████████████████████████████████████████████████████████████████████▎                                        | 379/536 [28:01<12:06,  4.62s/it]"
     ]
    },
    {
     "name": "stdout",
     "output_type": "stream",
     "text": [
      "[508]\n",
      "col_id that is passed COPERNICUS/S1_GRD\n",
      "After s1 and s2 :\n",
      "After overlap:\n",
      "After num_per_month:\n",
      "collection done\n",
      "in try block\n",
      "Info on temporal\n"
     ]
    },
    {
     "name": "stderr",
     "output_type": "stream",
     "text": [
      " 71%|██████████████████████████████████████████████████████████████████████████████████████████████████▌                                        | 380/536 [28:07<12:41,  4.88s/it]"
     ]
    },
    {
     "name": "stdout",
     "output_type": "stream",
     "text": [
      "[341]\n",
      "col_id that is passed COPERNICUS/S1_GRD\n",
      "After s1 and s2 :\n",
      "After overlap:\n",
      "After num_per_month:\n",
      "collection done\n",
      "in try block\n",
      "Info on temporal\n"
     ]
    },
    {
     "name": "stderr",
     "output_type": "stream",
     "text": [
      " 71%|██████████████████████████████████████████████████████████████████████████████████████████████████▊                                        | 381/536 [28:10<11:24,  4.42s/it]"
     ]
    },
    {
     "name": "stdout",
     "output_type": "stream",
     "text": [
      "[389]\n",
      "col_id that is passed COPERNICUS/S1_GRD\n",
      "After s1 and s2 :\n",
      "After overlap:\n",
      "After num_per_month:\n",
      "collection done\n",
      "in try block\n",
      "Info on temporal\n"
     ]
    },
    {
     "name": "stderr",
     "output_type": "stream",
     "text": [
      " 71%|███████████████████████████████████████████████████████████████████████████████████████████████████                                        | 382/536 [28:15<11:29,  4.48s/it]"
     ]
    },
    {
     "name": "stdout",
     "output_type": "stream",
     "text": [
      "[681]\n",
      "col_id that is passed COPERNICUS/S1_GRD\n",
      "After s1 and s2 :\n",
      "After overlap:\n",
      "After num_per_month:\n",
      "collection done\n",
      "in try block\n",
      "Info on temporal\n"
     ]
    },
    {
     "name": "stderr",
     "output_type": "stream",
     "text": [
      " 71%|███████████████████████████████████████████████████████████████████████████████████████████████████▎                                       | 383/536 [28:18<10:24,  4.08s/it]"
     ]
    },
    {
     "name": "stdout",
     "output_type": "stream",
     "text": [
      "[347]\n",
      "col_id that is passed COPERNICUS/S1_GRD\n",
      "After s1 and s2 :\n",
      "After overlap:\n",
      "After num_per_month:\n",
      "collection done\n",
      "in try block\n",
      "Info on temporal\n"
     ]
    },
    {
     "name": "stderr",
     "output_type": "stream",
     "text": [
      " 72%|███████████████████████████████████████████████████████████████████████████████████████████████████▌                                       | 384/536 [28:22<10:36,  4.18s/it]"
     ]
    },
    {
     "name": "stdout",
     "output_type": "stream",
     "text": [
      "[529]\n",
      "col_id that is passed COPERNICUS/S1_GRD\n",
      "After s1 and s2 :\n",
      "After overlap:\n",
      "After num_per_month:\n",
      "collection done\n",
      "in try block\n",
      "Info on temporal\n"
     ]
    },
    {
     "name": "stderr",
     "output_type": "stream",
     "text": [
      " 72%|███████████████████████████████████████████████████████████████████████████████████████████████████▊                                       | 385/536 [28:27<11:03,  4.39s/it]"
     ]
    },
    {
     "name": "stdout",
     "output_type": "stream",
     "text": [
      "[399]\n",
      "col_id that is passed COPERNICUS/S1_GRD\n",
      "After s1 and s2 :\n",
      "After overlap:\n",
      "After num_per_month:\n",
      "collection done\n",
      "in try block\n",
      "Info on temporal\n"
     ]
    },
    {
     "name": "stderr",
     "output_type": "stream",
     "text": [
      " 72%|████████████████████████████████████████████████████████████████████████████████████████████████████                                       | 386/536 [28:33<12:07,  4.85s/it]"
     ]
    },
    {
     "name": "stdout",
     "output_type": "stream",
     "text": [
      "[554]\n",
      "col_id that is passed COPERNICUS/S1_GRD\n",
      "After s1 and s2 :\n",
      "After overlap:\n",
      "After num_per_month:\n",
      "collection done\n",
      "in try block\n",
      "Info on temporal\n"
     ]
    },
    {
     "name": "stderr",
     "output_type": "stream",
     "text": [
      " 72%|████████████████████████████████████████████████████████████████████████████████████████████████████▎                                      | 387/536 [28:39<13:09,  5.30s/it]"
     ]
    },
    {
     "name": "stdout",
     "output_type": "stream",
     "text": [
      "[377]\n",
      "col_id that is passed COPERNICUS/S1_GRD\n",
      "After s1 and s2 :\n",
      "After overlap:\n",
      "After num_per_month:\n",
      "collection done\n",
      "in try block\n",
      "Info on temporal\n"
     ]
    },
    {
     "name": "stderr",
     "output_type": "stream",
     "text": [
      " 72%|████████████████████████████████████████████████████████████████████████████████████████████████████▌                                      | 388/536 [28:43<11:56,  4.84s/it]"
     ]
    },
    {
     "name": "stdout",
     "output_type": "stream",
     "text": [
      "[400]\n",
      "col_id that is passed COPERNICUS/S1_GRD\n",
      "After s1 and s2 :\n",
      "After overlap:\n",
      "After num_per_month:\n",
      "collection done\n",
      "in try block\n",
      "Info on temporal\n"
     ]
    },
    {
     "name": "stderr",
     "output_type": "stream",
     "text": [
      " 73%|████████████████████████████████████████████████████████████████████████████████████████████████████▉                                      | 389/536 [28:49<12:59,  5.30s/it]"
     ]
    },
    {
     "name": "stdout",
     "output_type": "stream",
     "text": [
      "[427]\n",
      "col_id that is passed COPERNICUS/S1_GRD\n",
      "After s1 and s2 :\n",
      "After overlap:\n",
      "After num_per_month:\n",
      "collection done\n",
      "in try block\n",
      "Info on temporal\n"
     ]
    },
    {
     "name": "stderr",
     "output_type": "stream",
     "text": [
      " 73%|█████████████████████████████████████████████████████████████████████████████████████████████████████▏                                     | 390/536 [28:53<11:50,  4.86s/it]"
     ]
    },
    {
     "name": "stdout",
     "output_type": "stream",
     "text": [
      "[401]\n",
      "col_id that is passed COPERNICUS/S1_GRD\n",
      "After s1 and s2 :\n",
      "After overlap:\n",
      "After num_per_month:\n",
      "collection done\n",
      "in try block\n",
      "Info on temporal\n"
     ]
    },
    {
     "name": "stderr",
     "output_type": "stream",
     "text": [
      " 73%|█████████████████████████████████████████████████████████████████████████████████████████████████████▍                                     | 391/536 [28:58<11:42,  4.84s/it]"
     ]
    },
    {
     "name": "stdout",
     "output_type": "stream",
     "text": [
      "[538]\n",
      "col_id that is passed COPERNICUS/S1_GRD\n",
      "After s1 and s2 :\n",
      "After overlap:\n",
      "After num_per_month:\n",
      "collection done\n",
      "in try block\n",
      "Info on temporal\n"
     ]
    },
    {
     "name": "stderr",
     "output_type": "stream",
     "text": [
      " 73%|█████████████████████████████████████████████████████████████████████████████████████████████████████▋                                     | 392/536 [29:03<11:25,  4.76s/it]"
     ]
    },
    {
     "name": "stdout",
     "output_type": "stream",
     "text": [
      "[409]\n",
      "col_id that is passed COPERNICUS/S1_GRD\n",
      "After s1 and s2 :\n",
      "After overlap:\n",
      "After num_per_month:\n",
      "collection done\n",
      "in try block\n",
      "Info on temporal\n"
     ]
    },
    {
     "name": "stderr",
     "output_type": "stream",
     "text": [
      " 73%|█████████████████████████████████████████████████████████████████████████████████████████████████████▉                                     | 393/536 [29:07<11:02,  4.63s/it]"
     ]
    },
    {
     "name": "stdout",
     "output_type": "stream",
     "text": [
      "[528]\n",
      "col_id that is passed COPERNICUS/S1_GRD\n",
      "After s1 and s2 :\n",
      "After overlap:\n",
      "After num_per_month:\n",
      "collection done\n",
      "in try block\n",
      "Info on temporal\n"
     ]
    },
    {
     "name": "stderr",
     "output_type": "stream",
     "text": [
      " 74%|██████████████████████████████████████████████████████████████████████████████████████████████████████▏                                    | 394/536 [29:11<10:49,  4.58s/it]"
     ]
    },
    {
     "name": "stdout",
     "output_type": "stream",
     "text": [
      "[588]\n",
      "col_id that is passed COPERNICUS/S1_GRD\n",
      "After s1 and s2 :\n",
      "After overlap:\n",
      "After num_per_month:\n",
      "collection done\n",
      "in try block\n",
      "Info on temporal\n"
     ]
    },
    {
     "name": "stderr",
     "output_type": "stream",
     "text": [
      " 74%|██████████████████████████████████████████████████████████████████████████████████████████████████████▍                                    | 395/536 [29:15<10:18,  4.39s/it]"
     ]
    },
    {
     "name": "stdout",
     "output_type": "stream",
     "text": [
      "[477]\n",
      "col_id that is passed COPERNICUS/S1_GRD\n",
      "After s1 and s2 :\n",
      "After overlap:\n",
      "After num_per_month:\n",
      "collection done\n",
      "in try block\n",
      "Info on temporal\n"
     ]
    },
    {
     "name": "stderr",
     "output_type": "stream",
     "text": [
      " 74%|██████████████████████████████████████████████████████████████████████████████████████████████████████▋                                    | 396/536 [29:19<09:59,  4.28s/it]"
     ]
    },
    {
     "name": "stdout",
     "output_type": "stream",
     "text": [
      "[454]\n",
      "col_id that is passed COPERNICUS/S1_GRD\n",
      "After s1 and s2 :\n",
      "After overlap:\n",
      "After num_per_month:\n",
      "collection done\n",
      "in try block\n",
      "Info on temporal\n"
     ]
    },
    {
     "name": "stderr",
     "output_type": "stream",
     "text": [
      " 74%|██████████████████████████████████████████████████████████████████████████████████████████████████████▉                                    | 397/536 [29:24<09:59,  4.31s/it]"
     ]
    },
    {
     "name": "stdout",
     "output_type": "stream",
     "text": [
      "[506]\n",
      "col_id that is passed COPERNICUS/S1_GRD\n",
      "After s1 and s2 :\n",
      "After overlap:\n",
      "After num_per_month:\n",
      "collection done\n",
      "in try block\n",
      "Info on temporal\n"
     ]
    },
    {
     "name": "stderr",
     "output_type": "stream",
     "text": [
      " 74%|███████████████████████████████████████████████████████████████████████████████████████████████████████▏                                   | 398/536 [29:30<11:25,  4.97s/it]"
     ]
    },
    {
     "name": "stdout",
     "output_type": "stream",
     "text": [
      "[584]\n",
      "col_id that is passed COPERNICUS/S1_GRD\n",
      "After s1 and s2 :\n",
      "After overlap:\n",
      "After num_per_month:\n",
      "collection done\n",
      "in try block\n",
      "Info on temporal\n"
     ]
    },
    {
     "name": "stderr",
     "output_type": "stream",
     "text": [
      " 74%|███████████████████████████████████████████████████████████████████████████████████████████████████████▍                                   | 399/536 [29:35<11:03,  4.84s/it]"
     ]
    },
    {
     "name": "stdout",
     "output_type": "stream",
     "text": [
      "[378]\n",
      "col_id that is passed COPERNICUS/S1_GRD\n",
      "After s1 and s2 :\n",
      "After overlap:\n",
      "After num_per_month:\n",
      "collection done\n",
      "in try block\n",
      "Info on temporal\n"
     ]
    },
    {
     "name": "stderr",
     "output_type": "stream",
     "text": [
      " 75%|███████████████████████████████████████████████████████████████████████████████████████████████████████▋                                   | 400/536 [29:39<10:40,  4.71s/it]"
     ]
    },
    {
     "name": "stdout",
     "output_type": "stream",
     "text": [
      "[518]\n",
      "col_id that is passed COPERNICUS/S1_GRD\n",
      "After s1 and s2 :\n",
      "After overlap:\n",
      "After num_per_month:\n",
      "collection done\n",
      "in try block\n",
      "Info on temporal\n"
     ]
    },
    {
     "name": "stderr",
     "output_type": "stream",
     "text": [
      " 75%|███████████████████████████████████████████████████████████████████████████████████████████████████████▉                                   | 401/536 [29:43<10:07,  4.50s/it]"
     ]
    },
    {
     "name": "stdout",
     "output_type": "stream",
     "text": [
      "[680]\n",
      "col_id that is passed COPERNICUS/S1_GRD\n",
      "After s1 and s2 :\n",
      "After overlap:\n",
      "After num_per_month:\n",
      "collection done\n",
      "in try block\n",
      "Info on temporal\n"
     ]
    },
    {
     "name": "stderr",
     "output_type": "stream",
     "text": [
      " 75%|████████████████████████████████████████████████████████████████████████████████████████████████████████▎                                  | 402/536 [29:47<09:34,  4.29s/it]"
     ]
    },
    {
     "name": "stdout",
     "output_type": "stream",
     "text": [
      "[496]\n",
      "col_id that is passed COPERNICUS/S1_GRD\n",
      "After s1 and s2 :\n",
      "After overlap:\n",
      "After num_per_month:\n",
      "collection done\n",
      "in try block\n",
      "Info on temporal\n"
     ]
    },
    {
     "name": "stderr",
     "output_type": "stream",
     "text": [
      " 75%|████████████████████████████████████████████████████████████████████████████████████████████████████████▌                                  | 403/536 [29:51<09:30,  4.29s/it]"
     ]
    },
    {
     "name": "stdout",
     "output_type": "stream",
     "text": [
      "[596]\n",
      "col_id that is passed COPERNICUS/S1_GRD\n",
      "After s1 and s2 :\n",
      "After overlap:\n",
      "After num_per_month:\n",
      "collection done\n",
      "in try block\n",
      "Info on temporal\n"
     ]
    },
    {
     "name": "stderr",
     "output_type": "stream",
     "text": [
      " 75%|████████████████████████████████████████████████████████████████████████████████████████████████████████▊                                  | 404/536 [29:58<10:38,  4.84s/it]"
     ]
    },
    {
     "name": "stdout",
     "output_type": "stream",
     "text": [
      "[664]\n",
      "col_id that is passed COPERNICUS/S1_GRD\n",
      "After s1 and s2 :\n",
      "After overlap:\n",
      "After num_per_month:\n",
      "collection done\n",
      "in try block\n",
      "Info on temporal\n"
     ]
    },
    {
     "name": "stderr",
     "output_type": "stream",
     "text": [
      " 76%|█████████████████████████████████████████████████████████████████████████████████████████████████████████                                  | 405/536 [30:01<09:51,  4.52s/it]"
     ]
    },
    {
     "name": "stdout",
     "output_type": "stream",
     "text": [
      "[643]\n",
      "col_id that is passed COPERNICUS/S1_GRD\n",
      "After s1 and s2 :\n",
      "After overlap:\n",
      "After num_per_month:\n",
      "collection done\n",
      "in try block\n",
      "Info on temporal\n"
     ]
    },
    {
     "name": "stderr",
     "output_type": "stream",
     "text": [
      " 76%|█████████████████████████████████████████████████████████████████████████████████████████████████████████▎                                 | 406/536 [30:05<09:07,  4.21s/it]"
     ]
    },
    {
     "name": "stdout",
     "output_type": "stream",
     "text": [
      "[365]\n",
      "col_id that is passed COPERNICUS/S1_GRD\n",
      "After s1 and s2 :\n",
      "After overlap:\n",
      "After num_per_month:\n",
      "collection done\n",
      "in try block\n",
      "Info on temporal\n"
     ]
    },
    {
     "name": "stderr",
     "output_type": "stream",
     "text": [
      " 76%|█████████████████████████████████████████████████████████████████████████████████████████████████████████▌                                 | 407/536 [30:08<08:43,  4.06s/it]"
     ]
    },
    {
     "name": "stdout",
     "output_type": "stream",
     "text": [
      "[349]\n",
      "col_id that is passed COPERNICUS/S1_GRD\n",
      "After s1 and s2 :\n",
      "After overlap:\n",
      "After num_per_month:\n",
      "collection done\n",
      "in try block\n",
      "Info on temporal\n"
     ]
    },
    {
     "name": "stderr",
     "output_type": "stream",
     "text": [
      " 76%|█████████████████████████████████████████████████████████████████████████████████████████████████████████▊                                 | 408/536 [30:12<08:27,  3.97s/it]"
     ]
    },
    {
     "name": "stdout",
     "output_type": "stream",
     "text": [
      "[400]\n",
      "col_id that is passed COPERNICUS/S1_GRD\n",
      "After s1 and s2 :\n",
      "After overlap:\n",
      "After num_per_month:\n",
      "collection done\n",
      "in try block\n",
      "Info on temporal\n"
     ]
    },
    {
     "name": "stderr",
     "output_type": "stream",
     "text": [
      " 76%|██████████████████████████████████████████████████████████████████████████████████████████████████████████                                 | 409/536 [30:16<08:22,  3.95s/it]"
     ]
    },
    {
     "name": "stdout",
     "output_type": "stream",
     "text": [
      "[285]\n",
      "col_id that is passed COPERNICUS/S1_GRD\n",
      "After s1 and s2 :\n",
      "After overlap:\n",
      "After num_per_month:\n",
      "collection done\n",
      "in try block\n",
      "Info on temporal\n"
     ]
    },
    {
     "name": "stderr",
     "output_type": "stream",
     "text": [
      " 76%|██████████████████████████████████████████████████████████████████████████████████████████████████████████▎                                | 410/536 [30:21<09:02,  4.30s/it]"
     ]
    },
    {
     "name": "stdout",
     "output_type": "stream",
     "text": [
      "[332]\n",
      "col_id that is passed COPERNICUS/S1_GRD\n",
      "After s1 and s2 :\n",
      "After overlap:\n",
      "After num_per_month:\n",
      "collection done\n",
      "in try block\n",
      "Info on temporal\n"
     ]
    },
    {
     "name": "stderr",
     "output_type": "stream",
     "text": [
      " 77%|██████████████████████████████████████████████████████████████████████████████████████████████████████████▌                                | 411/536 [30:25<08:27,  4.06s/it]"
     ]
    },
    {
     "name": "stdout",
     "output_type": "stream",
     "text": [
      "[214]\n",
      "col_id that is passed COPERNICUS/S1_GRD\n",
      "After s1 and s2 :\n",
      "After overlap:\n",
      "After num_per_month:\n",
      "collection done\n",
      "in try block\n",
      "Info on temporal\n"
     ]
    },
    {
     "name": "stderr",
     "output_type": "stream",
     "text": [
      " 77%|██████████████████████████████████████████████████████████████████████████████████████████████████████████▊                                | 412/536 [30:30<08:49,  4.27s/it]"
     ]
    },
    {
     "name": "stdout",
     "output_type": "stream",
     "text": [
      "[375]\n",
      "col_id that is passed COPERNICUS/S1_GRD\n",
      "After s1 and s2 :\n",
      "After overlap:\n",
      "After num_per_month:\n",
      "collection done\n",
      "in try block\n",
      "Info on temporal\n"
     ]
    },
    {
     "name": "stderr",
     "output_type": "stream",
     "text": [
      " 77%|███████████████████████████████████████████████████████████████████████████████████████████████████████████                                | 413/536 [30:34<08:58,  4.38s/it]"
     ]
    },
    {
     "name": "stdout",
     "output_type": "stream",
     "text": [
      "[332]\n",
      "col_id that is passed COPERNICUS/S1_GRD\n",
      "After s1 and s2 :\n",
      "After overlap:\n",
      "After num_per_month:\n",
      "collection done\n",
      "in try block\n",
      "Info on temporal\n"
     ]
    },
    {
     "name": "stderr",
     "output_type": "stream",
     "text": [
      " 77%|███████████████████████████████████████████████████████████████████████████████████████████████████████████▎                               | 414/536 [30:38<08:25,  4.14s/it]"
     ]
    },
    {
     "name": "stdout",
     "output_type": "stream",
     "text": [
      "[307]\n",
      "col_id that is passed COPERNICUS/S1_GRD\n",
      "After s1 and s2 :\n",
      "After overlap:\n",
      "After num_per_month:\n",
      "collection done\n",
      "in try block\n",
      "Info on temporal\n"
     ]
    },
    {
     "name": "stderr",
     "output_type": "stream",
     "text": [
      " 77%|███████████████████████████████████████████████████████████████████████████████████████████████████████████▌                               | 415/536 [30:42<08:16,  4.10s/it]"
     ]
    },
    {
     "name": "stdout",
     "output_type": "stream",
     "text": [
      "[251]\n",
      "col_id that is passed COPERNICUS/S1_GRD\n",
      "After s1 and s2 :\n",
      "After overlap:\n",
      "After num_per_month:\n",
      "collection done\n",
      "in try block\n",
      "Info on temporal\n"
     ]
    },
    {
     "name": "stderr",
     "output_type": "stream",
     "text": [
      " 78%|███████████████████████████████████████████████████████████████████████████████████████████████████████████▉                               | 416/536 [30:46<08:17,  4.15s/it]"
     ]
    },
    {
     "name": "stdout",
     "output_type": "stream",
     "text": [
      "[527]\n",
      "col_id that is passed COPERNICUS/S1_GRD\n",
      "After s1 and s2 :\n",
      "After overlap:\n",
      "After num_per_month:\n",
      "collection done\n",
      "in try block\n",
      "Info on temporal\n"
     ]
    },
    {
     "name": "stderr",
     "output_type": "stream",
     "text": [
      " 78%|████████████████████████████████████████████████████████████████████████████████████████████████████████████▏                              | 417/536 [30:50<08:02,  4.06s/it]"
     ]
    },
    {
     "name": "stdout",
     "output_type": "stream",
     "text": [
      "[367]\n",
      "col_id that is passed COPERNICUS/S1_GRD\n",
      "After s1 and s2 :\n",
      "After overlap:\n",
      "After num_per_month:\n",
      "collection done\n",
      "in try block\n",
      "Info on temporal\n"
     ]
    },
    {
     "name": "stderr",
     "output_type": "stream",
     "text": [
      " 78%|████████████████████████████████████████████████████████████████████████████████████████████████████████████▍                              | 418/536 [30:53<07:43,  3.92s/it]"
     ]
    },
    {
     "name": "stdout",
     "output_type": "stream",
     "text": [
      "[420]\n",
      "col_id that is passed COPERNICUS/S1_GRD\n",
      "After s1 and s2 :\n",
      "After overlap:\n",
      "After num_per_month:\n",
      "collection done\n",
      "in try block\n",
      "Info on temporal\n"
     ]
    },
    {
     "name": "stderr",
     "output_type": "stream",
     "text": [
      " 78%|████████████████████████████████████████████████████████████████████████████████████████████████████████████▋                              | 419/536 [30:57<07:34,  3.89s/it]"
     ]
    },
    {
     "name": "stdout",
     "output_type": "stream",
     "text": [
      "[492]\n",
      "col_id that is passed COPERNICUS/S1_GRD\n",
      "After s1 and s2 :\n",
      "After overlap:\n",
      "After num_per_month:\n",
      "collection done\n",
      "in try block\n",
      "Info on temporal\n"
     ]
    },
    {
     "name": "stderr",
     "output_type": "stream",
     "text": [
      " 78%|████████████████████████████████████████████████████████████████████████████████████████████████████████████▉                              | 420/536 [31:02<08:12,  4.25s/it]"
     ]
    },
    {
     "name": "stdout",
     "output_type": "stream",
     "text": [
      "[251]\n",
      "col_id that is passed COPERNICUS/S1_GRD\n",
      "After s1 and s2 :\n",
      "After overlap:\n",
      "After num_per_month:\n",
      "collection done\n",
      "in try block\n",
      "Info on temporal\n"
     ]
    },
    {
     "name": "stderr",
     "output_type": "stream",
     "text": [
      " 79%|█████████████████████████████████████████████████████████████████████████████████████████████████████████████▏                             | 421/536 [31:07<08:21,  4.36s/it]"
     ]
    },
    {
     "name": "stdout",
     "output_type": "stream",
     "text": [
      "[523]\n",
      "col_id that is passed COPERNICUS/S1_GRD\n",
      "After s1 and s2 :\n",
      "After overlap:\n",
      "After num_per_month:\n",
      "collection done\n",
      "in try block\n",
      "Info on temporal\n"
     ]
    },
    {
     "name": "stderr",
     "output_type": "stream",
     "text": [
      " 79%|█████████████████████████████████████████████████████████████████████████████████████████████████████████████▍                             | 422/536 [31:10<07:29,  3.95s/it]"
     ]
    },
    {
     "name": "stdout",
     "output_type": "stream",
     "text": [
      "[316]\n",
      "col_id that is passed COPERNICUS/S1_GRD\n",
      "After s1 and s2 :\n",
      "After overlap:\n",
      "After num_per_month:\n",
      "collection done\n",
      "in try block\n",
      "Info on temporal\n"
     ]
    },
    {
     "name": "stderr",
     "output_type": "stream",
     "text": [
      " 79%|█████████████████████████████████████████████████████████████████████████████████████████████████████████████▋                             | 423/536 [31:14<07:19,  3.89s/it]"
     ]
    },
    {
     "name": "stdout",
     "output_type": "stream",
     "text": [
      "[289]\n",
      "col_id that is passed COPERNICUS/S1_GRD\n",
      "After s1 and s2 :\n",
      "After overlap:\n",
      "After num_per_month:\n",
      "collection done\n",
      "in try block\n",
      "Info on temporal\n"
     ]
    },
    {
     "name": "stderr",
     "output_type": "stream",
     "text": [
      " 79%|█████████████████████████████████████████████████████████████████████████████████████████████████████████████▉                             | 424/536 [31:18<07:12,  3.87s/it]"
     ]
    },
    {
     "name": "stdout",
     "output_type": "stream",
     "text": [
      "[246]\n",
      "col_id that is passed COPERNICUS/S1_GRD\n",
      "After s1 and s2 :\n",
      "After overlap:\n",
      "After num_per_month:\n",
      "collection done\n",
      "in try block\n",
      "Info on temporal\n"
     ]
    },
    {
     "name": "stderr",
     "output_type": "stream",
     "text": [
      " 79%|██████████████████████████████████████████████████████████████████████████████████████████████████████████████▏                            | 425/536 [31:21<06:57,  3.76s/it]"
     ]
    },
    {
     "name": "stdout",
     "output_type": "stream",
     "text": [
      "[320]\n",
      "col_id that is passed COPERNICUS/S1_GRD\n",
      "After s1 and s2 :\n",
      "After overlap:\n",
      "After num_per_month:\n",
      "collection done\n",
      "in try block\n",
      "Info on temporal\n"
     ]
    },
    {
     "name": "stderr",
     "output_type": "stream",
     "text": [
      " 79%|██████████████████████████████████████████████████████████████████████████████████████████████████████████████▍                            | 426/536 [31:24<06:27,  3.52s/it]"
     ]
    },
    {
     "name": "stdout",
     "output_type": "stream",
     "text": [
      "[250]\n",
      "col_id that is passed COPERNICUS/S1_GRD\n",
      "After s1 and s2 :\n",
      "After overlap:\n",
      "After num_per_month:\n",
      "collection done\n",
      "in try block\n",
      "Info on temporal\n"
     ]
    },
    {
     "name": "stderr",
     "output_type": "stream",
     "text": [
      " 80%|██████████████████████████████████████████████████████████████████████████████████████████████████████████████▋                            | 427/536 [31:28<06:32,  3.60s/it]"
     ]
    },
    {
     "name": "stdout",
     "output_type": "stream",
     "text": [
      "[271]\n",
      "col_id that is passed COPERNICUS/S1_GRD\n",
      "After s1 and s2 :\n",
      "After overlap:\n",
      "After num_per_month:\n",
      "collection done\n",
      "in try block\n",
      "Info on temporal\n"
     ]
    },
    {
     "name": "stderr",
     "output_type": "stream",
     "text": [
      " 80%|██████████████████████████████████████████████████████████████████████████████████████████████████████████████▉                            | 428/536 [31:32<06:40,  3.71s/it]"
     ]
    },
    {
     "name": "stdout",
     "output_type": "stream",
     "text": [
      "[348]\n",
      "col_id that is passed COPERNICUS/S1_GRD\n",
      "After s1 and s2 :\n",
      "After overlap:\n",
      "After num_per_month:\n",
      "collection done\n",
      "in try block\n",
      "Info on temporal\n"
     ]
    },
    {
     "name": "stderr",
     "output_type": "stream",
     "text": [
      " 80%|███████████████████████████████████████████████████████████████████████████████████████████████████████████████▎                           | 429/536 [31:36<06:47,  3.81s/it]"
     ]
    },
    {
     "name": "stdout",
     "output_type": "stream",
     "text": [
      "[356]\n",
      "col_id that is passed COPERNICUS/S1_GRD\n",
      "After s1 and s2 :\n",
      "After overlap:\n",
      "After num_per_month:\n",
      "collection done\n",
      "in try block\n",
      "Info on temporal\n"
     ]
    },
    {
     "name": "stderr",
     "output_type": "stream",
     "text": [
      " 80%|███████████████████████████████████████████████████████████████████████████████████████████████████████████████▌                           | 430/536 [31:40<06:58,  3.95s/it]"
     ]
    },
    {
     "name": "stdout",
     "output_type": "stream",
     "text": [
      "[521]\n",
      "col_id that is passed COPERNICUS/S1_GRD\n",
      "After s1 and s2 :\n",
      "After overlap:\n",
      "After num_per_month:\n",
      "collection done\n",
      "in try block\n",
      "Info on temporal\n"
     ]
    },
    {
     "name": "stderr",
     "output_type": "stream",
     "text": [
      " 80%|███████████████████████████████████████████████████████████████████████████████████████████████████████████████▊                           | 431/536 [31:43<06:17,  3.59s/it]"
     ]
    },
    {
     "name": "stdout",
     "output_type": "stream",
     "text": [
      "[235]\n",
      "col_id that is passed COPERNICUS/S1_GRD\n",
      "After s1 and s2 :\n",
      "After overlap:\n",
      "After num_per_month:\n",
      "collection done\n",
      "in try block\n",
      "Info on temporal\n"
     ]
    },
    {
     "name": "stderr",
     "output_type": "stream",
     "text": [
      " 81%|████████████████████████████████████████████████████████████████████████████████████████████████████████████████                           | 432/536 [31:47<06:21,  3.67s/it]"
     ]
    },
    {
     "name": "stdout",
     "output_type": "stream",
     "text": [
      "[218]\n",
      "col_id that is passed COPERNICUS/S1_GRD\n",
      "After s1 and s2 :\n",
      "After overlap:\n",
      "After num_per_month:\n",
      "collection done\n",
      "in try block\n",
      "Info on temporal\n"
     ]
    },
    {
     "name": "stderr",
     "output_type": "stream",
     "text": [
      " 81%|████████████████████████████████████████████████████████████████████████████████████████████████████████████████▎                          | 433/536 [31:51<06:23,  3.72s/it]"
     ]
    },
    {
     "name": "stdout",
     "output_type": "stream",
     "text": [
      "[547]\n",
      "col_id that is passed COPERNICUS/S1_GRD\n",
      "After s1 and s2 :\n",
      "After overlap:\n",
      "After num_per_month:\n",
      "collection done\n",
      "in try block\n",
      "Info on temporal\n"
     ]
    },
    {
     "name": "stderr",
     "output_type": "stream",
     "text": [
      " 81%|████████████████████████████████████████████████████████████████████████████████████████████████████████████████▌                          | 434/536 [31:55<06:39,  3.92s/it]"
     ]
    },
    {
     "name": "stdout",
     "output_type": "stream",
     "text": [
      "[426]\n",
      "col_id that is passed COPERNICUS/S1_GRD\n",
      "After s1 and s2 :\n",
      "After overlap:\n",
      "After num_per_month:\n",
      "collection done\n",
      "in try block\n",
      "Info on temporal\n"
     ]
    },
    {
     "name": "stderr",
     "output_type": "stream",
     "text": [
      " 81%|████████████████████████████████████████████████████████████████████████████████████████████████████████████████▊                          | 435/536 [31:59<06:39,  3.95s/it]"
     ]
    },
    {
     "name": "stdout",
     "output_type": "stream",
     "text": [
      "[395]\n",
      "col_id that is passed COPERNICUS/S1_GRD\n",
      "After s1 and s2 :\n",
      "After overlap:\n",
      "After num_per_month:\n",
      "collection done\n",
      "in try block\n",
      "Info on temporal\n"
     ]
    },
    {
     "name": "stderr",
     "output_type": "stream",
     "text": [
      " 81%|█████████████████████████████████████████████████████████████████████████████████████████████████████████████████                          | 436/536 [32:03<06:41,  4.01s/it]"
     ]
    },
    {
     "name": "stdout",
     "output_type": "stream",
     "text": [
      "[239]\n",
      "col_id that is passed COPERNICUS/S1_GRD\n",
      "After s1 and s2 :\n",
      "After overlap:\n",
      "After num_per_month:\n",
      "collection done\n",
      "in try block\n",
      "Info on temporal\n"
     ]
    },
    {
     "name": "stderr",
     "output_type": "stream",
     "text": [
      " 82%|█████████████████████████████████████████████████████████████████████████████████████████████████████████████████▎                         | 437/536 [32:06<06:16,  3.80s/it]"
     ]
    },
    {
     "name": "stdout",
     "output_type": "stream",
     "text": [
      "[460]\n",
      "col_id that is passed COPERNICUS/S1_GRD\n",
      "After s1 and s2 :\n",
      "After overlap:\n",
      "After num_per_month:\n",
      "collection done\n",
      "in try block\n",
      "Info on temporal\n"
     ]
    },
    {
     "name": "stderr",
     "output_type": "stream",
     "text": [
      " 82%|█████████████████████████████████████████████████████████████████████████████████████████████████████████████████▌                         | 438/536 [32:10<06:11,  3.79s/it]"
     ]
    },
    {
     "name": "stdout",
     "output_type": "stream",
     "text": [
      "[451]\n",
      "col_id that is passed COPERNICUS/S1_GRD\n",
      "After s1 and s2 :\n",
      "After overlap:\n",
      "After num_per_month:\n",
      "collection done\n",
      "in try block\n",
      "Info on temporal\n"
     ]
    },
    {
     "name": "stderr",
     "output_type": "stream",
     "text": [
      " 82%|█████████████████████████████████████████████████████████████████████████████████████████████████████████████████▊                         | 439/536 [32:15<06:34,  4.07s/it]"
     ]
    },
    {
     "name": "stdout",
     "output_type": "stream",
     "text": [
      "[392]\n",
      "col_id that is passed COPERNICUS/S1_GRD\n",
      "After s1 and s2 :\n",
      "After overlap:\n",
      "After num_per_month:\n",
      "collection done\n",
      "in try block\n",
      "Info on temporal\n"
     ]
    },
    {
     "name": "stderr",
     "output_type": "stream",
     "text": [
      " 82%|██████████████████████████████████████████████████████████████████████████████████████████████████████████████████                         | 440/536 [32:18<06:16,  3.92s/it]"
     ]
    },
    {
     "name": "stdout",
     "output_type": "stream",
     "text": [
      "[410]\n",
      "col_id that is passed COPERNICUS/S1_GRD\n",
      "After s1 and s2 :\n",
      "After overlap:\n",
      "After num_per_month:\n",
      "collection done\n",
      "in try block\n",
      "Info on temporal\n"
     ]
    },
    {
     "name": "stderr",
     "output_type": "stream",
     "text": [
      " 82%|██████████████████████████████████████████████████████████████████████████████████████████████████████████████████▎                        | 441/536 [32:23<06:25,  4.06s/it]"
     ]
    },
    {
     "name": "stdout",
     "output_type": "stream",
     "text": [
      "[300]\n",
      "col_id that is passed COPERNICUS/S1_GRD\n",
      "After s1 and s2 :\n",
      "After overlap:\n",
      "After num_per_month:\n",
      "collection done\n",
      "in try block\n",
      "Info on temporal\n"
     ]
    },
    {
     "name": "stderr",
     "output_type": "stream",
     "text": [
      " 82%|██████████████████████████████████████████████████████████████████████████████████████████████████████████████████▌                        | 442/536 [32:34<09:52,  6.31s/it]"
     ]
    },
    {
     "name": "stdout",
     "output_type": "stream",
     "text": [
      "[301]\n",
      "col_id that is passed COPERNICUS/S1_GRD\n",
      "After s1 and s2 :\n",
      "After overlap:\n",
      "After num_per_month:\n",
      "collection done\n",
      "in try block\n",
      "Info on temporal\n"
     ]
    },
    {
     "name": "stderr",
     "output_type": "stream",
     "text": [
      " 83%|██████████████████████████████████████████████████████████████████████████████████████████████████████████████████▉                        | 443/536 [32:38<08:30,  5.48s/it]"
     ]
    },
    {
     "name": "stdout",
     "output_type": "stream",
     "text": [
      "[381]\n",
      "col_id that is passed COPERNICUS/S1_GRD\n",
      "After s1 and s2 :\n",
      "After overlap:\n",
      "After num_per_month:\n",
      "collection done\n",
      "in try block\n",
      "Info on temporal\n"
     ]
    },
    {
     "name": "stderr",
     "output_type": "stream",
     "text": [
      " 83%|███████████████████████████████████████████████████████████████████████████████████████████████████████████████████▏                       | 444/536 [32:42<07:51,  5.12s/it]"
     ]
    },
    {
     "name": "stdout",
     "output_type": "stream",
     "text": [
      "[380]\n",
      "col_id that is passed COPERNICUS/S1_GRD\n",
      "After s1 and s2 :\n",
      "After overlap:\n",
      "After num_per_month:\n",
      "collection done\n",
      "in try block\n",
      "Info on temporal\n"
     ]
    },
    {
     "name": "stderr",
     "output_type": "stream",
     "text": [
      " 83%|███████████████████████████████████████████████████████████████████████████████████████████████████████████████████▍                       | 445/536 [32:46<07:20,  4.84s/it]"
     ]
    },
    {
     "name": "stdout",
     "output_type": "stream",
     "text": [
      "[318]\n",
      "col_id that is passed COPERNICUS/S1_GRD\n",
      "After s1 and s2 :\n",
      "After overlap:\n",
      "After num_per_month:\n",
      "collection done\n",
      "in try block\n",
      "Info on temporal\n"
     ]
    },
    {
     "name": "stderr",
     "output_type": "stream",
     "text": [
      " 83%|███████████████████████████████████████████████████████████████████████████████████████████████████████████████████▋                       | 446/536 [32:50<06:44,  4.49s/it]"
     ]
    },
    {
     "name": "stdout",
     "output_type": "stream",
     "text": [
      "[503]\n",
      "col_id that is passed COPERNICUS/S1_GRD\n",
      "After s1 and s2 :\n",
      "After overlap:\n",
      "After num_per_month:\n",
      "collection done\n",
      "in try block\n",
      "Info on temporal\n"
     ]
    },
    {
     "name": "stderr",
     "output_type": "stream",
     "text": [
      " 83%|███████████████████████████████████████████████████████████████████████████████████████████████████████████████████▉                       | 447/536 [32:54<06:23,  4.31s/it]"
     ]
    },
    {
     "name": "stdout",
     "output_type": "stream",
     "text": [
      "[341]\n",
      "col_id that is passed COPERNICUS/S1_GRD\n",
      "After s1 and s2 :\n",
      "After overlap:\n",
      "After num_per_month:\n",
      "collection done\n",
      "in try block\n",
      "Info on temporal\n"
     ]
    },
    {
     "name": "stderr",
     "output_type": "stream",
     "text": [
      " 84%|████████████████████████████████████████████████████████████████████████████████████████████████████████████████████▏                      | 448/536 [32:59<06:35,  4.50s/it]"
     ]
    },
    {
     "name": "stdout",
     "output_type": "stream",
     "text": [
      "[348]\n",
      "col_id that is passed COPERNICUS/S1_GRD\n",
      "After s1 and s2 :\n",
      "After overlap:\n",
      "After num_per_month:\n",
      "collection done\n",
      "in try block\n",
      "Info on temporal\n"
     ]
    },
    {
     "name": "stderr",
     "output_type": "stream",
     "text": [
      " 84%|████████████████████████████████████████████████████████████████████████████████████████████████████████████████████▍                      | 449/536 [33:03<06:23,  4.41s/it]"
     ]
    },
    {
     "name": "stdout",
     "output_type": "stream",
     "text": [
      "[436]\n",
      "col_id that is passed COPERNICUS/S1_GRD\n",
      "After s1 and s2 :\n",
      "After overlap:\n",
      "After num_per_month:\n",
      "collection done\n",
      "in try block\n",
      "Info on temporal\n"
     ]
    },
    {
     "name": "stderr",
     "output_type": "stream",
     "text": [
      " 84%|████████████████████████████████████████████████████████████████████████████████████████████████████████████████████▋                      | 450/536 [33:06<05:49,  4.06s/it]"
     ]
    },
    {
     "name": "stdout",
     "output_type": "stream",
     "text": [
      "[203]\n",
      "col_id that is passed COPERNICUS/S1_GRD\n",
      "After s1 and s2 :\n",
      "After overlap:\n",
      "After num_per_month:\n",
      "collection done\n",
      "in try block\n",
      "Info on temporal\n"
     ]
    },
    {
     "name": "stderr",
     "output_type": "stream",
     "text": [
      " 84%|████████████████████████████████████████████████████████████████████████████████████████████████████████████████████▉                      | 451/536 [33:11<05:59,  4.23s/it]"
     ]
    },
    {
     "name": "stdout",
     "output_type": "stream",
     "text": [
      "[446]\n",
      "col_id that is passed COPERNICUS/S1_GRD\n",
      "After s1 and s2 :\n",
      "After overlap:\n",
      "After num_per_month:\n",
      "collection done\n",
      "in try block\n",
      "Info on temporal\n"
     ]
    },
    {
     "name": "stderr",
     "output_type": "stream",
     "text": [
      " 84%|█████████████████████████████████████████████████████████████████████████████████████████████████████████████████████▏                     | 452/536 [33:15<05:38,  4.03s/it]"
     ]
    },
    {
     "name": "stdout",
     "output_type": "stream",
     "text": [
      "[329]\n",
      "col_id that is passed COPERNICUS/S1_GRD\n",
      "After s1 and s2 :\n",
      "After overlap:\n",
      "After num_per_month:\n",
      "collection done\n",
      "in try block\n",
      "Info on temporal\n"
     ]
    },
    {
     "name": "stderr",
     "output_type": "stream",
     "text": [
      " 85%|█████████████████████████████████████████████████████████████████████████████████████████████████████████████████████▍                     | 453/536 [33:18<05:31,  3.99s/it]"
     ]
    },
    {
     "name": "stdout",
     "output_type": "stream",
     "text": [
      "[379]\n",
      "col_id that is passed COPERNICUS/S1_GRD\n",
      "After s1 and s2 :\n",
      "After overlap:\n",
      "After num_per_month:\n",
      "collection done\n",
      "in try block\n",
      "Info on temporal\n"
     ]
    },
    {
     "name": "stderr",
     "output_type": "stream",
     "text": [
      " 85%|█████████████████████████████████████████████████████████████████████████████████████████████████████████████████████▋                     | 454/536 [33:23<05:44,  4.20s/it]"
     ]
    },
    {
     "name": "stdout",
     "output_type": "stream",
     "text": [
      "[557]\n",
      "col_id that is passed COPERNICUS/S1_GRD\n",
      "After s1 and s2 :\n",
      "After overlap:\n",
      "After num_per_month:\n",
      "collection done\n",
      "in try block\n",
      "Info on temporal\n"
     ]
    },
    {
     "name": "stderr",
     "output_type": "stream",
     "text": [
      " 85%|█████████████████████████████████████████████████████████████████████████████████████████████████████████████████████▉                     | 455/536 [33:27<05:34,  4.13s/it]"
     ]
    },
    {
     "name": "stdout",
     "output_type": "stream",
     "text": [
      "[320]\n",
      "col_id that is passed COPERNICUS/S1_GRD\n",
      "After s1 and s2 :\n",
      "After overlap:\n",
      "After num_per_month:\n",
      "collection done\n",
      "in try block\n",
      "Info on temporal\n"
     ]
    },
    {
     "name": "stderr",
     "output_type": "stream",
     "text": [
      " 85%|██████████████████████████████████████████████████████████████████████████████████████████████████████████████████████▎                    | 456/536 [33:31<05:23,  4.04s/it]"
     ]
    },
    {
     "name": "stdout",
     "output_type": "stream",
     "text": [
      "[279]\n",
      "col_id that is passed COPERNICUS/S1_GRD\n",
      "After s1 and s2 :\n",
      "After overlap:\n",
      "After num_per_month:\n",
      "collection done\n",
      "in try block\n",
      "Info on temporal\n"
     ]
    },
    {
     "name": "stderr",
     "output_type": "stream",
     "text": [
      " 85%|██████████████████████████████████████████████████████████████████████████████████████████████████████████████████████▌                    | 457/536 [33:36<05:45,  4.38s/it]"
     ]
    },
    {
     "name": "stdout",
     "output_type": "stream",
     "text": [
      "[362]\n",
      "col_id that is passed COPERNICUS/S1_GRD\n",
      "After s1 and s2 :\n",
      "After overlap:\n",
      "After num_per_month:\n",
      "collection done\n",
      "in try block\n",
      "Info on temporal\n"
     ]
    },
    {
     "name": "stderr",
     "output_type": "stream",
     "text": [
      " 85%|██████████████████████████████████████████████████████████████████████████████████████████████████████████████████████▊                    | 458/536 [33:39<05:12,  4.00s/it]"
     ]
    },
    {
     "name": "stdout",
     "output_type": "stream",
     "text": [
      "[443]\n",
      "col_id that is passed COPERNICUS/S1_GRD\n",
      "After s1 and s2 :\n",
      "After overlap:\n",
      "After num_per_month:\n",
      "collection done\n",
      "in try block\n",
      "Info on temporal\n"
     ]
    },
    {
     "name": "stderr",
     "output_type": "stream",
     "text": [
      " 86%|███████████████████████████████████████████████████████████████████████████████████████████████████████████████████████                    | 459/536 [33:43<05:06,  3.97s/it]"
     ]
    },
    {
     "name": "stdout",
     "output_type": "stream",
     "text": [
      "[475]\n",
      "col_id that is passed COPERNICUS/S1_GRD\n",
      "After s1 and s2 :\n",
      "After overlap:\n",
      "After num_per_month:\n",
      "collection done\n",
      "in try block\n",
      "Info on temporal\n"
     ]
    },
    {
     "name": "stderr",
     "output_type": "stream",
     "text": [
      " 86%|███████████████████████████████████████████████████████████████████████████████████████████████████████████████████████▎                   | 460/536 [33:47<05:08,  4.05s/it]"
     ]
    },
    {
     "name": "stdout",
     "output_type": "stream",
     "text": [
      "[587]\n",
      "col_id that is passed COPERNICUS/S1_GRD\n",
      "After s1 and s2 :\n",
      "After overlap:\n",
      "After num_per_month:\n",
      "collection done\n",
      "in try block\n",
      "Info on temporal\n"
     ]
    },
    {
     "name": "stderr",
     "output_type": "stream",
     "text": [
      " 86%|███████████████████████████████████████████████████████████████████████████████████████████████████████████████████████▌                   | 461/536 [33:52<05:16,  4.22s/it]"
     ]
    },
    {
     "name": "stdout",
     "output_type": "stream",
     "text": [
      "[676]\n",
      "col_id that is passed COPERNICUS/S1_GRD\n",
      "After s1 and s2 :\n",
      "After overlap:\n",
      "After num_per_month:\n",
      "collection done\n",
      "in try block\n",
      "Info on temporal\n"
     ]
    },
    {
     "name": "stderr",
     "output_type": "stream",
     "text": [
      " 86%|███████████████████████████████████████████████████████████████████████████████████████████████████████████████████████▊                   | 462/536 [33:56<05:18,  4.30s/it]"
     ]
    },
    {
     "name": "stdout",
     "output_type": "stream",
     "text": [
      "[399]\n",
      "col_id that is passed COPERNICUS/S1_GRD\n",
      "After s1 and s2 :\n",
      "After overlap:\n",
      "After num_per_month:\n",
      "collection done\n",
      "in try block\n",
      "Info on temporal\n"
     ]
    },
    {
     "name": "stderr",
     "output_type": "stream",
     "text": [
      " 86%|████████████████████████████████████████████████████████████████████████████████████████████████████████████████████████                   | 463/536 [34:02<05:38,  4.63s/it]"
     ]
    },
    {
     "name": "stdout",
     "output_type": "stream",
     "text": [
      "[346]\n",
      "col_id that is passed COPERNICUS/S1_GRD\n",
      "After s1 and s2 :\n",
      "After overlap:\n",
      "After num_per_month:\n",
      "collection done\n",
      "in try block\n",
      "Info on temporal\n"
     ]
    },
    {
     "name": "stderr",
     "output_type": "stream",
     "text": [
      " 87%|████████████████████████████████████████████████████████████████████████████████████████████████████████████████████████▎                  | 464/536 [34:06<05:21,  4.46s/it]"
     ]
    },
    {
     "name": "stdout",
     "output_type": "stream",
     "text": [
      "[434]\n",
      "col_id that is passed COPERNICUS/S1_GRD\n",
      "After s1 and s2 :\n",
      "After overlap:\n",
      "After num_per_month:\n",
      "collection done\n",
      "in try block\n",
      "Info on temporal\n"
     ]
    },
    {
     "name": "stderr",
     "output_type": "stream",
     "text": [
      " 87%|████████████████████████████████████████████████████████████████████████████████████████████████████████████████████████▌                  | 465/536 [34:11<05:25,  4.58s/it]"
     ]
    },
    {
     "name": "stdout",
     "output_type": "stream",
     "text": [
      "[317]\n",
      "col_id that is passed COPERNICUS/S1_GRD\n",
      "After s1 and s2 :\n",
      "After overlap:\n",
      "After num_per_month:\n",
      "collection done\n",
      "in try block\n",
      "Info on temporal\n"
     ]
    },
    {
     "name": "stderr",
     "output_type": "stream",
     "text": [
      " 87%|████████████████████████████████████████████████████████████████████████████████████████████████████████████████████████▊                  | 466/536 [34:14<04:59,  4.28s/it]"
     ]
    },
    {
     "name": "stdout",
     "output_type": "stream",
     "text": [
      "[257]\n",
      "col_id that is passed COPERNICUS/S1_GRD\n",
      "After s1 and s2 :\n",
      "After overlap:\n",
      "After num_per_month:\n",
      "collection done\n",
      "in try block\n",
      "Info on temporal\n"
     ]
    },
    {
     "name": "stderr",
     "output_type": "stream",
     "text": [
      " 87%|█████████████████████████████████████████████████████████████████████████████████████████████████████████████████████████                  | 467/536 [34:18<04:48,  4.19s/it]"
     ]
    },
    {
     "name": "stdout",
     "output_type": "stream",
     "text": [
      "[242]\n",
      "col_id that is passed COPERNICUS/S1_GRD\n",
      "After s1 and s2 :\n",
      "After overlap:\n",
      "After num_per_month:\n",
      "collection done\n",
      "in try block\n",
      "Info on temporal\n"
     ]
    },
    {
     "name": "stderr",
     "output_type": "stream",
     "text": [
      " 87%|█████████████████████████████████████████████████████████████████████████████████████████████████████████████████████████▎                 | 468/536 [34:22<04:33,  4.03s/it]"
     ]
    },
    {
     "name": "stdout",
     "output_type": "stream",
     "text": [
      "[387]\n",
      "col_id that is passed COPERNICUS/S1_GRD\n",
      "After s1 and s2 :\n",
      "After overlap:\n",
      "After num_per_month:\n",
      "collection done\n",
      "in try block\n",
      "Info on temporal\n"
     ]
    },
    {
     "name": "stderr",
     "output_type": "stream",
     "text": [
      " 88%|█████████████████████████████████████████████████████████████████████████████████████████████████████████████████████████▋                 | 469/536 [34:26<04:24,  3.95s/it]"
     ]
    },
    {
     "name": "stdout",
     "output_type": "stream",
     "text": [
      "[611]\n",
      "col_id that is passed COPERNICUS/S1_GRD\n",
      "After s1 and s2 :\n",
      "After overlap:\n",
      "After num_per_month:\n",
      "collection done\n",
      "in try block\n",
      "Info on temporal\n"
     ]
    },
    {
     "name": "stderr",
     "output_type": "stream",
     "text": [
      " 88%|█████████████████████████████████████████████████████████████████████████████████████████████████████████████████████████▉                 | 470/536 [34:30<04:23,  3.99s/it]"
     ]
    },
    {
     "name": "stdout",
     "output_type": "stream",
     "text": [
      "[573]\n",
      "col_id that is passed COPERNICUS/S1_GRD\n",
      "After s1 and s2 :\n",
      "After overlap:\n",
      "After num_per_month:\n",
      "collection done\n",
      "in try block\n",
      "Info on temporal\n"
     ]
    },
    {
     "name": "stderr",
     "output_type": "stream",
     "text": [
      " 88%|██████████████████████████████████████████████████████████████████████████████████████████████████████████████████████████▏                | 471/536 [34:34<04:24,  4.07s/it]"
     ]
    },
    {
     "name": "stdout",
     "output_type": "stream",
     "text": [
      "[624]\n",
      "col_id that is passed COPERNICUS/S1_GRD\n",
      "After s1 and s2 :\n",
      "After overlap:\n",
      "After num_per_month:\n",
      "collection done\n",
      "in try block\n",
      "Info on temporal\n"
     ]
    },
    {
     "name": "stderr",
     "output_type": "stream",
     "text": [
      " 88%|██████████████████████████████████████████████████████████████████████████████████████████████████████████████████████████▍                | 472/536 [34:37<04:06,  3.86s/it]"
     ]
    },
    {
     "name": "stdout",
     "output_type": "stream",
     "text": [
      "[412]\n",
      "col_id that is passed COPERNICUS/S1_GRD\n",
      "After s1 and s2 :\n",
      "After overlap:\n",
      "After num_per_month:\n",
      "collection done\n",
      "in try block\n",
      "Info on temporal\n"
     ]
    },
    {
     "name": "stderr",
     "output_type": "stream",
     "text": [
      " 88%|██████████████████████████████████████████████████████████████████████████████████████████████████████████████████████████▋                | 473/536 [34:41<04:01,  3.84s/it]"
     ]
    },
    {
     "name": "stdout",
     "output_type": "stream",
     "text": [
      "[562]\n",
      "col_id that is passed COPERNICUS/S1_GRD\n",
      "After s1 and s2 :\n",
      "After overlap:\n",
      "After num_per_month:\n",
      "collection done\n",
      "in try block\n",
      "Info on temporal\n"
     ]
    },
    {
     "name": "stderr",
     "output_type": "stream",
     "text": [
      " 88%|██████████████████████████████████████████████████████████████████████████████████████████████████████████████████████████▉                | 474/536 [34:47<04:29,  4.35s/it]"
     ]
    },
    {
     "name": "stdout",
     "output_type": "stream",
     "text": [
      "[531]\n",
      "col_id that is passed COPERNICUS/S1_GRD\n",
      "After s1 and s2 :\n",
      "After overlap:\n",
      "After num_per_month:\n",
      "collection done\n",
      "in try block\n",
      "Info on temporal\n"
     ]
    },
    {
     "name": "stderr",
     "output_type": "stream",
     "text": [
      " 89%|███████████████████████████████████████████████████████████████████████████████████████████████████████████████████████████▏               | 475/536 [34:51<04:22,  4.30s/it]"
     ]
    },
    {
     "name": "stdout",
     "output_type": "stream",
     "text": [
      "[559]\n",
      "col_id that is passed COPERNICUS/S1_GRD\n",
      "After s1 and s2 :\n",
      "After overlap:\n",
      "After num_per_month:\n",
      "collection done\n",
      "in try block\n",
      "Info on temporal\n"
     ]
    },
    {
     "name": "stderr",
     "output_type": "stream",
     "text": [
      " 89%|███████████████████████████████████████████████████████████████████████████████████████████████████████████████████████████▍               | 476/536 [34:54<04:01,  4.03s/it]"
     ]
    },
    {
     "name": "stdout",
     "output_type": "stream",
     "text": [
      "[367]\n",
      "col_id that is passed COPERNICUS/S1_GRD\n",
      "After s1 and s2 :\n",
      "After overlap:\n",
      "After num_per_month:\n",
      "collection done\n",
      "in try block\n",
      "Info on temporal\n"
     ]
    },
    {
     "name": "stderr",
     "output_type": "stream",
     "text": [
      " 89%|███████████████████████████████████████████████████████████████████████████████████████████████████████████████████████████▋               | 477/536 [34:59<04:02,  4.10s/it]"
     ]
    },
    {
     "name": "stdout",
     "output_type": "stream",
     "text": [
      "[631]\n",
      "col_id that is passed COPERNICUS/S1_GRD\n",
      "After s1 and s2 :\n",
      "After overlap:\n",
      "After num_per_month:\n",
      "collection done\n",
      "in try block\n",
      "Info on temporal\n"
     ]
    },
    {
     "name": "stderr",
     "output_type": "stream",
     "text": [
      " 89%|███████████████████████████████████████████████████████████████████████████████████████████████████████████████████████████▉               | 478/536 [35:04<04:11,  4.34s/it]"
     ]
    },
    {
     "name": "stdout",
     "output_type": "stream",
     "text": [
      "[212]\n",
      "col_id that is passed COPERNICUS/S1_GRD\n",
      "After s1 and s2 :\n",
      "After overlap:\n",
      "After num_per_month:\n",
      "collection done\n",
      "in try block\n",
      "Info on temporal\n"
     ]
    },
    {
     "name": "stderr",
     "output_type": "stream",
     "text": [
      " 89%|████████████████████████████████████████████████████████████████████████████████████████████████████████████████████████████▏              | 479/536 [35:07<03:59,  4.20s/it]"
     ]
    },
    {
     "name": "stdout",
     "output_type": "stream",
     "text": [
      "[306]\n",
      "col_id that is passed COPERNICUS/S1_GRD\n",
      "After s1 and s2 :\n",
      "After overlap:\n",
      "After num_per_month:\n",
      "collection done\n",
      "in try block\n",
      "Info on temporal\n"
     ]
    },
    {
     "name": "stderr",
     "output_type": "stream",
     "text": [
      " 90%|████████████████████████████████████████████████████████████████████████████████████████████████████████████████████████████▍              | 480/536 [35:11<03:49,  4.11s/it]"
     ]
    },
    {
     "name": "stdout",
     "output_type": "stream",
     "text": [
      "[284]\n",
      "col_id that is passed COPERNICUS/S1_GRD\n",
      "After s1 and s2 :\n",
      "After overlap:\n",
      "After num_per_month:\n",
      "collection done\n",
      "in try block\n",
      "Info on temporal\n"
     ]
    },
    {
     "name": "stderr",
     "output_type": "stream",
     "text": [
      " 90%|████████████████████████████████████████████████████████████████████████████████████████████████████████████████████████████▋              | 481/536 [35:17<04:17,  4.69s/it]"
     ]
    },
    {
     "name": "stdout",
     "output_type": "stream",
     "text": [
      "[308]\n",
      "col_id that is passed COPERNICUS/S1_GRD\n",
      "After s1 and s2 :\n",
      "After overlap:\n",
      "After num_per_month:\n",
      "collection done\n",
      "in try block\n",
      "Info on temporal\n"
     ]
    },
    {
     "name": "stderr",
     "output_type": "stream",
     "text": [
      " 90%|████████████████████████████████████████████████████████████████████████████████████████████████████████████████████████████▉              | 482/536 [35:22<04:11,  4.65s/it]"
     ]
    },
    {
     "name": "stdout",
     "output_type": "stream",
     "text": [
      "[690]\n",
      "col_id that is passed COPERNICUS/S1_GRD\n",
      "After s1 and s2 :\n",
      "After overlap:\n",
      "After num_per_month:\n",
      "collection done\n",
      "in try block\n",
      "Info on temporal\n"
     ]
    },
    {
     "name": "stderr",
     "output_type": "stream",
     "text": [
      " 90%|█████████████████████████████████████████████████████████████████████████████████████████████████████████████████████████████▎             | 483/536 [35:25<03:43,  4.23s/it]"
     ]
    },
    {
     "name": "stdout",
     "output_type": "stream",
     "text": [
      "[224]\n",
      "col_id that is passed COPERNICUS/S1_GRD\n",
      "After s1 and s2 :\n",
      "After overlap:\n",
      "After num_per_month:\n",
      "collection done\n",
      "in try block\n",
      "Info on temporal\n"
     ]
    },
    {
     "name": "stderr",
     "output_type": "stream",
     "text": [
      " 90%|█████████████████████████████████████████████████████████████████████████████████████████████████████████████████████████████▌             | 484/536 [35:29<03:40,  4.24s/it]"
     ]
    },
    {
     "name": "stdout",
     "output_type": "stream",
     "text": [
      "[481]\n",
      "col_id that is passed COPERNICUS/S1_GRD\n",
      "After s1 and s2 :\n",
      "After overlap:\n",
      "After num_per_month:\n",
      "collection done\n",
      "in try block\n",
      "Info on temporal\n"
     ]
    },
    {
     "name": "stderr",
     "output_type": "stream",
     "text": [
      " 90%|█████████████████████████████████████████████████████████████████████████████████████████████████████████████████████████████▊             | 485/536 [35:34<03:41,  4.34s/it]"
     ]
    },
    {
     "name": "stdout",
     "output_type": "stream",
     "text": [
      "[356]\n",
      "col_id that is passed COPERNICUS/S1_GRD\n",
      "After s1 and s2 :\n",
      "After overlap:\n",
      "After num_per_month:\n",
      "collection done\n",
      "in try block\n",
      "Info on temporal\n"
     ]
    },
    {
     "name": "stderr",
     "output_type": "stream",
     "text": [
      " 91%|██████████████████████████████████████████████████████████████████████████████████████████████████████████████████████████████             | 486/536 [35:38<03:34,  4.29s/it]"
     ]
    },
    {
     "name": "stdout",
     "output_type": "stream",
     "text": [
      "[210]\n",
      "col_id that is passed COPERNICUS/S1_GRD\n",
      "After s1 and s2 :\n",
      "After overlap:\n",
      "After num_per_month:\n",
      "collection done\n",
      "in try block\n",
      "Info on temporal\n"
     ]
    },
    {
     "name": "stderr",
     "output_type": "stream",
     "text": [
      " 91%|██████████████████████████████████████████████████████████████████████████████████████████████████████████████████████████████▎            | 487/536 [35:42<03:24,  4.17s/it]"
     ]
    },
    {
     "name": "stdout",
     "output_type": "stream",
     "text": [
      "[236]\n",
      "col_id that is passed COPERNICUS/S1_GRD\n",
      "After s1 and s2 :\n",
      "After overlap:\n",
      "After num_per_month:\n",
      "collection done\n",
      "in try block\n",
      "Info on temporal\n"
     ]
    },
    {
     "name": "stderr",
     "output_type": "stream",
     "text": [
      " 91%|██████████████████████████████████████████████████████████████████████████████████████████████████████████████████████████████▌            | 488/536 [35:47<03:26,  4.31s/it]"
     ]
    },
    {
     "name": "stdout",
     "output_type": "stream",
     "text": [
      "[288]\n",
      "col_id that is passed COPERNICUS/S1_GRD\n",
      "After s1 and s2 :\n",
      "After overlap:\n",
      "After num_per_month:\n",
      "collection done\n",
      "in try block\n",
      "Info on temporal\n"
     ]
    },
    {
     "name": "stderr",
     "output_type": "stream",
     "text": [
      " 91%|██████████████████████████████████████████████████████████████████████████████████████████████████████████████████████████████▊            | 489/536 [35:51<03:19,  4.25s/it]"
     ]
    },
    {
     "name": "stdout",
     "output_type": "stream",
     "text": [
      "[478]\n",
      "col_id that is passed COPERNICUS/S1_GRD\n",
      "After s1 and s2 :\n",
      "After overlap:\n",
      "After num_per_month:\n",
      "collection done\n",
      "in try block\n",
      "Info on temporal\n"
     ]
    },
    {
     "name": "stderr",
     "output_type": "stream",
     "text": [
      " 91%|███████████████████████████████████████████████████████████████████████████████████████████████████████████████████████████████            | 490/536 [35:56<03:22,  4.39s/it]"
     ]
    },
    {
     "name": "stdout",
     "output_type": "stream",
     "text": [
      "[239]\n",
      "col_id that is passed COPERNICUS/S1_GRD\n",
      "After s1 and s2 :\n",
      "After overlap:\n",
      "After num_per_month:\n",
      "collection done\n",
      "in try block\n",
      "Info on temporal\n"
     ]
    },
    {
     "name": "stderr",
     "output_type": "stream",
     "text": [
      " 92%|███████████████████████████████████████████████████████████████████████████████████████████████████████████████████████████████▎           | 491/536 [36:01<03:35,  4.80s/it]"
     ]
    },
    {
     "name": "stdout",
     "output_type": "stream",
     "text": [
      "[288]\n",
      "col_id that is passed COPERNICUS/S1_GRD\n",
      "After s1 and s2 :\n",
      "After overlap:\n",
      "After num_per_month:\n",
      "collection done\n",
      "in try block\n",
      "Info on temporal\n"
     ]
    },
    {
     "name": "stderr",
     "output_type": "stream",
     "text": [
      " 92%|███████████████████████████████████████████████████████████████████████████████████████████████████████████████████████████████▌           | 492/536 [36:04<03:08,  4.29s/it]"
     ]
    },
    {
     "name": "stdout",
     "output_type": "stream",
     "text": [
      "[332]\n",
      "col_id that is passed COPERNICUS/S1_GRD\n",
      "After s1 and s2 :\n",
      "After overlap:\n",
      "After num_per_month:\n",
      "collection done\n",
      "in try block\n",
      "Info on temporal\n"
     ]
    },
    {
     "name": "stderr",
     "output_type": "stream",
     "text": [
      " 92%|███████████████████████████████████████████████████████████████████████████████████████████████████████████████████████████████▊           | 493/536 [36:09<03:11,  4.44s/it]"
     ]
    },
    {
     "name": "stdout",
     "output_type": "stream",
     "text": [
      "[273]\n",
      "col_id that is passed COPERNICUS/S1_GRD\n",
      "After s1 and s2 :\n",
      "After overlap:\n",
      "After num_per_month:\n",
      "collection done\n",
      "in try block\n",
      "Info on temporal\n"
     ]
    },
    {
     "name": "stderr",
     "output_type": "stream",
     "text": [
      " 92%|████████████████████████████████████████████████████████████████████████████████████████████████████████████████████████████████           | 494/536 [36:13<02:58,  4.25s/it]"
     ]
    },
    {
     "name": "stdout",
     "output_type": "stream",
     "text": [
      "[370]\n",
      "col_id that is passed COPERNICUS/S1_GRD\n",
      "After s1 and s2 :\n",
      "After overlap:\n",
      "After num_per_month:\n",
      "collection done\n",
      "in try block\n",
      "Info on temporal\n"
     ]
    },
    {
     "name": "stderr",
     "output_type": "stream",
     "text": [
      " 92%|████████████████████████████████████████████████████████████████████████████████████████████████████████████████████████████████▎          | 495/536 [36:17<02:56,  4.31s/it]"
     ]
    },
    {
     "name": "stdout",
     "output_type": "stream",
     "text": [
      "[279]\n",
      "col_id that is passed COPERNICUS/S1_GRD\n",
      "After s1 and s2 :\n",
      "After overlap:\n",
      "After num_per_month:\n",
      "collection done\n",
      "in try block\n",
      "Info on temporal\n"
     ]
    },
    {
     "name": "stderr",
     "output_type": "stream",
     "text": [
      " 93%|████████████████████████████████████████████████████████████████████████████████████████████████████████████████████████████████▋          | 496/536 [36:21<02:43,  4.10s/it]"
     ]
    },
    {
     "name": "stdout",
     "output_type": "stream",
     "text": [
      "[378]\n",
      "col_id that is passed COPERNICUS/S1_GRD\n",
      "After s1 and s2 :\n",
      "After overlap:\n",
      "After num_per_month:\n",
      "collection done\n",
      "in try block\n",
      "Info on temporal\n"
     ]
    },
    {
     "name": "stderr",
     "output_type": "stream",
     "text": [
      " 93%|████████████████████████████████████████████████████████████████████████████████████████████████████████████████████████████████▉          | 497/536 [36:25<02:38,  4.07s/it]"
     ]
    },
    {
     "name": "stdout",
     "output_type": "stream",
     "text": [
      "[275]\n",
      "col_id that is passed COPERNICUS/S1_GRD\n",
      "After s1 and s2 :\n",
      "After overlap:\n",
      "After num_per_month:\n",
      "collection done\n",
      "in try block\n",
      "Info on temporal\n"
     ]
    },
    {
     "name": "stderr",
     "output_type": "stream",
     "text": [
      " 93%|█████████████████████████████████████████████████████████████████████████████████████████████████████████████████████████████████▏         | 498/536 [36:29<02:37,  4.15s/it]"
     ]
    },
    {
     "name": "stdout",
     "output_type": "stream",
     "text": [
      "[193]\n",
      "col_id that is passed COPERNICUS/S1_GRD\n",
      "After s1 and s2 :\n",
      "After overlap:\n",
      "After num_per_month:\n",
      "collection done\n",
      "in try block\n",
      "Info on temporal\n"
     ]
    },
    {
     "name": "stderr",
     "output_type": "stream",
     "text": [
      " 93%|█████████████████████████████████████████████████████████████████████████████████████████████████████████████████████████████████▍         | 499/536 [36:34<02:34,  4.19s/it]"
     ]
    },
    {
     "name": "stdout",
     "output_type": "stream",
     "text": [
      "[247]\n",
      "col_id that is passed COPERNICUS/S1_GRD\n",
      "After s1 and s2 :\n",
      "After overlap:\n",
      "After num_per_month:\n",
      "collection done\n",
      "in try block\n",
      "Info on temporal\n"
     ]
    },
    {
     "name": "stderr",
     "output_type": "stream",
     "text": [
      " 93%|█████████████████████████████████████████████████████████████████████████████████████████████████████████████████████████████████▋         | 500/536 [36:39<02:41,  4.48s/it]"
     ]
    },
    {
     "name": "stdout",
     "output_type": "stream",
     "text": [
      "[291]\n",
      "col_id that is passed COPERNICUS/S1_GRD\n",
      "After s1 and s2 :\n",
      "After overlap:\n",
      "After num_per_month:\n",
      "collection done\n",
      "in try block\n",
      "Info on temporal\n"
     ]
    },
    {
     "name": "stderr",
     "output_type": "stream",
     "text": [
      " 93%|█████████████████████████████████████████████████████████████████████████████████████████████████████████████████████████████████▉         | 501/536 [36:43<02:32,  4.36s/it]"
     ]
    },
    {
     "name": "stdout",
     "output_type": "stream",
     "text": [
      "[326]\n",
      "col_id that is passed COPERNICUS/S1_GRD\n",
      "After s1 and s2 :\n",
      "After overlap:\n",
      "After num_per_month:\n",
      "collection done\n",
      "in try block\n",
      "Info on temporal\n"
     ]
    },
    {
     "name": "stderr",
     "output_type": "stream",
     "text": [
      " 94%|██████████████████████████████████████████████████████████████████████████████████████████████████████████████████████████████████▏        | 502/536 [36:50<02:59,  5.29s/it]"
     ]
    },
    {
     "name": "stdout",
     "output_type": "stream",
     "text": [
      "[213]\n",
      "col_id that is passed COPERNICUS/S1_GRD\n",
      "After s1 and s2 :\n",
      "After overlap:\n",
      "After num_per_month:\n",
      "collection done\n",
      "in try block\n",
      "Info on temporal\n"
     ]
    },
    {
     "name": "stderr",
     "output_type": "stream",
     "text": [
      " 94%|██████████████████████████████████████████████████████████████████████████████████████████████████████████████████████████████████▍        | 503/536 [36:54<02:39,  4.83s/it]"
     ]
    },
    {
     "name": "stdout",
     "output_type": "stream",
     "text": [
      "[289]\n",
      "col_id that is passed COPERNICUS/S1_GRD\n",
      "After s1 and s2 :\n",
      "After overlap:\n",
      "After num_per_month:\n",
      "collection done\n",
      "in try block\n",
      "Info on temporal\n"
     ]
    },
    {
     "name": "stderr",
     "output_type": "stream",
     "text": [
      " 94%|██████████████████████████████████████████████████████████████████████████████████████████████████████████████████████████████████▋        | 504/536 [36:58<02:25,  4.53s/it]"
     ]
    },
    {
     "name": "stdout",
     "output_type": "stream",
     "text": [
      "[348]\n",
      "col_id that is passed COPERNICUS/S1_GRD\n",
      "After s1 and s2 :\n",
      "After overlap:\n",
      "After num_per_month:\n",
      "collection done\n",
      "in try block\n",
      "Info on temporal\n"
     ]
    },
    {
     "name": "stderr",
     "output_type": "stream",
     "text": [
      " 94%|██████████████████████████████████████████████████████████████████████████████████████████████████████████████████████████████████▉        | 505/536 [37:01<02:09,  4.17s/it]"
     ]
    },
    {
     "name": "stdout",
     "output_type": "stream",
     "text": [
      "[345]\n",
      "col_id that is passed COPERNICUS/S1_GRD\n",
      "After s1 and s2 :\n",
      "After overlap:\n",
      "After num_per_month:\n",
      "collection done\n",
      "in try block\n",
      "Info on temporal\n"
     ]
    },
    {
     "name": "stderr",
     "output_type": "stream",
     "text": [
      " 94%|███████████████████████████████████████████████████████████████████████████████████████████████████████████████████████████████████▏       | 506/536 [37:05<02:02,  4.07s/it]"
     ]
    },
    {
     "name": "stdout",
     "output_type": "stream",
     "text": [
      "[383]\n",
      "col_id that is passed COPERNICUS/S1_GRD\n",
      "After s1 and s2 :\n",
      "After overlap:\n",
      "After num_per_month:\n",
      "collection done\n",
      "in try block\n",
      "Info on temporal\n"
     ]
    },
    {
     "name": "stderr",
     "output_type": "stream",
     "text": [
      " 95%|███████████████████████████████████████████████████████████████████████████████████████████████████████████████████████████████████▍       | 507/536 [37:09<01:59,  4.12s/it]"
     ]
    },
    {
     "name": "stdout",
     "output_type": "stream",
     "text": [
      "[193]\n",
      "col_id that is passed COPERNICUS/S1_GRD\n",
      "After s1 and s2 :\n",
      "After overlap:\n",
      "After num_per_month:\n",
      "collection done\n",
      "in try block\n",
      "Info on temporal\n"
     ]
    },
    {
     "name": "stderr",
     "output_type": "stream",
     "text": [
      " 95%|███████████████████████████████████████████████████████████████████████████████████████████████████████████████████████████████████▋       | 508/536 [37:13<01:49,  3.92s/it]"
     ]
    },
    {
     "name": "stdout",
     "output_type": "stream",
     "text": [
      "[235]\n",
      "col_id that is passed COPERNICUS/S1_GRD\n",
      "After s1 and s2 :\n",
      "After overlap:\n",
      "After num_per_month:\n",
      "collection done\n",
      "in try block\n",
      "Info on temporal\n"
     ]
    },
    {
     "name": "stderr",
     "output_type": "stream",
     "text": [
      " 95%|███████████████████████████████████████████████████████████████████████████████████████████████████████████████████████████████████▉       | 509/536 [37:17<01:46,  3.95s/it]"
     ]
    },
    {
     "name": "stdout",
     "output_type": "stream",
     "text": [
      "[261]\n",
      "col_id that is passed COPERNICUS/S1_GRD\n",
      "After s1 and s2 :\n",
      "After overlap:\n",
      "After num_per_month:\n",
      "collection done\n",
      "in try block\n",
      "Info on temporal\n"
     ]
    },
    {
     "name": "stderr",
     "output_type": "stream",
     "text": [
      " 95%|████████████████████████████████████████████████████████████████████████████████████████████████████████████████████████████████████▎      | 510/536 [37:21<01:47,  4.13s/it]"
     ]
    },
    {
     "name": "stdout",
     "output_type": "stream",
     "text": [
      "[224]\n",
      "col_id that is passed COPERNICUS/S1_GRD\n",
      "After s1 and s2 :\n",
      "After overlap:\n",
      "After num_per_month:\n",
      "collection done\n",
      "in try block\n",
      "Info on temporal\n"
     ]
    },
    {
     "name": "stderr",
     "output_type": "stream",
     "text": [
      " 95%|████████████████████████████████████████████████████████████████████████████████████████████████████████████████████████████████████▌      | 511/536 [37:26<01:47,  4.31s/it]"
     ]
    },
    {
     "name": "stdout",
     "output_type": "stream",
     "text": [
      "[486]\n",
      "col_id that is passed COPERNICUS/S1_GRD\n",
      "After s1 and s2 :\n",
      "After overlap:\n",
      "After num_per_month:\n",
      "collection done\n",
      "in try block\n",
      "Info on temporal\n"
     ]
    },
    {
     "name": "stderr",
     "output_type": "stream",
     "text": [
      " 96%|████████████████████████████████████████████████████████████████████████████████████████████████████████████████████████████████████▊      | 512/536 [37:30<01:42,  4.27s/it]"
     ]
    },
    {
     "name": "stdout",
     "output_type": "stream",
     "text": [
      "[238]\n",
      "col_id that is passed COPERNICUS/S1_GRD\n",
      "After s1 and s2 :\n",
      "After overlap:\n",
      "After num_per_month:\n",
      "collection done\n",
      "in try block\n",
      "Info on temporal\n"
     ]
    },
    {
     "name": "stderr",
     "output_type": "stream",
     "text": [
      " 96%|█████████████████████████████████████████████████████████████████████████████████████████████████████████████████████████████████████      | 513/536 [37:34<01:37,  4.23s/it]"
     ]
    },
    {
     "name": "stdout",
     "output_type": "stream",
     "text": [
      "[322]\n",
      "col_id that is passed COPERNICUS/S1_GRD\n",
      "After s1 and s2 :\n",
      "After overlap:\n",
      "After num_per_month:\n",
      "collection done\n",
      "in try block\n",
      "Info on temporal\n"
     ]
    },
    {
     "name": "stderr",
     "output_type": "stream",
     "text": [
      " 96%|█████████████████████████████████████████████████████████████████████████████████████████████████████████████████████████████████████▎     | 514/536 [37:40<01:40,  4.58s/it]"
     ]
    },
    {
     "name": "stdout",
     "output_type": "stream",
     "text": [
      "[271]\n",
      "col_id that is passed COPERNICUS/S1_GRD\n",
      "After s1 and s2 :\n",
      "After overlap:\n",
      "After num_per_month:\n",
      "collection done\n",
      "in try block\n",
      "Info on temporal\n"
     ]
    },
    {
     "name": "stderr",
     "output_type": "stream",
     "text": [
      " 96%|█████████████████████████████████████████████████████████████████████████████████████████████████████████████████████████████████████▌     | 515/536 [37:43<01:27,  4.17s/it]"
     ]
    },
    {
     "name": "stdout",
     "output_type": "stream",
     "text": [
      "[381]\n",
      "col_id that is passed COPERNICUS/S1_GRD\n",
      "After s1 and s2 :\n",
      "After overlap:\n",
      "After num_per_month:\n",
      "collection done\n",
      "in try block\n",
      "Info on temporal\n"
     ]
    },
    {
     "name": "stderr",
     "output_type": "stream",
     "text": [
      " 96%|█████████████████████████████████████████████████████████████████████████████████████████████████████████████████████████████████████▊     | 516/536 [37:49<01:36,  4.83s/it]"
     ]
    },
    {
     "name": "stdout",
     "output_type": "stream",
     "text": [
      "[305]\n",
      "col_id that is passed COPERNICUS/S1_GRD\n",
      "After s1 and s2 :\n",
      "After overlap:\n",
      "After num_per_month:\n",
      "collection done\n",
      "in try block\n",
      "Info on temporal\n"
     ]
    },
    {
     "name": "stderr",
     "output_type": "stream",
     "text": [
      " 96%|██████████████████████████████████████████████████████████████████████████████████████████████████████████████████████████████████████     | 517/536 [37:53<01:26,  4.53s/it]"
     ]
    },
    {
     "name": "stdout",
     "output_type": "stream",
     "text": [
      "[279]\n",
      "col_id that is passed COPERNICUS/S1_GRD\n",
      "After s1 and s2 :\n",
      "After overlap:\n",
      "After num_per_month:\n",
      "collection done\n",
      "in try block\n",
      "Info on temporal\n"
     ]
    },
    {
     "name": "stderr",
     "output_type": "stream",
     "text": [
      " 97%|██████████████████████████████████████████████████████████████████████████████████████████████████████████████████████████████████████▎    | 518/536 [37:57<01:15,  4.18s/it]"
     ]
    },
    {
     "name": "stdout",
     "output_type": "stream",
     "text": [
      "[271]\n",
      "col_id that is passed COPERNICUS/S1_GRD\n",
      "After s1 and s2 :\n",
      "After overlap:\n",
      "After num_per_month:\n",
      "collection done\n",
      "in try block\n",
      "Info on temporal\n"
     ]
    },
    {
     "name": "stderr",
     "output_type": "stream",
     "text": [
      " 97%|██████████████████████████████████████████████████████████████████████████████████████████████████████████████████████████████████████▌    | 519/536 [38:02<01:16,  4.48s/it]"
     ]
    },
    {
     "name": "stdout",
     "output_type": "stream",
     "text": [
      "[275]\n",
      "col_id that is passed COPERNICUS/S1_GRD\n",
      "After s1 and s2 :\n",
      "After overlap:\n",
      "After num_per_month:\n",
      "collection done\n",
      "in try block\n",
      "Info on temporal\n"
     ]
    },
    {
     "name": "stderr",
     "output_type": "stream",
     "text": [
      " 97%|██████████████████████████████████████████████████████████████████████████████████████████████████████████████████████████████████████▊    | 520/536 [38:05<01:05,  4.07s/it]"
     ]
    },
    {
     "name": "stdout",
     "output_type": "stream",
     "text": [
      "[405]\n",
      "col_id that is passed COPERNICUS/S1_GRD\n",
      "After s1 and s2 :\n",
      "After overlap:\n",
      "After num_per_month:\n",
      "collection done\n",
      "in try block\n",
      "Info on temporal\n"
     ]
    },
    {
     "name": "stderr",
     "output_type": "stream",
     "text": [
      " 97%|███████████████████████████████████████████████████████████████████████████████████████████████████████████████████████████████████████    | 521/536 [38:09<01:00,  4.01s/it]"
     ]
    },
    {
     "name": "stdout",
     "output_type": "stream",
     "text": [
      "[290]\n",
      "col_id that is passed COPERNICUS/S1_GRD\n",
      "After s1 and s2 :\n",
      "After overlap:\n",
      "After num_per_month:\n",
      "collection done\n",
      "in try block\n",
      "Info on temporal\n"
     ]
    },
    {
     "name": "stderr",
     "output_type": "stream",
     "text": [
      " 97%|███████████████████████████████████████████████████████████████████████████████████████████████████████████████████████████████████████▎   | 522/536 [38:13<00:56,  4.07s/it]"
     ]
    },
    {
     "name": "stdout",
     "output_type": "stream",
     "text": [
      "[300]\n",
      "col_id that is passed COPERNICUS/S1_GRD\n",
      "After s1 and s2 :\n",
      "After overlap:\n",
      "After num_per_month:\n",
      "collection done\n",
      "in try block\n",
      "Info on temporal\n"
     ]
    },
    {
     "name": "stderr",
     "output_type": "stream",
     "text": [
      " 98%|███████████████████████████████████████████████████████████████████████████████████████████████████████████████████████████████████████▋   | 523/536 [38:18<00:56,  4.32s/it]"
     ]
    },
    {
     "name": "stdout",
     "output_type": "stream",
     "text": [
      "[237]\n",
      "col_id that is passed COPERNICUS/S1_GRD\n",
      "After s1 and s2 :\n",
      "After overlap:\n",
      "After num_per_month:\n",
      "collection done\n",
      "in try block\n",
      "Info on temporal\n"
     ]
    },
    {
     "name": "stderr",
     "output_type": "stream",
     "text": [
      " 98%|███████████████████████████████████████████████████████████████████████████████████████████████████████████████████████████████████████▉   | 524/536 [38:22<00:49,  4.13s/it]"
     ]
    },
    {
     "name": "stdout",
     "output_type": "stream",
     "text": [
      "[336]\n",
      "col_id that is passed COPERNICUS/S1_GRD\n",
      "After s1 and s2 :\n",
      "After overlap:\n",
      "After num_per_month:\n",
      "collection done\n",
      "in try block\n",
      "Info on temporal\n"
     ]
    },
    {
     "name": "stderr",
     "output_type": "stream",
     "text": [
      " 98%|████████████████████████████████████████████████████████████████████████████████████████████████████████████████████████████████████████▏  | 525/536 [38:25<00:43,  3.94s/it]"
     ]
    },
    {
     "name": "stdout",
     "output_type": "stream",
     "text": [
      "[449]\n",
      "col_id that is passed COPERNICUS/S1_GRD\n",
      "After s1 and s2 :\n",
      "After overlap:\n",
      "After num_per_month:\n",
      "collection done\n",
      "in try block\n",
      "Info on temporal\n"
     ]
    },
    {
     "name": "stderr",
     "output_type": "stream",
     "text": [
      " 98%|████████████████████████████████████████████████████████████████████████████████████████████████████████████████████████████████████████▍  | 526/536 [38:30<00:40,  4.09s/it]"
     ]
    },
    {
     "name": "stdout",
     "output_type": "stream",
     "text": [
      "[332]\n",
      "col_id that is passed COPERNICUS/S1_GRD\n",
      "After s1 and s2 :\n",
      "After overlap:\n",
      "After num_per_month:\n",
      "collection done\n",
      "in try block\n",
      "Info on temporal\n"
     ]
    },
    {
     "name": "stderr",
     "output_type": "stream",
     "text": [
      " 98%|████████████████████████████████████████████████████████████████████████████████████████████████████████████████████████████████████████▋  | 527/536 [38:35<00:40,  4.53s/it]"
     ]
    },
    {
     "name": "stdout",
     "output_type": "stream",
     "text": [
      "[394]\n",
      "col_id that is passed COPERNICUS/S1_GRD\n",
      "After s1 and s2 :\n",
      "After overlap:\n",
      "After num_per_month:\n",
      "collection done\n",
      "in try block\n",
      "Info on temporal\n"
     ]
    },
    {
     "name": "stderr",
     "output_type": "stream",
     "text": [
      " 99%|████████████████████████████████████████████████████████████████████████████████████████████████████████████████████████████████████████▉  | 528/536 [38:41<00:38,  4.83s/it]"
     ]
    },
    {
     "name": "stdout",
     "output_type": "stream",
     "text": [
      "[321]\n",
      "col_id that is passed COPERNICUS/S1_GRD\n",
      "After s1 and s2 :\n",
      "After overlap:\n",
      "After num_per_month:\n",
      "collection done\n",
      "in try block\n",
      "Info on temporal\n"
     ]
    },
    {
     "name": "stderr",
     "output_type": "stream",
     "text": [
      " 99%|█████████████████████████████████████████████████████████████████████████████████████████████████████████████████████████████████████████▏ | 529/536 [38:45<00:33,  4.76s/it]"
     ]
    },
    {
     "name": "stdout",
     "output_type": "stream",
     "text": [
      "[206]\n",
      "col_id that is passed COPERNICUS/S1_GRD\n",
      "After s1 and s2 :\n",
      "After overlap:\n",
      "After num_per_month:\n",
      "collection done\n",
      "in try block\n",
      "Info on temporal\n"
     ]
    },
    {
     "name": "stderr",
     "output_type": "stream",
     "text": [
      " 99%|█████████████████████████████████████████████████████████████████████████████████████████████████████████████████████████████████████████▍ | 530/536 [38:50<00:28,  4.68s/it]"
     ]
    },
    {
     "name": "stdout",
     "output_type": "stream",
     "text": [
      "[244]\n",
      "col_id that is passed COPERNICUS/S1_GRD\n",
      "After s1 and s2 :\n",
      "After overlap:\n",
      "After num_per_month:\n",
      "collection done\n",
      "in try block\n",
      "Info on temporal\n"
     ]
    },
    {
     "name": "stderr",
     "output_type": "stream",
     "text": [
      " 99%|█████████████████████████████████████████████████████████████████████████████████████████████████████████████████████████████████████████▋ | 531/536 [38:54<00:22,  4.47s/it]"
     ]
    },
    {
     "name": "stdout",
     "output_type": "stream",
     "text": [
      "[288]\n",
      "col_id that is passed COPERNICUS/S1_GRD\n",
      "After s1 and s2 :\n",
      "After overlap:\n",
      "After num_per_month:\n",
      "collection done\n",
      "in try block\n",
      "Info on temporal\n"
     ]
    },
    {
     "name": "stderr",
     "output_type": "stream",
     "text": [
      " 99%|█████████████████████████████████████████████████████████████████████████████████████████████████████████████████████████████████████████▉ | 532/536 [38:57<00:16,  4.23s/it]"
     ]
    },
    {
     "name": "stdout",
     "output_type": "stream",
     "text": [
      "[358]\n",
      "col_id that is passed COPERNICUS/S1_GRD\n",
      "After s1 and s2 :\n",
      "After overlap:\n",
      "After num_per_month:\n",
      "collection done\n",
      "in try block\n",
      "Info on temporal\n"
     ]
    },
    {
     "name": "stderr",
     "output_type": "stream",
     "text": [
      " 99%|██████████████████████████████████████████████████████████████████████████████████████████████████████████████████████████████████████████▏| 533/536 [39:01<00:12,  4.06s/it]"
     ]
    },
    {
     "name": "stdout",
     "output_type": "stream",
     "text": [
      "[330]\n",
      "col_id that is passed COPERNICUS/S1_GRD\n",
      "After s1 and s2 :\n",
      "After overlap:\n",
      "After num_per_month:\n",
      "collection done\n",
      "in try block\n",
      "Info on temporal\n"
     ]
    },
    {
     "name": "stderr",
     "output_type": "stream",
     "text": [
      "100%|██████████████████████████████████████████████████████████████████████████████████████████████████████████████████████████████████████████▍| 534/536 [39:05<00:07,  3.96s/it]"
     ]
    },
    {
     "name": "stdout",
     "output_type": "stream",
     "text": [
      "[308]\n",
      "col_id that is passed COPERNICUS/S1_GRD\n",
      "After s1 and s2 :\n",
      "After overlap:\n",
      "After num_per_month:\n",
      "collection done\n",
      "in try block\n",
      "Info on temporal\n"
     ]
    },
    {
     "name": "stderr",
     "output_type": "stream",
     "text": [
      "100%|██████████████████████████████████████████████████████████████████████████████████████████████████████████████████████████████████████████▋| 535/536 [39:10<00:04,  4.21s/it]"
     ]
    },
    {
     "name": "stdout",
     "output_type": "stream",
     "text": [
      "[341]\n",
      "col_id that is passed COPERNICUS/S1_GRD\n",
      "After s1 and s2 :\n",
      "After overlap:\n",
      "After num_per_month:\n",
      "collection done\n",
      "in try block\n",
      "Info on temporal\n"
     ]
    },
    {
     "name": "stderr",
     "output_type": "stream",
     "text": [
      "100%|███████████████████████████████████████████████████████████████████████████████████████████████████████████████████████████████████████████| 536/536 [39:15<00:00,  4.39s/it]"
     ]
    },
    {
     "name": "stdout",
     "output_type": "stream",
     "text": [
      "[516]\n",
      "total ignored parcels 0\n",
      "\n",
      " processing time -> 0:39:15.712009\n"
     ]
    },
    {
     "name": "stderr",
     "output_type": "stream",
     "text": [
      "\n"
     ]
    }
   ],
   "source": [
    "\n",
    "prepare_dataset(rpg_file, label_names, id_field, output_dir, col_id, start_date, end_date, num_per_month,cloud_cover, addNDVI, footprint_id, speckle_filter, kernel_size)"
   ]
  },
  {
   "cell_type": "code",
   "execution_count": null,
   "metadata": {},
   "outputs": [],
   "source": []
  }
 ],
 "metadata": {
  "kernelspec": {
   "display_name": "Python 3 (ipykernel)",
   "language": "python",
   "name": "python3"
  },
  "language_info": {
   "codemirror_mode": {
    "name": "ipython",
    "version": 3
   },
   "file_extension": ".py",
   "mimetype": "text/x-python",
   "name": "python",
   "nbconvert_exporter": "python",
   "pygments_lexer": "ipython3",
   "version": "3.10.16"
  }
 },
 "nbformat": 4,
 "nbformat_minor": 4
}
