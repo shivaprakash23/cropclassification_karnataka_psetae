{
 "cells": [
  {
   "cell_type": "markdown",
   "metadata": {},
   "source": [
    "This code is for extraction of data from GEE"
   ]
  },
  {
   "cell_type": "code",
   "execution_count": 1,
   "metadata": {},
   "outputs": [],
   "source": [
    "import ee\n",
    "import os\n",
    "import numpy as np\n",
    "import json\n",
    "from tqdm import tqdm\n",
    "from datetime import datetime\n",
    "from utils import *\n",
    "import warnings"
   ]
  },
  {
   "cell_type": "code",
   "execution_count": 2,
   "metadata": {},
   "outputs": [],
   "source": [
    "# Trigger the authentication flow\n",
    "ee.Authenticate()\n",
    "\n",
    "# Initialize library\n",
    "ee.Initialize(project='ee-shivaprakashssy-psetae-ka28')\n"
   ]
  },
  {
   "cell_type": "code",
   "execution_count": 3,
   "metadata": {},
   "outputs": [],
   "source": [
    "def prepare_dataset(rpg_file, label_names, id_field, output_dir, col_id, start_date, end_date, num_per_month,cloud_cover, addNDVI, footprint_id, speckle_filter, kernel_size):\n",
    "    warnings.filterwarnings('error', category=DeprecationWarning)\n",
    "    start = datetime.now()\n",
    "\n",
    "    # prepare output directory\n",
    "    prepare_output(output_dir)\n",
    "\n",
    "    # get parcel geometries & labels\n",
    "    polygons, lab_rpg = parse_rpg(rpg_file, label_names, id_field)\n",
    "\n",
    "    # dict of global metadata to store parcel dates/labels\n",
    "    dates = {k:[] for k in list(polygons.keys())}\n",
    "    labels = dict([(l, {}) for l in lab_rpg.keys()])\n",
    "    #for geometric feature\n",
    "    geom_feats = {k: {} for k in list(polygons.keys())}\n",
    "    print(\"dictionary created\")\n",
    "    # counter for ignored parcels\n",
    "    ignored = 0\n",
    "\n",
    "    # iterate parcels\n",
    "    for parcel_id, geometry in tqdm(polygons.items()):\n",
    "        \n",
    "        # get collection\n",
    "        geometry = ee.Geometry.Polygon(geometry)\n",
    "        #print(geometry)\n",
    "        collection = get_collection(geometry, col_id, start_date, end_date, num_per_month,cloud_cover, addNDVI, footprint_id, speckle_filter, kernel_size)\n",
    "\n",
    "        # global normalize using 2nd & 98th percentile\n",
    "        collection = collection.map(normalize)\n",
    "        #print(collection)\n",
    "        \n",
    "        # get time series array\n",
    "        collection = collection.map(lambda img: img.set('temporal', ee.Image(img).reduceRegion(reducer = ee.Reducer.toList(), geometry= geometry, scale=10).values()))\n",
    "        print(\"collection done\")\n",
    "        # iterate collection and return array of TxCxN. length of time series X number of channels X number of pixels in parcel\n",
    "        try:\n",
    "            # query pre-selected collection & make numpy array\n",
    "            print(\"in try block\")            \n",
    "            np_all_dates = np.array(collection.aggregate_array('temporal').getInfo())\n",
    "            print(\"Info on temporal\")\n",
    "            #print(collection.aggregate_array('temporal').getInfo())\n",
    "            #print(np_all_dates.shape[-1])\n",
    "            assert np_all_dates.shape[-1] > 0 \n",
    "            \n",
    "\n",
    "            \n",
    "            #perimeter, shape_ratio, bbox = geom_features(geometry)\n",
    "            #geom_feats[str(parcel_id)] = {\n",
    "            #\"perimeter\": perimeter,\n",
    "            #\"shape_ratio\": shape_ratio,\n",
    "            #\"bbox\": bbox\n",
    "            #}\n",
    "\n",
    "            \n",
    "        except:\n",
    "            print('Error in parcel --------------------> {}'.format(parcel_id))\n",
    "            with open(os.path.join(output_dir, 'META', 'ignored_parcels.json'), 'a+') as file:\n",
    "                file.write(json.dumps(int(parcel_id))+'\\n')\n",
    "            ignored += 1\n",
    "            \n",
    "        else:\n",
    "            # create date metadata\n",
    "            date_series = collection.aggregate_array('doa').getInfo()\n",
    "            dates[str(parcel_id)] = date_series\n",
    "\n",
    "            # save lABELS\n",
    "            for l in labels.keys():\n",
    "                labels[l][parcel_id] = int(lab_rpg[l][parcel_id])\n",
    "            \n",
    "            #create geom_features json file. The data has been wrapped in the [] as the code in the dataset.py needs lists not the individual numbers\n",
    "            perimeter, shape_ratio, bbox = geom_features(geometry)\n",
    "            geom_feats[str(parcel_id)] = [int(perimeter)]\n",
    "            print(geom_feats[str(parcel_id)])\n",
    "            \n",
    "            # save .npy \n",
    "            np.save(os.path.join(output_dir, 'DATA', str(parcel_id)), np_all_dates)\n",
    "\n",
    "\n",
    "        # save global metadata (parcel dates and labels)\n",
    "        with open(os.path.join(output_dir, 'META', 'geomfeat.json'), 'w') as file:\n",
    "            file.write(json.dumps(geom_feats, indent=4))\n",
    "\n",
    "        with open(os.path.join(output_dir, 'META', 'labels.json'), 'w') as file:\n",
    "            file.write(json.dumps(labels, indent=4))\n",
    "\n",
    "        with open(os.path.join(output_dir, 'META', 'dates.json'), 'w') as file:\n",
    "            file.write(json.dumps(dates, indent=4))\n",
    "\n",
    "\n",
    "    # get processing time\n",
    "    end = datetime.now()\n",
    "    print('total ignored parcels', ignored)\n",
    "    print(f\"\\n processing time -> {end - start}\")"
   ]
  },
  {
   "cell_type": "code",
   "execution_count": 4,
   "metadata": {},
   "outputs": [],
   "source": [
    "rpg_file = 'validation_new_wgs84.geojson'\n",
    "label_names = [\"CODE_GROUP\"]\n",
    "id_field = 'ID_PARCEL'\n",
    "output_dir = 'D:\\\\Semester4\\\\ProjectVijayapur\\\\psetae\\\\GEE-to-NPY-master\\\\data_extraction\\\\sentinel\\\\S2\\\\s2_cloud100\\\\validationdirectory'\n",
    "#col_id = 'COPERNICUS/S1_GRD'\n",
    "col_id = 'COPERNICUS/S2_SR_HARMONIZED'\n",
    "#footprint_id = [63]\n",
    "footprint_id =['43QEU','43QFU']\n",
    "start_date = '2024-09-01'\n",
    "end_date = '2025-03-31'\n",
    "num_per_month = 100 # You can set this to whatever value you want\n",
    "cloud_cover = 100  # You can set this to whatever value you want\n",
    "addNDVI = False  # Set to True or False\n",
    "speckle_filter = True  # Set to True or False\n",
    "kernel_size = 3"
   ]
  },
  {
   "cell_type": "code",
   "execution_count": null,
   "metadata": {},
   "outputs": [
    {
     "name": "stdout",
     "output_type": "stream",
     "text": [
      "Reading RPG . . .\n",
      "reading polygons\n"
     ]
    },
    {
     "name": "stderr",
     "output_type": "stream",
     "text": [
      "100%|████████████████████████████████████████████████████████████████████████████████████████| 536/536 [00:00<?, ?it/s]\n"
     ]
    },
    {
     "name": "stdout",
     "output_type": "stream",
     "text": [
      "dictionary created\n"
     ]
    },
    {
     "name": "stderr",
     "output_type": "stream",
     "text": [
      "  0%|                                                                                          | 0/536 [00:00<?, ?it/s]"
     ]
    },
    {
     "name": "stdout",
     "output_type": "stream",
     "text": [
      "col_id that is passed COPERNICUS/S2_SR_HARMONIZED\n",
      "After s1 and s2 :\n",
      "After overlap:\n",
      "After num_per_month:\n",
      "collection done\n",
      "in try block\n",
      "Info on temporal\n"
     ]
    },
    {
     "name": "stderr",
     "output_type": "stream",
     "text": [
      "  0%|▏                                                                               | 1/536 [00:14<2:09:38, 14.54s/it]"
     ]
    },
    {
     "name": "stdout",
     "output_type": "stream",
     "text": [
      "[358]\n",
      "col_id that is passed COPERNICUS/S2_SR_HARMONIZED\n",
      "After s1 and s2 :\n",
      "After overlap:\n",
      "After num_per_month:\n",
      "collection done\n",
      "in try block\n",
      "Info on temporal\n"
     ]
    },
    {
     "name": "stderr",
     "output_type": "stream",
     "text": [
      "  0%|▎                                                                               | 2/536 [00:29<2:10:37, 14.68s/it]"
     ]
    },
    {
     "name": "stdout",
     "output_type": "stream",
     "text": [
      "[536]\n",
      "col_id that is passed COPERNICUS/S2_SR_HARMONIZED\n",
      "After s1 and s2 :\n",
      "After overlap:\n",
      "After num_per_month:\n",
      "collection done\n",
      "in try block\n",
      "Info on temporal\n"
     ]
    },
    {
     "name": "stderr",
     "output_type": "stream",
     "text": [
      "  1%|▍                                                                               | 3/536 [00:40<1:55:45, 13.03s/it]"
     ]
    },
    {
     "name": "stdout",
     "output_type": "stream",
     "text": [
      "[433]\n",
      "col_id that is passed COPERNICUS/S2_SR_HARMONIZED\n",
      "After s1 and s2 :\n",
      "After overlap:\n",
      "After num_per_month:\n",
      "collection done\n",
      "in try block\n",
      "Info on temporal\n"
     ]
    },
    {
     "name": "stderr",
     "output_type": "stream",
     "text": [
      "  1%|▌                                                                               | 4/536 [00:56<2:06:49, 14.30s/it]"
     ]
    },
    {
     "name": "stdout",
     "output_type": "stream",
     "text": [
      "[692]\n",
      "col_id that is passed COPERNICUS/S2_SR_HARMONIZED\n",
      "After s1 and s2 :\n",
      "After overlap:\n",
      "After num_per_month:\n",
      "collection done\n",
      "in try block\n",
      "Info on temporal\n"
     ]
    },
    {
     "name": "stderr",
     "output_type": "stream",
     "text": [
      "  1%|▋                                                                               | 5/536 [01:09<2:02:43, 13.87s/it]"
     ]
    },
    {
     "name": "stdout",
     "output_type": "stream",
     "text": [
      "[434]\n",
      "col_id that is passed COPERNICUS/S2_SR_HARMONIZED\n",
      "After s1 and s2 :\n",
      "After overlap:\n",
      "After num_per_month:\n",
      "collection done\n",
      "in try block\n",
      "Info on temporal\n"
     ]
    },
    {
     "name": "stderr",
     "output_type": "stream",
     "text": [
      "  1%|▉                                                                               | 6/536 [01:25<2:08:38, 14.56s/it]"
     ]
    },
    {
     "name": "stdout",
     "output_type": "stream",
     "text": [
      "[532]\n",
      "col_id that is passed COPERNICUS/S2_SR_HARMONIZED\n",
      "After s1 and s2 :\n",
      "After overlap:\n",
      "After num_per_month:\n",
      "collection done\n",
      "in try block\n",
      "Info on temporal\n"
     ]
    },
    {
     "name": "stderr",
     "output_type": "stream",
     "text": [
      "  1%|█                                                                               | 7/536 [01:39<2:06:06, 14.30s/it]"
     ]
    },
    {
     "name": "stdout",
     "output_type": "stream",
     "text": [
      "[412]\n",
      "col_id that is passed COPERNICUS/S2_SR_HARMONIZED\n",
      "After s1 and s2 :\n",
      "After overlap:\n",
      "After num_per_month:\n",
      "collection done\n",
      "in try block\n",
      "Info on temporal\n"
     ]
    },
    {
     "name": "stderr",
     "output_type": "stream",
     "text": [
      "  1%|█▏                                                                              | 8/536 [01:52<2:03:22, 14.02s/it]"
     ]
    },
    {
     "name": "stdout",
     "output_type": "stream",
     "text": [
      "[634]\n",
      "col_id that is passed COPERNICUS/S2_SR_HARMONIZED\n",
      "After s1 and s2 :\n",
      "After overlap:\n",
      "After num_per_month:\n",
      "collection done\n",
      "in try block\n",
      "Info on temporal\n"
     ]
    },
    {
     "name": "stderr",
     "output_type": "stream",
     "text": [
      "  2%|█▎                                                                              | 9/536 [02:06<2:03:31, 14.06s/it]"
     ]
    },
    {
     "name": "stdout",
     "output_type": "stream",
     "text": [
      "[500]\n",
      "col_id that is passed COPERNICUS/S2_SR_HARMONIZED\n",
      "After s1 and s2 :\n",
      "After overlap:\n",
      "After num_per_month:\n",
      "collection done\n",
      "in try block\n",
      "Info on temporal\n"
     ]
    },
    {
     "name": "stderr",
     "output_type": "stream",
     "text": [
      "  2%|█▍                                                                             | 10/536 [02:23<2:09:20, 14.75s/it]"
     ]
    },
    {
     "name": "stdout",
     "output_type": "stream",
     "text": [
      "[429]\n",
      "col_id that is passed COPERNICUS/S2_SR_HARMONIZED\n",
      "After s1 and s2 :\n",
      "After overlap:\n",
      "After num_per_month:\n",
      "collection done\n",
      "in try block\n",
      "Info on temporal\n"
     ]
    },
    {
     "name": "stderr",
     "output_type": "stream",
     "text": [
      "  2%|█▌                                                                             | 11/536 [02:39<2:13:54, 15.30s/it]"
     ]
    },
    {
     "name": "stdout",
     "output_type": "stream",
     "text": [
      "[617]\n",
      "col_id that is passed COPERNICUS/S2_SR_HARMONIZED\n",
      "After s1 and s2 :\n",
      "After overlap:\n",
      "After num_per_month:\n",
      "collection done\n",
      "in try block\n",
      "Info on temporal\n"
     ]
    },
    {
     "name": "stderr",
     "output_type": "stream",
     "text": [
      "  2%|█▊                                                                             | 12/536 [02:52<2:05:36, 14.38s/it]"
     ]
    },
    {
     "name": "stdout",
     "output_type": "stream",
     "text": [
      "[627]\n",
      "col_id that is passed COPERNICUS/S2_SR_HARMONIZED\n",
      "After s1 and s2 :\n",
      "After overlap:\n",
      "After num_per_month:\n",
      "collection done\n",
      "in try block\n",
      "Info on temporal\n"
     ]
    },
    {
     "name": "stderr",
     "output_type": "stream",
     "text": [
      "  2%|█▉                                                                             | 13/536 [03:06<2:06:26, 14.51s/it]"
     ]
    },
    {
     "name": "stdout",
     "output_type": "stream",
     "text": [
      "[254]\n",
      "col_id that is passed COPERNICUS/S2_SR_HARMONIZED\n",
      "After s1 and s2 :\n",
      "After overlap:\n",
      "After num_per_month:\n",
      "collection done\n",
      "in try block\n",
      "Info on temporal\n"
     ]
    },
    {
     "name": "stderr",
     "output_type": "stream",
     "text": [
      "  3%|██                                                                             | 14/536 [03:19<2:00:53, 13.90s/it]"
     ]
    },
    {
     "name": "stdout",
     "output_type": "stream",
     "text": [
      "[596]\n",
      "col_id that is passed COPERNICUS/S2_SR_HARMONIZED\n",
      "After s1 and s2 :\n",
      "After overlap:\n",
      "After num_per_month:\n",
      "collection done\n",
      "in try block\n",
      "Info on temporal\n"
     ]
    },
    {
     "name": "stderr",
     "output_type": "stream",
     "text": [
      "  3%|██▏                                                                            | 15/536 [03:32<1:59:39, 13.78s/it]"
     ]
    },
    {
     "name": "stdout",
     "output_type": "stream",
     "text": [
      "[286]\n",
      "col_id that is passed COPERNICUS/S2_SR_HARMONIZED\n",
      "After s1 and s2 :\n",
      "After overlap:\n",
      "After num_per_month:\n",
      "collection done\n",
      "in try block\n",
      "Info on temporal\n"
     ]
    },
    {
     "name": "stderr",
     "output_type": "stream",
     "text": [
      "  3%|██▎                                                                            | 16/536 [03:48<2:04:23, 14.35s/it]"
     ]
    },
    {
     "name": "stdout",
     "output_type": "stream",
     "text": [
      "[752]\n",
      "col_id that is passed COPERNICUS/S2_SR_HARMONIZED\n",
      "After s1 and s2 :\n",
      "After overlap:\n",
      "After num_per_month:\n",
      "collection done\n",
      "in try block\n",
      "Info on temporal\n"
     ]
    },
    {
     "name": "stderr",
     "output_type": "stream",
     "text": [
      "  3%|██▌                                                                            | 17/536 [04:01<2:00:00, 13.87s/it]"
     ]
    },
    {
     "name": "stdout",
     "output_type": "stream",
     "text": [
      "[535]\n",
      "col_id that is passed COPERNICUS/S2_SR_HARMONIZED\n",
      "After s1 and s2 :\n",
      "After overlap:\n",
      "After num_per_month:\n",
      "collection done\n",
      "in try block\n",
      "Info on temporal\n"
     ]
    },
    {
     "name": "stderr",
     "output_type": "stream",
     "text": [
      "  3%|██▋                                                                            | 18/536 [04:14<1:58:03, 13.68s/it]"
     ]
    },
    {
     "name": "stdout",
     "output_type": "stream",
     "text": [
      "[594]\n",
      "col_id that is passed COPERNICUS/S2_SR_HARMONIZED\n",
      "After s1 and s2 :\n",
      "After overlap:\n",
      "After num_per_month:\n",
      "collection done\n",
      "in try block\n",
      "Info on temporal\n"
     ]
    },
    {
     "name": "stderr",
     "output_type": "stream",
     "text": [
      "  4%|██▊                                                                            | 19/536 [04:28<1:58:14, 13.72s/it]"
     ]
    },
    {
     "name": "stdout",
     "output_type": "stream",
     "text": [
      "[362]\n",
      "col_id that is passed COPERNICUS/S2_SR_HARMONIZED\n",
      "After s1 and s2 :\n",
      "After overlap:\n",
      "After num_per_month:\n",
      "collection done\n",
      "in try block\n",
      "Info on temporal\n"
     ]
    },
    {
     "name": "stderr",
     "output_type": "stream",
     "text": [
      "  4%|██▉                                                                            | 20/536 [04:42<1:59:53, 13.94s/it]"
     ]
    },
    {
     "name": "stdout",
     "output_type": "stream",
     "text": [
      "[388]\n",
      "col_id that is passed COPERNICUS/S2_SR_HARMONIZED\n",
      "After s1 and s2 :\n",
      "After overlap:\n",
      "After num_per_month:\n",
      "collection done\n",
      "in try block\n",
      "Info on temporal\n"
     ]
    },
    {
     "name": "stderr",
     "output_type": "stream",
     "text": [
      "  4%|███                                                                            | 21/536 [04:56<1:57:41, 13.71s/it]"
     ]
    },
    {
     "name": "stdout",
     "output_type": "stream",
     "text": [
      "[426]\n",
      "col_id that is passed COPERNICUS/S2_SR_HARMONIZED\n",
      "After s1 and s2 :\n",
      "After overlap:\n",
      "After num_per_month:\n",
      "collection done\n",
      "in try block\n",
      "Info on temporal\n"
     ]
    },
    {
     "name": "stderr",
     "output_type": "stream",
     "text": [
      "  4%|███▏                                                                           | 22/536 [05:09<1:57:32, 13.72s/it]"
     ]
    },
    {
     "name": "stdout",
     "output_type": "stream",
     "text": [
      "[558]\n",
      "col_id that is passed COPERNICUS/S2_SR_HARMONIZED\n",
      "After s1 and s2 :\n",
      "After overlap:\n",
      "After num_per_month:\n",
      "collection done\n",
      "in try block\n",
      "Info on temporal\n"
     ]
    },
    {
     "name": "stderr",
     "output_type": "stream",
     "text": [
      "  4%|███▍                                                                           | 23/536 [05:26<2:04:50, 14.60s/it]"
     ]
    },
    {
     "name": "stdout",
     "output_type": "stream",
     "text": [
      "[925]\n",
      "col_id that is passed COPERNICUS/S2_SR_HARMONIZED\n",
      "After s1 and s2 :\n",
      "After overlap:\n",
      "After num_per_month:\n",
      "collection done\n",
      "in try block\n",
      "Info on temporal\n"
     ]
    },
    {
     "name": "stderr",
     "output_type": "stream",
     "text": [
      "  4%|███▌                                                                           | 24/536 [05:39<2:00:10, 14.08s/it]"
     ]
    },
    {
     "name": "stdout",
     "output_type": "stream",
     "text": [
      "[481]\n",
      "col_id that is passed COPERNICUS/S2_SR_HARMONIZED\n",
      "After s1 and s2 :\n",
      "After overlap:\n",
      "After num_per_month:\n",
      "collection done\n",
      "in try block\n",
      "Info on temporal\n"
     ]
    },
    {
     "name": "stderr",
     "output_type": "stream",
     "text": [
      "  5%|███▋                                                                           | 25/536 [05:55<2:04:47, 14.65s/it]"
     ]
    },
    {
     "name": "stdout",
     "output_type": "stream",
     "text": [
      "[566]\n",
      "col_id that is passed COPERNICUS/S2_SR_HARMONIZED\n",
      "After s1 and s2 :\n",
      "After overlap:\n",
      "After num_per_month:\n",
      "collection done\n",
      "in try block\n",
      "Info on temporal\n"
     ]
    },
    {
     "name": "stderr",
     "output_type": "stream",
     "text": [
      "  5%|███▊                                                                           | 26/536 [06:10<2:05:29, 14.76s/it]"
     ]
    },
    {
     "name": "stdout",
     "output_type": "stream",
     "text": [
      "[696]\n",
      "col_id that is passed COPERNICUS/S2_SR_HARMONIZED\n",
      "After s1 and s2 :\n",
      "After overlap:\n",
      "After num_per_month:\n",
      "collection done\n",
      "in try block\n",
      "Info on temporal\n"
     ]
    },
    {
     "name": "stderr",
     "output_type": "stream",
     "text": [
      "  5%|███▉                                                                           | 27/536 [06:23<2:02:10, 14.40s/it]"
     ]
    },
    {
     "name": "stdout",
     "output_type": "stream",
     "text": [
      "[368]\n",
      "col_id that is passed COPERNICUS/S2_SR_HARMONIZED\n",
      "After s1 and s2 :\n",
      "After overlap:\n",
      "After num_per_month:\n",
      "collection done\n",
      "in try block\n",
      "Info on temporal\n"
     ]
    },
    {
     "name": "stderr",
     "output_type": "stream",
     "text": [
      "  5%|████▏                                                                          | 28/536 [06:38<2:01:44, 14.38s/it]"
     ]
    },
    {
     "name": "stdout",
     "output_type": "stream",
     "text": [
      "[532]\n",
      "col_id that is passed COPERNICUS/S2_SR_HARMONIZED\n",
      "After s1 and s2 :\n",
      "After overlap:\n",
      "After num_per_month:\n",
      "collection done\n",
      "in try block\n",
      "Info on temporal\n"
     ]
    },
    {
     "name": "stderr",
     "output_type": "stream",
     "text": [
      "  5%|████▎                                                                          | 29/536 [06:50<1:56:12, 13.75s/it]"
     ]
    },
    {
     "name": "stdout",
     "output_type": "stream",
     "text": [
      "[555]\n",
      "col_id that is passed COPERNICUS/S2_SR_HARMONIZED\n",
      "After s1 and s2 :\n",
      "After overlap:\n",
      "After num_per_month:\n",
      "collection done\n",
      "in try block\n",
      "Info on temporal\n"
     ]
    },
    {
     "name": "stderr",
     "output_type": "stream",
     "text": [
      "  6%|████▍                                                                          | 30/536 [07:01<1:48:54, 12.91s/it]"
     ]
    },
    {
     "name": "stdout",
     "output_type": "stream",
     "text": [
      "[704]\n",
      "col_id that is passed COPERNICUS/S2_SR_HARMONIZED\n",
      "After s1 and s2 :\n",
      "After overlap:\n",
      "After num_per_month:\n",
      "collection done\n",
      "in try block\n",
      "Info on temporal\n"
     ]
    },
    {
     "name": "stderr",
     "output_type": "stream",
     "text": [
      "  6%|████▌                                                                          | 31/536 [07:15<1:52:24, 13.35s/it]"
     ]
    },
    {
     "name": "stdout",
     "output_type": "stream",
     "text": [
      "[683]\n",
      "col_id that is passed COPERNICUS/S2_SR_HARMONIZED\n",
      "After s1 and s2 :\n",
      "After overlap:\n",
      "After num_per_month:\n",
      "collection done\n",
      "in try block\n",
      "Info on temporal\n"
     ]
    },
    {
     "name": "stderr",
     "output_type": "stream",
     "text": [
      "  6%|████▋                                                                          | 32/536 [07:29<1:53:46, 13.54s/it]"
     ]
    },
    {
     "name": "stdout",
     "output_type": "stream",
     "text": [
      "[490]\n",
      "col_id that is passed COPERNICUS/S2_SR_HARMONIZED\n",
      "After s1 and s2 :\n",
      "After overlap:\n",
      "After num_per_month:\n",
      "collection done\n",
      "in try block\n",
      "Info on temporal\n"
     ]
    },
    {
     "name": "stderr",
     "output_type": "stream",
     "text": [
      "  6%|████▊                                                                          | 33/536 [07:43<1:54:47, 13.69s/it]"
     ]
    },
    {
     "name": "stdout",
     "output_type": "stream",
     "text": [
      "[815]\n",
      "col_id that is passed COPERNICUS/S2_SR_HARMONIZED\n",
      "After s1 and s2 :\n",
      "After overlap:\n",
      "After num_per_month:\n",
      "collection done\n",
      "in try block\n",
      "Info on temporal\n"
     ]
    },
    {
     "name": "stderr",
     "output_type": "stream",
     "text": [
      "  6%|█████                                                                          | 34/536 [07:55<1:50:02, 13.15s/it]"
     ]
    },
    {
     "name": "stdout",
     "output_type": "stream",
     "text": [
      "[717]\n",
      "col_id that is passed COPERNICUS/S2_SR_HARMONIZED\n",
      "After s1 and s2 :\n",
      "After overlap:\n",
      "After num_per_month:\n",
      "collection done\n",
      "in try block\n",
      "Info on temporal\n"
     ]
    },
    {
     "name": "stderr",
     "output_type": "stream",
     "text": [
      "  7%|█████▏                                                                         | 35/536 [08:09<1:51:57, 13.41s/it]"
     ]
    },
    {
     "name": "stdout",
     "output_type": "stream",
     "text": [
      "[582]\n",
      "col_id that is passed COPERNICUS/S2_SR_HARMONIZED\n",
      "After s1 and s2 :\n",
      "After overlap:\n",
      "After num_per_month:\n",
      "collection done\n",
      "in try block\n",
      "Info on temporal\n"
     ]
    },
    {
     "name": "stderr",
     "output_type": "stream",
     "text": [
      "  7%|█████▎                                                                         | 36/536 [08:22<1:49:44, 13.17s/it]"
     ]
    },
    {
     "name": "stdout",
     "output_type": "stream",
     "text": [
      "[390]\n",
      "col_id that is passed COPERNICUS/S2_SR_HARMONIZED\n",
      "After s1 and s2 :\n",
      "After overlap:\n",
      "After num_per_month:\n",
      "collection done\n",
      "in try block\n",
      "Info on temporal\n"
     ]
    },
    {
     "name": "stderr",
     "output_type": "stream",
     "text": [
      "  7%|█████▍                                                                         | 37/536 [08:33<1:45:28, 12.68s/it]"
     ]
    },
    {
     "name": "stdout",
     "output_type": "stream",
     "text": [
      "[463]\n",
      "col_id that is passed COPERNICUS/S2_SR_HARMONIZED\n",
      "After s1 and s2 :\n",
      "After overlap:\n",
      "After num_per_month:\n",
      "collection done\n",
      "in try block\n",
      "Info on temporal\n"
     ]
    },
    {
     "name": "stderr",
     "output_type": "stream",
     "text": [
      "  7%|█████▌                                                                         | 38/536 [08:48<1:50:02, 13.26s/it]"
     ]
    },
    {
     "name": "stdout",
     "output_type": "stream",
     "text": [
      "[625]\n",
      "col_id that is passed COPERNICUS/S2_SR_HARMONIZED\n",
      "After s1 and s2 :\n",
      "After overlap:\n",
      "After num_per_month:\n",
      "collection done\n",
      "in try block\n",
      "Info on temporal\n"
     ]
    },
    {
     "name": "stderr",
     "output_type": "stream",
     "text": [
      "  7%|█████▋                                                                         | 39/536 [09:00<1:45:51, 12.78s/it]"
     ]
    },
    {
     "name": "stdout",
     "output_type": "stream",
     "text": [
      "[736]\n",
      "col_id that is passed COPERNICUS/S2_SR_HARMONIZED\n",
      "After s1 and s2 :\n",
      "After overlap:\n",
      "After num_per_month:\n",
      "collection done\n",
      "in try block\n",
      "Info on temporal\n"
     ]
    },
    {
     "name": "stderr",
     "output_type": "stream",
     "text": [
      "  7%|█████▉                                                                         | 40/536 [09:11<1:42:31, 12.40s/it]"
     ]
    },
    {
     "name": "stdout",
     "output_type": "stream",
     "text": [
      "[399]\n",
      "col_id that is passed COPERNICUS/S2_SR_HARMONIZED\n",
      "After s1 and s2 :\n",
      "After overlap:\n",
      "After num_per_month:\n",
      "collection done\n",
      "in try block\n",
      "Info on temporal\n"
     ]
    },
    {
     "name": "stderr",
     "output_type": "stream",
     "text": [
      "  8%|██████                                                                         | 41/536 [09:22<1:39:16, 12.03s/it]"
     ]
    },
    {
     "name": "stdout",
     "output_type": "stream",
     "text": [
      "[651]\n",
      "col_id that is passed COPERNICUS/S2_SR_HARMONIZED\n",
      "After s1 and s2 :\n",
      "After overlap:\n",
      "After num_per_month:\n",
      "collection done\n",
      "in try block\n",
      "Info on temporal\n"
     ]
    },
    {
     "name": "stderr",
     "output_type": "stream",
     "text": [
      "  8%|██████▏                                                                        | 42/536 [09:35<1:41:33, 12.33s/it]"
     ]
    },
    {
     "name": "stdout",
     "output_type": "stream",
     "text": [
      "[520]\n",
      "col_id that is passed COPERNICUS/S2_SR_HARMONIZED\n",
      "After s1 and s2 :\n",
      "After overlap:\n",
      "After num_per_month:\n",
      "collection done\n",
      "in try block\n",
      "Info on temporal\n"
     ]
    },
    {
     "name": "stderr",
     "output_type": "stream",
     "text": [
      "  8%|██████▎                                                                        | 43/536 [09:47<1:40:46, 12.26s/it]"
     ]
    },
    {
     "name": "stdout",
     "output_type": "stream",
     "text": [
      "[414]\n",
      "col_id that is passed COPERNICUS/S2_SR_HARMONIZED\n",
      "After s1 and s2 :\n",
      "After overlap:\n",
      "After num_per_month:\n",
      "collection done\n",
      "in try block\n",
      "Info on temporal\n"
     ]
    },
    {
     "name": "stderr",
     "output_type": "stream",
     "text": [
      "  8%|██████▍                                                                        | 44/536 [09:58<1:36:00, 11.71s/it]"
     ]
    },
    {
     "name": "stdout",
     "output_type": "stream",
     "text": [
      "[369]\n",
      "col_id that is passed COPERNICUS/S2_SR_HARMONIZED\n",
      "After s1 and s2 :\n",
      "After overlap:\n",
      "After num_per_month:\n",
      "collection done\n",
      "in try block\n",
      "Info on temporal\n"
     ]
    },
    {
     "name": "stderr",
     "output_type": "stream",
     "text": [
      "  8%|██████▋                                                                        | 45/536 [10:09<1:34:38, 11.57s/it]"
     ]
    },
    {
     "name": "stdout",
     "output_type": "stream",
     "text": [
      "[697]\n",
      "col_id that is passed COPERNICUS/S2_SR_HARMONIZED\n",
      "After s1 and s2 :\n",
      "After overlap:\n",
      "After num_per_month:\n",
      "collection done\n",
      "in try block\n",
      "Info on temporal\n"
     ]
    },
    {
     "name": "stderr",
     "output_type": "stream",
     "text": [
      "  9%|██████▊                                                                        | 46/536 [10:21<1:35:10, 11.65s/it]"
     ]
    },
    {
     "name": "stdout",
     "output_type": "stream",
     "text": [
      "[346]\n",
      "col_id that is passed COPERNICUS/S2_SR_HARMONIZED\n",
      "After s1 and s2 :\n",
      "After overlap:\n",
      "After num_per_month:\n",
      "collection done\n",
      "in try block\n",
      "Info on temporal\n"
     ]
    },
    {
     "name": "stderr",
     "output_type": "stream",
     "text": [
      "  9%|██████▉                                                                        | 47/536 [10:34<1:39:19, 12.19s/it]"
     ]
    },
    {
     "name": "stdout",
     "output_type": "stream",
     "text": [
      "[349]\n",
      "col_id that is passed COPERNICUS/S2_SR_HARMONIZED\n",
      "After s1 and s2 :\n",
      "After overlap:\n",
      "After num_per_month:\n",
      "collection done\n",
      "in try block\n",
      "Info on temporal\n"
     ]
    },
    {
     "name": "stderr",
     "output_type": "stream",
     "text": [
      "  9%|███████                                                                        | 48/536 [10:46<1:37:50, 12.03s/it]"
     ]
    },
    {
     "name": "stdout",
     "output_type": "stream",
     "text": [
      "[479]\n",
      "col_id that is passed COPERNICUS/S2_SR_HARMONIZED\n",
      "After s1 and s2 :\n",
      "After overlap:\n",
      "After num_per_month:\n",
      "collection done\n",
      "in try block\n",
      "Info on temporal\n"
     ]
    },
    {
     "name": "stderr",
     "output_type": "stream",
     "text": [
      "  9%|███████▏                                                                       | 49/536 [10:59<1:40:00, 12.32s/it]"
     ]
    },
    {
     "name": "stdout",
     "output_type": "stream",
     "text": [
      "[385]\n",
      "col_id that is passed COPERNICUS/S2_SR_HARMONIZED\n",
      "After s1 and s2 :\n",
      "After overlap:\n",
      "After num_per_month:\n",
      "collection done\n",
      "in try block\n",
      "Info on temporal\n"
     ]
    },
    {
     "name": "stderr",
     "output_type": "stream",
     "text": [
      "  9%|███████▎                                                                       | 50/536 [11:12<1:40:37, 12.42s/it]"
     ]
    },
    {
     "name": "stdout",
     "output_type": "stream",
     "text": [
      "[307]\n",
      "col_id that is passed COPERNICUS/S2_SR_HARMONIZED\n",
      "After s1 and s2 :\n",
      "After overlap:\n",
      "After num_per_month:\n",
      "collection done\n",
      "in try block\n",
      "Info on temporal\n"
     ]
    },
    {
     "name": "stderr",
     "output_type": "stream",
     "text": [
      " 10%|███████▌                                                                       | 51/536 [11:26<1:44:22, 12.91s/it]"
     ]
    },
    {
     "name": "stdout",
     "output_type": "stream",
     "text": [
      "[379]\n",
      "col_id that is passed COPERNICUS/S2_SR_HARMONIZED\n",
      "After s1 and s2 :\n",
      "After overlap:\n",
      "After num_per_month:\n",
      "collection done\n",
      "in try block\n",
      "Info on temporal\n"
     ]
    },
    {
     "name": "stderr",
     "output_type": "stream",
     "text": [
      " 10%|███████▋                                                                       | 52/536 [11:41<1:50:06, 13.65s/it]"
     ]
    },
    {
     "name": "stdout",
     "output_type": "stream",
     "text": [
      "[577]\n",
      "col_id that is passed COPERNICUS/S2_SR_HARMONIZED\n",
      "After s1 and s2 :\n",
      "After overlap:\n",
      "After num_per_month:\n",
      "collection done\n",
      "in try block\n",
      "Info on temporal\n"
     ]
    },
    {
     "name": "stderr",
     "output_type": "stream",
     "text": [
      " 10%|███████▊                                                                       | 53/536 [11:53<1:46:29, 13.23s/it]"
     ]
    },
    {
     "name": "stdout",
     "output_type": "stream",
     "text": [
      "[415]\n",
      "col_id that is passed COPERNICUS/S2_SR_HARMONIZED\n",
      "After s1 and s2 :\n",
      "After overlap:\n",
      "After num_per_month:\n",
      "collection done\n",
      "in try block\n",
      "Info on temporal\n"
     ]
    },
    {
     "name": "stderr",
     "output_type": "stream",
     "text": [
      " 10%|███████▉                                                                       | 54/536 [12:07<1:47:28, 13.38s/it]"
     ]
    },
    {
     "name": "stdout",
     "output_type": "stream",
     "text": [
      "[349]\n",
      "col_id that is passed COPERNICUS/S2_SR_HARMONIZED\n",
      "After s1 and s2 :\n",
      "After overlap:\n",
      "After num_per_month:\n",
      "collection done\n",
      "in try block\n",
      "Info on temporal\n"
     ]
    },
    {
     "name": "stderr",
     "output_type": "stream",
     "text": [
      " 10%|████████                                                                       | 55/536 [12:21<1:48:19, 13.51s/it]"
     ]
    },
    {
     "name": "stdout",
     "output_type": "stream",
     "text": [
      "[506]\n",
      "col_id that is passed COPERNICUS/S2_SR_HARMONIZED\n",
      "After s1 and s2 :\n",
      "After overlap:\n",
      "After num_per_month:\n",
      "collection done\n",
      "in try block\n",
      "Info on temporal\n"
     ]
    },
    {
     "name": "stderr",
     "output_type": "stream",
     "text": [
      " 10%|████████▎                                                                      | 56/536 [12:33<1:45:13, 13.15s/it]"
     ]
    },
    {
     "name": "stdout",
     "output_type": "stream",
     "text": [
      "[386]\n",
      "col_id that is passed COPERNICUS/S2_SR_HARMONIZED\n",
      "After s1 and s2 :\n",
      "After overlap:\n",
      "After num_per_month:\n",
      "collection done\n",
      "in try block\n",
      "Info on temporal\n"
     ]
    },
    {
     "name": "stderr",
     "output_type": "stream",
     "text": [
      " 11%|████████▍                                                                      | 57/536 [12:46<1:43:40, 12.99s/it]"
     ]
    },
    {
     "name": "stdout",
     "output_type": "stream",
     "text": [
      "[271]\n",
      "col_id that is passed COPERNICUS/S2_SR_HARMONIZED\n",
      "After s1 and s2 :\n",
      "After overlap:\n",
      "After num_per_month:\n",
      "collection done\n",
      "in try block\n",
      "Info on temporal\n"
     ]
    },
    {
     "name": "stderr",
     "output_type": "stream",
     "text": [
      " 11%|████████▌                                                                      | 58/536 [13:00<1:46:22, 13.35s/it]"
     ]
    },
    {
     "name": "stdout",
     "output_type": "stream",
     "text": [
      "[624]\n",
      "col_id that is passed COPERNICUS/S2_SR_HARMONIZED\n",
      "After s1 and s2 :\n",
      "After overlap:\n",
      "After num_per_month:\n",
      "collection done\n",
      "in try block\n",
      "Info on temporal\n"
     ]
    },
    {
     "name": "stderr",
     "output_type": "stream",
     "text": [
      " 11%|████████▋                                                                      | 59/536 [13:12<1:43:21, 13.00s/it]"
     ]
    },
    {
     "name": "stdout",
     "output_type": "stream",
     "text": [
      "[368]\n",
      "col_id that is passed COPERNICUS/S2_SR_HARMONIZED\n",
      "After s1 and s2 :\n",
      "After overlap:\n",
      "After num_per_month:\n",
      "collection done\n",
      "in try block\n",
      "Info on temporal\n"
     ]
    },
    {
     "name": "stderr",
     "output_type": "stream",
     "text": [
      " 11%|████████▊                                                                      | 60/536 [13:25<1:41:22, 12.78s/it]"
     ]
    },
    {
     "name": "stdout",
     "output_type": "stream",
     "text": [
      "[396]\n",
      "col_id that is passed COPERNICUS/S2_SR_HARMONIZED\n",
      "After s1 and s2 :\n",
      "After overlap:\n",
      "After num_per_month:\n",
      "collection done\n",
      "in try block\n",
      "Info on temporal\n"
     ]
    },
    {
     "name": "stderr",
     "output_type": "stream",
     "text": [
      " 11%|████████▉                                                                      | 61/536 [13:40<1:47:49, 13.62s/it]"
     ]
    },
    {
     "name": "stdout",
     "output_type": "stream",
     "text": [
      "[665]\n",
      "col_id that is passed COPERNICUS/S2_SR_HARMONIZED\n",
      "After s1 and s2 :\n",
      "After overlap:\n",
      "After num_per_month:\n",
      "collection done\n",
      "in try block\n",
      "Info on temporal\n"
     ]
    },
    {
     "name": "stderr",
     "output_type": "stream",
     "text": [
      " 12%|█████████▏                                                                     | 62/536 [13:53<1:46:59, 13.54s/it]"
     ]
    },
    {
     "name": "stdout",
     "output_type": "stream",
     "text": [
      "[656]\n",
      "col_id that is passed COPERNICUS/S2_SR_HARMONIZED\n",
      "After s1 and s2 :\n",
      "After overlap:\n",
      "After num_per_month:\n",
      "collection done\n",
      "in try block\n",
      "Info on temporal\n"
     ]
    },
    {
     "name": "stderr",
     "output_type": "stream",
     "text": [
      " 12%|█████████▎                                                                     | 63/536 [14:06<1:43:55, 13.18s/it]"
     ]
    },
    {
     "name": "stdout",
     "output_type": "stream",
     "text": [
      "[554]\n",
      "col_id that is passed COPERNICUS/S2_SR_HARMONIZED\n",
      "After s1 and s2 :\n",
      "After overlap:\n",
      "After num_per_month:\n",
      "collection done\n",
      "in try block\n",
      "Info on temporal\n"
     ]
    },
    {
     "name": "stderr",
     "output_type": "stream",
     "text": [
      " 12%|█████████▍                                                                     | 64/536 [14:21<1:49:07, 13.87s/it]"
     ]
    },
    {
     "name": "stdout",
     "output_type": "stream",
     "text": [
      "[562]\n",
      "col_id that is passed COPERNICUS/S2_SR_HARMONIZED\n",
      "After s1 and s2 :\n",
      "After overlap:\n",
      "After num_per_month:\n",
      "collection done\n",
      "in try block\n",
      "Info on temporal\n"
     ]
    },
    {
     "name": "stderr",
     "output_type": "stream",
     "text": [
      " 12%|█████████▌                                                                     | 65/536 [14:34<1:45:36, 13.45s/it]"
     ]
    },
    {
     "name": "stdout",
     "output_type": "stream",
     "text": [
      "[506]\n",
      "col_id that is passed COPERNICUS/S2_SR_HARMONIZED\n",
      "After s1 and s2 :\n",
      "After overlap:\n",
      "After num_per_month:\n",
      "collection done\n",
      "in try block\n",
      "Info on temporal\n"
     ]
    },
    {
     "name": "stderr",
     "output_type": "stream",
     "text": [
      " 12%|█████████▋                                                                     | 66/536 [14:50<1:52:39, 14.38s/it]"
     ]
    },
    {
     "name": "stdout",
     "output_type": "stream",
     "text": [
      "[984]\n",
      "col_id that is passed COPERNICUS/S2_SR_HARMONIZED\n",
      "After s1 and s2 :\n",
      "After overlap:\n",
      "After num_per_month:\n",
      "collection done\n",
      "in try block\n",
      "Info on temporal\n"
     ]
    },
    {
     "name": "stderr",
     "output_type": "stream",
     "text": [
      " 12%|█████████▉                                                                     | 67/536 [15:04<1:50:32, 14.14s/it]"
     ]
    },
    {
     "name": "stdout",
     "output_type": "stream",
     "text": [
      "[414]\n",
      "col_id that is passed COPERNICUS/S2_SR_HARMONIZED\n",
      "After s1 and s2 :\n",
      "After overlap:\n",
      "After num_per_month:\n",
      "collection done\n",
      "in try block\n",
      "Info on temporal\n"
     ]
    },
    {
     "name": "stderr",
     "output_type": "stream",
     "text": [
      " 13%|██████████                                                                     | 68/536 [15:19<1:51:41, 14.32s/it]"
     ]
    },
    {
     "name": "stdout",
     "output_type": "stream",
     "text": [
      "[536]\n",
      "col_id that is passed COPERNICUS/S2_SR_HARMONIZED\n",
      "After s1 and s2 :\n",
      "After overlap:\n",
      "After num_per_month:\n",
      "collection done\n",
      "in try block\n",
      "Info on temporal\n"
     ]
    },
    {
     "name": "stderr",
     "output_type": "stream",
     "text": [
      " 13%|██████████▏                                                                    | 69/536 [15:33<1:50:44, 14.23s/it]"
     ]
    },
    {
     "name": "stdout",
     "output_type": "stream",
     "text": [
      "[503]\n",
      "col_id that is passed COPERNICUS/S2_SR_HARMONIZED\n",
      "After s1 and s2 :\n",
      "After overlap:\n",
      "After num_per_month:\n",
      "collection done\n",
      "in try block\n",
      "Info on temporal\n"
     ]
    },
    {
     "name": "stderr",
     "output_type": "stream",
     "text": [
      " 13%|██████████▎                                                                    | 70/536 [15:47<1:50:12, 14.19s/it]"
     ]
    },
    {
     "name": "stdout",
     "output_type": "stream",
     "text": [
      "[606]\n",
      "col_id that is passed COPERNICUS/S2_SR_HARMONIZED\n",
      "After s1 and s2 :\n",
      "After overlap:\n",
      "After num_per_month:\n",
      "collection done\n",
      "in try block\n",
      "Info on temporal\n"
     ]
    },
    {
     "name": "stderr",
     "output_type": "stream",
     "text": [
      " 13%|██████████▍                                                                    | 71/536 [15:58<1:43:52, 13.40s/it]"
     ]
    },
    {
     "name": "stdout",
     "output_type": "stream",
     "text": [
      "[505]\n",
      "col_id that is passed COPERNICUS/S2_SR_HARMONIZED\n",
      "After s1 and s2 :\n",
      "After overlap:\n",
      "After num_per_month:\n",
      "collection done\n",
      "in try block\n",
      "Info on temporal\n"
     ]
    },
    {
     "name": "stderr",
     "output_type": "stream",
     "text": [
      " 13%|██████████▌                                                                    | 72/536 [16:13<1:45:36, 13.66s/it]"
     ]
    },
    {
     "name": "stdout",
     "output_type": "stream",
     "text": [
      "[611]\n",
      "col_id that is passed COPERNICUS/S2_SR_HARMONIZED\n",
      "After s1 and s2 :\n",
      "After overlap:\n",
      "After num_per_month:\n",
      "collection done\n",
      "in try block\n",
      "Info on temporal\n"
     ]
    },
    {
     "name": "stderr",
     "output_type": "stream",
     "text": [
      " 14%|██████████▊                                                                    | 73/536 [16:23<1:38:33, 12.77s/it]"
     ]
    },
    {
     "name": "stdout",
     "output_type": "stream",
     "text": [
      "[429]\n",
      "col_id that is passed COPERNICUS/S2_SR_HARMONIZED\n",
      "After s1 and s2 :\n",
      "After overlap:\n",
      "After num_per_month:\n",
      "collection done\n",
      "in try block\n",
      "Info on temporal\n"
     ]
    },
    {
     "name": "stderr",
     "output_type": "stream",
     "text": [
      " 14%|██████████▉                                                                    | 74/536 [16:38<1:42:53, 13.36s/it]"
     ]
    },
    {
     "name": "stdout",
     "output_type": "stream",
     "text": [
      "[613]\n",
      "col_id that is passed COPERNICUS/S2_SR_HARMONIZED\n",
      "After s1 and s2 :\n",
      "After overlap:\n",
      "After num_per_month:\n",
      "collection done\n",
      "in try block\n",
      "Info on temporal\n"
     ]
    },
    {
     "name": "stderr",
     "output_type": "stream",
     "text": [
      " 14%|███████████                                                                    | 75/536 [16:52<1:44:00, 13.54s/it]"
     ]
    },
    {
     "name": "stdout",
     "output_type": "stream",
     "text": [
      "[383]\n",
      "col_id that is passed COPERNICUS/S2_SR_HARMONIZED\n",
      "After s1 and s2 :\n",
      "After overlap:\n",
      "After num_per_month:\n",
      "collection done\n",
      "in try block\n",
      "Info on temporal\n"
     ]
    },
    {
     "name": "stderr",
     "output_type": "stream",
     "text": [
      " 14%|███████████▏                                                                   | 76/536 [17:05<1:43:25, 13.49s/it]"
     ]
    },
    {
     "name": "stdout",
     "output_type": "stream",
     "text": [
      "[481]\n",
      "col_id that is passed COPERNICUS/S2_SR_HARMONIZED\n",
      "After s1 and s2 :\n",
      "After overlap:\n",
      "After num_per_month:\n",
      "collection done\n",
      "in try block\n",
      "Info on temporal\n"
     ]
    },
    {
     "name": "stderr",
     "output_type": "stream",
     "text": [
      " 14%|███████████▎                                                                   | 77/536 [17:18<1:41:09, 13.22s/it]"
     ]
    },
    {
     "name": "stdout",
     "output_type": "stream",
     "text": [
      "[355]\n",
      "col_id that is passed COPERNICUS/S2_SR_HARMONIZED\n",
      "After s1 and s2 :\n",
      "After overlap:\n",
      "After num_per_month:\n",
      "collection done\n",
      "in try block\n",
      "Info on temporal\n"
     ]
    },
    {
     "name": "stderr",
     "output_type": "stream",
     "text": [
      " 15%|███████████▍                                                                   | 78/536 [17:29<1:36:03, 12.58s/it]"
     ]
    },
    {
     "name": "stdout",
     "output_type": "stream",
     "text": [
      "[455]\n",
      "col_id that is passed COPERNICUS/S2_SR_HARMONIZED\n",
      "After s1 and s2 :\n",
      "After overlap:\n",
      "After num_per_month:\n",
      "collection done\n",
      "in try block\n",
      "Info on temporal\n"
     ]
    },
    {
     "name": "stderr",
     "output_type": "stream",
     "text": [
      " 15%|███████████▋                                                                   | 79/536 [17:42<1:37:05, 12.75s/it]"
     ]
    },
    {
     "name": "stdout",
     "output_type": "stream",
     "text": [
      "[326]\n",
      "col_id that is passed COPERNICUS/S2_SR_HARMONIZED\n",
      "After s1 and s2 :\n",
      "After overlap:\n",
      "After num_per_month:\n",
      "collection done\n",
      "in try block\n",
      "Info on temporal\n"
     ]
    },
    {
     "name": "stderr",
     "output_type": "stream",
     "text": [
      " 15%|███████████▊                                                                   | 80/536 [17:56<1:40:18, 13.20s/it]"
     ]
    },
    {
     "name": "stdout",
     "output_type": "stream",
     "text": [
      "[606]\n",
      "col_id that is passed COPERNICUS/S2_SR_HARMONIZED\n",
      "After s1 and s2 :\n",
      "After overlap:\n",
      "After num_per_month:\n",
      "collection done\n",
      "in try block\n",
      "Info on temporal\n"
     ]
    },
    {
     "name": "stderr",
     "output_type": "stream",
     "text": [
      " 15%|███████████▉                                                                   | 81/536 [18:10<1:41:33, 13.39s/it]"
     ]
    },
    {
     "name": "stdout",
     "output_type": "stream",
     "text": [
      "[425]\n",
      "col_id that is passed COPERNICUS/S2_SR_HARMONIZED\n",
      "After s1 and s2 :\n",
      "After overlap:\n",
      "After num_per_month:\n",
      "collection done\n",
      "in try block\n",
      "Info on temporal\n"
     ]
    },
    {
     "name": "stderr",
     "output_type": "stream",
     "text": [
      " 15%|████████████                                                                   | 82/536 [18:21<1:35:12, 12.58s/it]"
     ]
    },
    {
     "name": "stdout",
     "output_type": "stream",
     "text": [
      "[469]\n",
      "col_id that is passed COPERNICUS/S2_SR_HARMONIZED\n",
      "After s1 and s2 :\n",
      "After overlap:\n",
      "After num_per_month:\n",
      "collection done\n",
      "in try block\n",
      "Info on temporal\n"
     ]
    },
    {
     "name": "stderr",
     "output_type": "stream",
     "text": [
      " 15%|████████████▏                                                                  | 83/536 [18:32<1:32:27, 12.25s/it]"
     ]
    },
    {
     "name": "stdout",
     "output_type": "stream",
     "text": [
      "[412]\n",
      "col_id that is passed COPERNICUS/S2_SR_HARMONIZED\n",
      "After s1 and s2 :\n",
      "After overlap:\n",
      "After num_per_month:\n",
      "collection done\n",
      "in try block\n",
      "Info on temporal\n"
     ]
    },
    {
     "name": "stderr",
     "output_type": "stream",
     "text": [
      " 16%|████████████▍                                                                  | 84/536 [18:47<1:37:44, 12.97s/it]"
     ]
    },
    {
     "name": "stdout",
     "output_type": "stream",
     "text": [
      "[572]\n",
      "col_id that is passed COPERNICUS/S2_SR_HARMONIZED\n",
      "After s1 and s2 :\n",
      "After overlap:\n",
      "After num_per_month:\n",
      "collection done\n",
      "in try block\n",
      "Info on temporal\n"
     ]
    },
    {
     "name": "stderr",
     "output_type": "stream",
     "text": [
      " 16%|████████████▌                                                                  | 85/536 [19:02<1:41:54, 13.56s/it]"
     ]
    },
    {
     "name": "stdout",
     "output_type": "stream",
     "text": [
      "[322]\n",
      "col_id that is passed COPERNICUS/S2_SR_HARMONIZED\n",
      "After s1 and s2 :\n",
      "After overlap:\n",
      "After num_per_month:\n",
      "collection done\n",
      "in try block\n",
      "Info on temporal\n"
     ]
    },
    {
     "name": "stderr",
     "output_type": "stream",
     "text": [
      " 16%|████████████▋                                                                  | 86/536 [19:14<1:38:34, 13.14s/it]"
     ]
    },
    {
     "name": "stdout",
     "output_type": "stream",
     "text": [
      "[336]\n",
      "col_id that is passed COPERNICUS/S2_SR_HARMONIZED\n",
      "After s1 and s2 :\n",
      "After overlap:\n",
      "After num_per_month:\n",
      "collection done\n",
      "in try block\n",
      "Info on temporal\n"
     ]
    },
    {
     "name": "stderr",
     "output_type": "stream",
     "text": [
      " 16%|████████████▊                                                                  | 87/536 [19:29<1:41:35, 13.58s/it]"
     ]
    },
    {
     "name": "stdout",
     "output_type": "stream",
     "text": [
      "[932]\n",
      "col_id that is passed COPERNICUS/S2_SR_HARMONIZED\n",
      "After s1 and s2 :\n",
      "After overlap:\n",
      "After num_per_month:\n",
      "collection done\n",
      "in try block\n",
      "Info on temporal\n"
     ]
    },
    {
     "name": "stderr",
     "output_type": "stream",
     "text": [
      " 16%|████████████▉                                                                  | 88/536 [19:44<1:44:05, 13.94s/it]"
     ]
    },
    {
     "name": "stdout",
     "output_type": "stream",
     "text": [
      "[572]\n",
      "col_id that is passed COPERNICUS/S2_SR_HARMONIZED\n",
      "After s1 and s2 :\n",
      "After overlap:\n",
      "After num_per_month:\n",
      "collection done\n",
      "in try block\n",
      "Info on temporal\n"
     ]
    },
    {
     "name": "stderr",
     "output_type": "stream",
     "text": [
      " 17%|█████████████                                                                  | 89/536 [19:56<1:40:01, 13.43s/it]"
     ]
    },
    {
     "name": "stdout",
     "output_type": "stream",
     "text": [
      "[481]\n",
      "col_id that is passed COPERNICUS/S2_SR_HARMONIZED\n",
      "After s1 and s2 :\n",
      "After overlap:\n",
      "After num_per_month:\n",
      "collection done\n",
      "in try block\n",
      "Info on temporal\n"
     ]
    }
   ],
   "source": [
    "\n",
    "prepare_dataset(rpg_file, label_names, id_field, output_dir, col_id, start_date, end_date, num_per_month,cloud_cover, addNDVI, footprint_id, speckle_filter, kernel_size)"
   ]
  },
  {
   "cell_type": "code",
   "execution_count": null,
   "metadata": {},
   "outputs": [],
   "source": []
  }
 ],
 "metadata": {
  "kernelspec": {
   "display_name": "Python 3 (ipykernel)",
   "language": "python",
   "name": "python3"
  },
  "language_info": {
   "codemirror_mode": {
    "name": "ipython",
    "version": 3
   },
   "file_extension": ".py",
   "mimetype": "text/x-python",
   "name": "python",
   "nbconvert_exporter": "python",
   "pygments_lexer": "ipython3",
   "version": "3.10.16"
  }
 },
 "nbformat": 4,
 "nbformat_minor": 4
}
